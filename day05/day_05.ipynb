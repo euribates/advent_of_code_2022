{
 "cells": [
  {
   "cell_type": "markdown",
   "id": "84103af5-bc09-4e1c-964c-b6700aac6397",
   "metadata": {},
   "source": [
    "## Day 5: Supply Stacks\n",
    "\n",
    "The expedition can depart as soon as the final supplies have been unloaded from the ships. Supplies are stored in stacks of marked crates, but because the needed supplies are buried under many other crates, the crates need to be rearranged.\n",
    "\n",
    "The ship has a giant cargo crane capable of moving crates between stacks. To ensure none of the crates get crushed or fall over, the crane operator will rearrange them in a series of carefully-planned steps. After the crates are rearranged, the desired crates will be at the top of each stack.\n",
    "\n",
    "The Elves don't want to interrupt the crane operator during this delicate procedure, but they forgot to ask her which crate will end up where, and they want to be ready to unload them as soon as possible so they can embark.\n",
    "\n",
    "They do, however, have a drawing of the starting stacks of crates and the rearrangement procedure (your puzzle input). For example:\n",
    "\n",
    "```\n",
    "    [D]    \n",
    "[N] [C]    \n",
    "[Z] [M] [P]\n",
    " 1   2   3 \n",
    "\n",
    "move 1 from 2 to 1\n",
    "move 3 from 1 to 3\n",
    "move 2 from 2 to 1\n",
    "move 1 from 1 to 2\n",
    "```\n"
   ]
  },
  {
   "cell_type": "code",
   "execution_count": 1,
   "id": "a9d9ff05-47e6-4a5b-a617-774880846b5a",
   "metadata": {},
   "outputs": [],
   "source": [
    "def values(line: str):\n",
    "    return [\n",
    "        c.strip() or None\n",
    "        for c in line[1::4]\n",
    "    ]"
   ]
  },
  {
   "cell_type": "code",
   "execution_count": 2,
   "id": "e3b2d49e-9a07-4236-9735-13c7894a101c",
   "metadata": {},
   "outputs": [],
   "source": [
    "assert values('    [D]') == [None, 'D']\n",
    "assert values('[N] [C]') == ['N', 'C']\n",
    "assert values('[Z] [M] [P]') == ['Z', 'M', 'P']"
   ]
  },
  {
   "cell_type": "code",
   "execution_count": 3,
   "id": "a219af86-9937-4794-8190-0fb95405bbd8",
   "metadata": {},
   "outputs": [],
   "source": [
    "def load_input(filename):\n",
    "    buffer = []\n",
    "    with open(filename, 'r') as f_in:\n",
    "        for line in f_in:\n",
    "            line = line.rstrip()\n",
    "            if line == '':\n",
    "                buffer.reverse()\n",
    "                yield buffer\n",
    "                buffer = []\n",
    "            else:\n",
    "                buffer.append(line)\n",
    "        yield buffer"
   ]
  },
  {
   "cell_type": "code",
   "execution_count": 4,
   "id": "a8aa291b-0251-4134-bc3e-b1511c012776",
   "metadata": {},
   "outputs": [],
   "source": [
    "initial, ops = load_input('sample.txt')"
   ]
  },
  {
   "cell_type": "code",
   "execution_count": 5,
   "id": "5c73e926-1ea5-4a64-ba61-e83e78c95a34",
   "metadata": {},
   "outputs": [],
   "source": [
    "assert len(initial) == 4\n",
    "assert values(initial[0]) == ['1', '2', '3']\n",
    "assert values(initial[1]) == ['Z', 'M', 'P']\n",
    "assert values(initial[2]) == ['N', 'C']\n",
    "assert values(initial[3]) == [None, 'D']"
   ]
  },
  {
   "cell_type": "code",
   "execution_count": 6,
   "id": "2c84c8fe-da3b-4030-97fa-6c9b42e56e12",
   "metadata": {},
   "outputs": [],
   "source": [
    "assert len(ops) == 4\n",
    "assert ops[0] == 'move 1 from 2 to 1'\n",
    "assert ops[1] == 'move 3 from 1 to 3'\n",
    "assert ops[2] == 'move 2 from 2 to 1'\n",
    "assert ops[3] == 'move 1 from 1 to 2'"
   ]
  },
  {
   "cell_type": "code",
   "execution_count": 7,
   "id": "f0179196-63bf-461f-a26a-85facbc719fa",
   "metadata": {},
   "outputs": [],
   "source": [
    "def create_stacks(initial_data):\n",
    "    iterable = iter(initial_data)\n",
    "    first = values(next(iterable))  # Forget initial rows\n",
    "    num_stacks = len(first)\n",
    "    result = [[] for _ in range(num_stacks)]\n",
    "    for vals  in iterable:\n",
    "        for index, val in enumerate(values(vals)):\n",
    "            if val is not None:\n",
    "                result[index].append(val)\n",
    "    return result"
   ]
  },
  {
   "cell_type": "markdown",
   "id": "31024e6e-51cd-40d4-97ff-908d15a613f6",
   "metadata": {},
   "source": [
    "In this example, there are three stacks of crates. Stack 1 contains two crates: crate `Z` is on the bottom, and crate `N` is on top. Stack 2 contains three crates; from bottom to top, they are crates `M`, `C`, and `D`. Finally, stack 3 contains a single crate, `P`."
   ]
  },
  {
   "cell_type": "code",
   "execution_count": 8,
   "id": "c387758f-0a75-47ef-be34-eb38cfb92311",
   "metadata": {},
   "outputs": [
    {
     "name": "stdout",
     "output_type": "stream",
     "text": [
      "[['Z', 'N'], ['M', 'C', 'D'], ['P']]\n"
     ]
    }
   ],
   "source": [
    "print(create_stacks(initial))"
   ]
  },
  {
   "cell_type": "markdown",
   "id": "d2967dde-0e5b-4c46-b5f6-5da0805be38d",
   "metadata": {},
   "source": [
    "Then, the rearrangement procedure is given. In each step of the procedure, a quantity of crates is moved from one stack to a different stack. In the first step of the above rearrangement procedure, one crate is moved from stack 2 to stack 1, resulting in this configuration:\n",
    "\n",
    "```\n",
    "[D]        \n",
    "[N] [C]    \n",
    "[Z] [M] [P]\n",
    " 1   2   3 \n",
    "```\n",
    "\n",
    "In the second step, three crates are moved from stack 1 to stack 3. Crates are moved one at a time, so the first crate to be moved (D) ends up below the second and third crates:\n",
    "\n",
    "```\n",
    "        [Z]\n",
    "        [N]\n",
    "    [C] [D]\n",
    "    [M] [P]\n",
    " 1   2   3\n",
    "```\n",
    "\n",
    "Then, both crates are moved from stack 2 to stack 1. Again, because crates are moved one at a time, crate C ends up below crate M:\n",
    "\n",
    "```\n",
    "        [Z]\n",
    "        [N]\n",
    "[M]     [D]\n",
    "[C]     [P]\n",
    " 1   2   3\n",
    "```\n",
    "\n",
    "Finally, one crate is moved from stack 1 to stack 2:\n",
    "\n",
    "```\n",
    "        [Z]\n",
    "        [N]\n",
    "        [D]\n",
    "[C] [M] [P]\n",
    " 1   2   3\n",
    "```\n",
    "\n",
    "The Elves just need to know which crate will end up on top of each stack; in this example, the top crates are C in stack 1, M in stack 2, and Z in stack 3, so you should combine these together and give the Elves the message CMZ."
   ]
  },
  {
   "cell_type": "code",
   "execution_count": 9,
   "id": "d158c268-93a0-42b5-a5f7-2446873aedaa",
   "metadata": {},
   "outputs": [],
   "source": [
    "def parse_op(op):\n",
    "    # ops are in the form 'move 1 from 2 to 1'\n",
    "    parts = op.split(' ')\n",
    "    amount = int(parts[1])\n",
    "    from_stack = int(parts[3])\n",
    "    to_stack = int(parts[5])\n",
    "    return (amount, from_stack, to_stack)"
   ]
  },
  {
   "cell_type": "code",
   "execution_count": 10,
   "id": "ae55e371-8540-43a7-8076-8a4ad4e55b40",
   "metadata": {},
   "outputs": [],
   "source": [
    "assert parse_op('move 1 from 2 to 1') == (1, 2, 1)\n",
    "assert parse_op('move 1 from 2 to 3') == (1, 2, 3)\n",
    "assert parse_op('move 3 from 1 to 3') == (3, 1, 3)\n",
    "assert parse_op('move 2 from 2 to 1') == (2, 2, 1)\n",
    "assert parse_op('move 1 from 1 to 2') == (1, 1, 2)"
   ]
  },
  {
   "cell_type": "code",
   "execution_count": 11,
   "id": "56d893b5-5327-4073-95af-f4d8e30dacae",
   "metadata": {},
   "outputs": [],
   "source": [
    "def execute(stacks, ops):\n",
    "    for op in ops:\n",
    "        amount, from_stack, to_stack = parse_op(op)\n",
    "        for _ in range(amount):\n",
    "            item = stacks[from_stack-1].pop()\n",
    "            stacks[to_stack-1].append(item)\n",
    "    return stacks"
   ]
  },
  {
   "cell_type": "code",
   "execution_count": 12,
   "id": "4c1b091a-aee7-426c-9c23-c053dd654b37",
   "metadata": {},
   "outputs": [],
   "source": [
    "initial, ops = load_input('sample.txt')\n",
    "stacks = create_stacks(initial)\n",
    "final = execute(stacks, ops)"
   ]
  },
  {
   "cell_type": "markdown",
   "id": "bde0e955-5428-451c-b828-3fda225fcf3d",
   "metadata": {},
   "source": [
    "... combine these together and give the Elves the message CMZ."
   ]
  },
  {
   "cell_type": "code",
   "execution_count": 13,
   "id": "a9298f23-5071-4b05-bc11-2bd81bb0159c",
   "metadata": {},
   "outputs": [],
   "source": [
    "def solution_one(filename):\n",
    "    initial, ops = load_input(filename)\n",
    "    stacks = create_stacks(initial)\n",
    "    final = execute(stacks, ops)\n",
    "    return ''.join([\n",
    "        stack[-1]\n",
    "        for stack in final\n",
    "    ])\n",
    "    \n",
    "assert solution_one('sample.txt') == 'CMZ'"
   ]
  },
  {
   "cell_type": "code",
   "execution_count": 14,
   "id": "a5dc1920-d49d-4915-8bd0-80cc8b94cf0a",
   "metadata": {},
   "outputs": [
    {
     "name": "stdout",
     "output_type": "stream",
     "text": [
      "Solution part one: WCZTHTMPS\n"
     ]
    }
   ],
   "source": [
    "sol = solution_one('input.txt')\n",
    "print(f\"Solution part one: {sol}\")"
   ]
  },
  {
   "cell_type": "markdown",
   "id": "a41a3282-491d-4aac-b12d-11b527329156",
   "metadata": {},
   "source": [
    "## Part Two\n",
    "\n",
    "As you watch the crane operator expertly rearrange the crates, you notice the process isn't following your prediction.\n",
    "\n",
    "Some mud was covering the writing on the side of the crane, and you quickly wipe it away. The crane isn't a CrateMover 9000 - it's a **CrateMover 9001**.\n",
    "\n",
    "The CrateMover 9001 is notable for many new and exciting features: air conditioning, leather seats, an extra cup holder, and the ability to pick up and move multiple crates at once.\n",
    "\n",
    "Again considering the example above, the crates begin in the same configuration:\n",
    "\n",
    "```\n",
    "    [D]    \n",
    "[N] [C]    \n",
    "[Z] [M] [P]\n",
    " 1   2   3 \n",
    "```\n",
    "\n",
    "Moving a single crate from stack 2 to stack 1 behaves the same as before:\n",
    "\n",
    "```\n",
    "[D]        \n",
    "[N] [C]    \n",
    "[Z] [M] [P]\n",
    " 1   2   3 \n",
    "```\n",
    "\n",
    "However, the action of moving three crates from stack 1 to stack 3 means that those three moved crates stay in the same order, resulting in this new configuration:\n",
    "\n",
    "```\n",
    "        [D]\n",
    "        [N]\n",
    "    [C] [Z]\n",
    "    [M] [P]\n",
    " 1   2   3\n",
    "```\n",
    "\n",
    "Next, as both crates are moved from stack 2 to stack 1, they retain their order as well:\n",
    "\n",
    "```\n",
    "        [D]\n",
    "        [N]\n",
    "[C]     [Z]\n",
    "[M]     [P]\n",
    " 1   2   3\n",
    "```\n",
    "\n",
    "Finally, a single crate is still moved from stack 1 to stack 2, but now it's crate C that gets moved:\n",
    "\n",
    "```\n",
    "        [D]\n",
    "        [N]\n",
    "        [Z]\n",
    "[M] [C] [P]\n",
    " 1   2   3\n",
    "```"
   ]
  },
  {
   "cell_type": "code",
   "execution_count": 15,
   "id": "4578a625-27b2-4986-a27c-dfdb584b70b3",
   "metadata": {},
   "outputs": [],
   "source": [
    "def execute_two(stacks, ops):\n",
    "    for op in ops:\n",
    "        amount, from_stack, to_stack = parse_op(op)\n",
    "        items = stacks[from_stack-1][-amount:]\n",
    "        stacks[from_stack-1] = stacks[from_stack-1][:-amount]\n",
    "        stacks[to_stack-1].extend(items)\n",
    "    return stacks\n",
    "\n",
    "def solution_two(filename):\n",
    "    initial, ops = load_input(filename)\n",
    "    stacks = create_stacks(initial)\n",
    "    final = execute_two(stacks, ops)\n",
    "    return ''.join([\n",
    "        stack[-1]\n",
    "        for stack in final\n",
    "    ])\n",
    "    "
   ]
  },
  {
   "cell_type": "markdown",
   "id": "a9febeff-97dc-40f0-b52e-6450145e75b7",
   "metadata": {},
   "source": [
    "In this example, the CrateMover 9001 has put the crates in a totally different order: MCD."
   ]
  },
  {
   "cell_type": "code",
   "execution_count": 16,
   "id": "6b50bb67-6736-497b-88a1-cc07d7cb2470",
   "metadata": {},
   "outputs": [],
   "source": [
    "assert solution_two('sample.txt') == 'MCD'"
   ]
  },
  {
   "cell_type": "markdown",
   "id": "6dba32cb-9775-42e8-b734-66aed0ba3901",
   "metadata": {},
   "source": [
    "Before the rearrangement process finishes, update your simulation so that the Elves know where they should stand to be ready to unload the final supplies. After the rearrangement procedure completes, what crate ends up on top of each stack?"
   ]
  },
  {
   "cell_type": "code",
   "execution_count": 17,
   "id": "9014092c-f5c2-4b68-a936-715a6ab142a8",
   "metadata": {},
   "outputs": [
    {
     "name": "stdout",
     "output_type": "stream",
     "text": [
      "Solution part two: BLSGJSDTS\n"
     ]
    }
   ],
   "source": [
    "sol = solution_two('input.txt')\n",
    "print(f\"Solution part two: {sol}\")"
   ]
  }
 ],
 "metadata": {
  "kernelspec": {
   "display_name": "Python 3 (ipykernel)",
   "language": "python",
   "name": "python3"
  },
  "language_info": {
   "codemirror_mode": {
    "name": "ipython",
    "version": 3
   },
   "file_extension": ".py",
   "mimetype": "text/x-python",
   "name": "python",
   "nbconvert_exporter": "python",
   "pygments_lexer": "ipython3",
   "version": "3.10.6"
  }
 },
 "nbformat": 4,
 "nbformat_minor": 5
}
