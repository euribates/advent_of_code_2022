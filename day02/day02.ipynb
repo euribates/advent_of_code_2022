{
 "cells": [
  {
   "cell_type": "markdown",
   "id": "7dcf786f-2e08-42a7-8a49-6715f60395fb",
   "metadata": {},
   "source": [
    "## Day 2: Rock Paper Scissors"
   ]
  },
  {
   "cell_type": "markdown",
   "id": "7c6bd5c4-3a3d-4323-95ba-15a7ee909bc8",
   "metadata": {},
   "source": [
    "Appreciative of your help yesterday, one Elf gives you an encrypted strategy guide (your puzzle input) that they say will be sure to help you win. \"The first column is what your opponent is going to play: A for Rock, B for Paper, and C for Scissors. The second column--\" Suddenly, the Elf is called away to help with someone's tent.\n",
    "\n",
    "The second column, you reason, must be what you should play in response: X for Rock, Y for Paper, and Z for Scissors. Winning every time would be suspicious, so the responses must have been carefully chosen.\n",
    "\n",
    "The winner of the whole tournament is the player with the highest score. Your total score is the sum of your scores for each round. The score for a single round is the score for the shape you selected (1 for Rock, 2 for Paper, and 3 for Scissors) plus the score for the outcome of the round (0 if you lost, 3 if the round was a draw, and 6 if you won).\n",
    "\n",
    "Since you can't be sure if the Elf is trying to help you or trick you, you should calculate the score you would get if you were to follow the strategy guide.\n",
    "\n",
    "For example, suppose you were given the following strategy guide:\n",
    "\n",
    "```\n",
    "A Y\n",
    "B X\n",
    "C Z\n",
    "```\n",
    "\n",
    "This strategy guide predicts and recommends the following:\n",
    "\n",
    "- In the first round, your opponent will choose Rock (A), and you should choose Paper (Y). This ends in a win for you with a score of 8 (2 because you chose Paper + 6 because you won).\n",
    "\n",
    "- In the second round, your opponent will choose Paper (B), and you should choose Rock (X). This ends in a loss for you with a score of 1 (1 + 0).\n",
    "\n",
    "- The third round is a draw with both players choosing Scissors, giving you a score of 3 + 3 = 6.\n",
    "\n",
    "In this example, if you were to follow the strategy guide, you would get a total score of 15 (8 + 1 + 6).\n",
    "\n",
    "What would your total score be if everything goes exactly according to your strategy guide?"
   ]
  },
  {
   "cell_type": "code",
   "execution_count": 22,
   "id": "4b0107cf-8cdb-41d4-833d-19a550faae80",
   "metadata": {},
   "outputs": [],
   "source": [
    "def load_input(filename):\n",
    "    with open(filename, 'r', encoding='utf-8') as f_in:\n",
    "        for line in f_in.readlines():\n",
    "            yield tuple(line.strip().split())"
   ]
  },
  {
   "cell_type": "code",
   "execution_count": 25,
   "id": "e5ff5e52-de09-48a1-915e-95d20037bc1f",
   "metadata": {},
   "outputs": [],
   "source": [
    "assert list(load_input('sample.txt')) == [\n",
    "    ('A', 'Y'),\n",
    "    ('B', 'X'),\n",
    "    ('C', 'Z'),\n",
    "]"
   ]
  },
  {
   "cell_type": "code",
   "execution_count": 35,
   "id": "a97290ad-4be0-4005-82b9-61f760d3930a",
   "metadata": {},
   "outputs": [],
   "source": [
    "# Matriz de valores\n",
    "\n",
    "Score = {\n",
    "    ('A', 'X'): 3 + 1,\n",
    "    ('A', 'Y'): 6 + 2,\n",
    "    ('A', 'Z'): 0 + 3,\n",
    "    ('B', 'X'): 0 + 1,\n",
    "    ('B', 'Y'): 3 + 2,\n",
    "    ('B', 'Z'): 6 + 3,\n",
    "    ('C', 'X'): 6 + 1,\n",
    "    ('C', 'Y'): 0 + 2,\n",
    "    ('C', 'Z'): 3 + 3,    \n",
    "}"
   ]
  },
  {
   "cell_type": "code",
   "execution_count": 47,
   "id": "8bcee2d2-2a3e-40a7-8366-d5036c989154",
   "metadata": {},
   "outputs": [],
   "source": [
    "def p(s):\n",
    "    if s in 'AX':\n",
    "        return 'Piedra'\n",
    "    elif s in 'BY':\n",
    "        return 'Papel'\n",
    "    elif s in 'CZ':\n",
    "        return 'Tijeras'\n",
    "    raise ValueError(f'Valor incorrecto esperaba A, B, C, X, Y, Z, no {s}')"
   ]
  },
  {
   "cell_type": "code",
   "execution_count": 48,
   "id": "d7b15872-5218-4a0c-a9c1-5e010a067fcd",
   "metadata": {},
   "outputs": [
    {
     "name": "stdout",
     "output_type": "stream",
     "text": [
      "oponente juega Piedra yo juego Piedra -> 4\n",
      "oponente juega Piedra yo juego Papel -> 8\n",
      "oponente juega Piedra yo juego Tijeras -> 3\n",
      "oponente juega Papel yo juego Piedra -> 1\n",
      "oponente juega Papel yo juego Papel -> 5\n",
      "oponente juega Papel yo juego Tijeras -> 9\n",
      "oponente juega Tijeras yo juego Piedra -> 7\n",
      "oponente juega Tijeras yo juego Papel -> 2\n",
      "oponente juega Tijeras yo juego Tijeras -> 6\n"
     ]
    }
   ],
   "source": [
    "for oponent in 'ABC':\n",
    "    for player in 'XYZ':\n",
    "        v = Score[(oponent, player)]\n",
    "        print(f'oponente juega {p(oponent)} yo juego {p(player)} -> {v}')"
   ]
  },
  {
   "cell_type": "code",
   "execution_count": 49,
   "id": "224b966a-ca3e-4bd7-9723-fdbde71fa759",
   "metadata": {},
   "outputs": [],
   "source": [
    "def solution_01(filename):\n",
    "    return sum(\n",
    "        Score[item]\n",
    "        for item in load_input(filename)\n",
    "    )"
   ]
  },
  {
   "cell_type": "code",
   "execution_count": 50,
   "id": "6c667d4a-9ae7-4370-9a21-a212763b4d74",
   "metadata": {},
   "outputs": [],
   "source": [
    "assert solution_01(\"sample.txt\") == 15"
   ]
  },
  {
   "cell_type": "code",
   "execution_count": 51,
   "id": "1c0470ea-f9df-4651-9dd9-e48cfdcfdf95",
   "metadata": {},
   "outputs": [
    {
     "name": "stdout",
     "output_type": "stream",
     "text": [
      "Solution poart 1: 13682\n"
     ]
    }
   ],
   "source": [
    "sol = solution_01('input.txt')\n",
    "print(f\"Solution poart 1: {sol}\")"
   ]
  },
  {
   "cell_type": "code",
   "execution_count": 52,
   "id": "3eea88ad-a73b-4733-86a5-2369a1b949f7",
   "metadata": {},
   "outputs": [],
   "source": [
    "## Parte 2"
   ]
  },
  {
   "cell_type": "markdown",
   "id": "f99eb4dc-1474-40c4-be52-b3b074f8980a",
   "metadata": {},
   "source": [
    "--- Part Two ---\n",
    "\n",
    "The Elf finishes helping with the tent and sneaks back over to you. \"Anyway, the second column says how the round needs to end: X means you need to lose, Y means you need to end the round in a draw, and Z means you need to win. Good luck!\"\n",
    "\n",
    "The total score is still calculated in the same way, but now you need to figure out what shape to choose so the round ends as indicated. The example above now goes like this:\n",
    "\n",
    "- In the first round, your opponent will choose Rock (A), and you need the round to end in a draw (Y), so you also choose Rock. This gives you a score of 1 + 3 = 4.\n",
    "\n",
    "- In the second round, your opponent will choose Paper (B), and you choose Rock so you lose (X) with a score of 1 + 0 = 1.\n",
    "\n",
    "- In the third round, you will defeat your opponent's Scissors with Rock for a score of 1 + 6 = 7.\n",
    "\n",
    "Now that you're correctly decrypting the ultra top secret strategy guide, you would get a total score of 12."
   ]
  },
  {
   "cell_type": "code",
   "execution_count": 53,
   "id": "1e9e1a24-2535-4082-b694-03812a91d9f6",
   "metadata": {},
   "outputs": [],
   "source": [
    "Score_2 = {\n",
    "    ('A', 'X'): 0 + 3,\n",
    "    ('A', 'Y'): 3 + 1,\n",
    "    ('A', 'Z'): 6 + 2,\n",
    "    ('B', 'X'): 0 + 1,\n",
    "    ('B', 'Y'): 3 + 2,\n",
    "    ('B', 'Z'): 6 + 3,\n",
    "    ('C', 'X'): 0 + 2,\n",
    "    ('C', 'Y'): 3 + 3,\n",
    "    ('C', 'Z'): 6 + 1,    \n",
    "}\n",
    "\n",
    "def solution_02(filename):\n",
    "    return sum(\n",
    "        Score_2[item]\n",
    "        for item in load_input(filename)\n",
    "    )\n",
    "\n",
    "assert solution_02('sample.txt') == 12"
   ]
  },
  {
   "cell_type": "code",
   "execution_count": 54,
   "id": "38ee9ff2-b07a-4076-bb9f-213d6b1bb1cf",
   "metadata": {},
   "outputs": [
    {
     "name": "stdout",
     "output_type": "stream",
     "text": [
      "Solution part 2: 12881\n"
     ]
    }
   ],
   "source": [
    "sol = solution_02('input.txt')\n",
    "print(f\"Solution part 2: {sol}\")"
   ]
  },
  {
   "cell_type": "code",
   "execution_count": null,
   "id": "e64dddac-1da5-435e-9eb8-4701fc9b10bf",
   "metadata": {},
   "outputs": [],
   "source": []
  }
 ],
 "metadata": {
  "kernelspec": {
   "display_name": "Python 3",
   "language": "python",
   "name": "python3"
  },
  "language_info": {
   "codemirror_mode": {
    "name": "ipython",
    "version": 3
   },
   "file_extension": ".py",
   "mimetype": "text/x-python",
   "name": "python",
   "nbconvert_exporter": "python",
   "pygments_lexer": "ipython3",
   "version": "3.10.6"
  }
 },
 "nbformat": 4,
 "nbformat_minor": 5
}
