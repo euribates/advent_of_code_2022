{
 "cells": [
  {
   "cell_type": "markdown",
   "id": "bfe30d6d-a9ac-4942-b65a-79d60bea5a6d",
   "metadata": {},
   "source": [
    "## Day 20: Grove Positioning System\n",
    "\n",
    "It's finally time to meet back up with the Elves. When you try to contact them, however, you get no reply. Perhaps you're out of range?\n",
    "\n",
    "You know they're headed to the grove where the star fruit grows, so if you can figure out where that is, you should be able to meet back up with them.\n",
    "\n",
    "Fortunately, your handheld device has a file (your puzzle input) that contains the grove's coordinates! Unfortunately, the file is encrypted - just in case the device were to fall into the wrong hands.\n",
    "\n",
    "Maybe you can decrypt it?\n",
    "\n",
    "When you were still back at the camp, you overheard some Elves talking about coordinate file encryption. The main operation involved in decrypting the file is called mixing.\n",
    "\n",
    "The encrypted file is a list of numbers. To mix the file, move each number forward or backward in the file a number of positions equal to the value of the number being moved. The list is circular, so moving a number off one end of the list wraps back around to the other end as if the ends were connected.\n",
    "\n",
    "For example, to move the 1 in a sequence like 4, 5, 6, 1, 7, 8, 9, the 1 moves one position forward: 4, 5, 6, 7, 1, 8, 9. To move the -2 in a sequence like 4, -2, 5, 6, 7, 8, 9, the -2 moves two positions backward, wrapping around: 4, 5, 6, 7, 8, -2, 9.\n",
    "\n",
    "The numbers should be moved in the order they originally appear in the encrypted file. Numbers moving around during the mixing process do not change the order in which the numbers are moved.\n",
    "\n",
    "Consider this encrypted file:\n",
    "\n",
    "```\n",
    "1\n",
    "2\n",
    "-3\n",
    "3\n",
    "-2\n",
    "0\n",
    "4\n",
    "```\n",
    "\n",
    "Mixing this file proceeds as follows:\n",
    "\n",
    "```\n",
    "Initial arrangement:\n",
    "1, 2, -3, 3, -2, 0, 4\n",
    "\n",
    "1 moves between 2 and -3:\n",
    "2, 1, -3, 3, -2, 0, 4\n",
    "\n",
    "2 moves between -3 and 3:\n",
    "1, -3, 2, 3, -2, 0, 4\n",
    "\n",
    "-3 moves between -2 and 0:\n",
    "1, 2, 3, -2, -3, 0, 4\n",
    "\n",
    "3 moves between 0 and 4:\n",
    "1, 2, -2, -3, 0, 3, 4\n",
    "\n",
    "-2 moves between 4 and 1:\n",
    "1, 2, -3, 0, 3, 4, -2\n",
    "\n",
    "0 does not move:\n",
    "1, 2, -3, 0, 3, 4, -2\n",
    "\n",
    "4 moves between -3 and 0:\n",
    "1, 2, -3, 4, 0, 3, -2\n",
    "```"
   ]
  },
  {
   "cell_type": "code",
   "execution_count": 1,
   "id": "440b0627-6c0e-4a89-a225-ccf14c657d1c",
   "metadata": {},
   "outputs": [],
   "source": [
    "import pytest\n",
    "from icecream import ic\n",
    "from typing import Iterable"
   ]
  },
  {
   "cell_type": "code",
   "execution_count": 2,
   "id": "56355a0f-f2da-46ca-b78d-ef2a9054e484",
   "metadata": {},
   "outputs": [],
   "source": [
    "def load_input(filename):\n",
    "    with open(filename, 'r') as f_input:\n",
    "        for line in f_input:\n",
    "            line = line.strip()\n",
    "            yield int(line)"
   ]
  },
  {
   "cell_type": "code",
   "execution_count": 3,
   "id": "8d2eb4d5-5795-4caf-a3da-626a593d9034",
   "metadata": {},
   "outputs": [],
   "source": [
    "assert list(load_input('sample.txt')) == [\n",
    "    1,\n",
    "    2,\n",
    "    -3,\n",
    "    3,\n",
    "    -2,\n",
    "    0,\n",
    "    4,\n",
    "]"
   ]
  },
  {
   "cell_type": "markdown",
   "id": "8516fc1c-79d9-4a85-bef7-7b78cae638e2",
   "metadata": {},
   "source": [
    "> Como tenemos que mover los números por orden, y están repetidos en el problema final, tenemos que poder reconocer si un número se ha movido ya o no. Aquí hacemos la cutrada de volver a ponerlo en la lista en forma de texto. Así, el próximo `index` no  lo localizará. Feo de cojones pero funciona."
   ]
  },
  {
   "cell_type": "code",
   "execution_count": 4,
   "id": "6732723f-aeb6-45b6-be94-0227db7141a4",
   "metadata": {},
   "outputs": [],
   "source": [
    "def move(numbers: [int], num:int, tron=False) -> [int]:\n",
    "    size = len(numbers)\n",
    "    if num == 0:\n",
    "        if tron:\n",
    "            print(f\"{num} does not move:\")\n",
    "            print(\", \".join([str(n) for n in numbers]), end=\"\\n\\n\")\n",
    "        return numbers\n",
    "    pos = numbers.index(num)\n",
    "    assert num == numbers.pop(pos)\n",
    "    # ic(f'Now working with the number {num} in {pos}')\n",
    "    new_pos = (num + pos) % (size - 1)  # Because the pop\n",
    "    # ic('- moves to', new_pos)\n",
    "    if tron:\n",
    "        print(f\"{num} moves between\", end=' ') \n",
    "        if new_pos == 0:\n",
    "            val_from = numbers[-1]\n",
    "            val_to = numbers[0]\n",
    "        elif new_pos == 1:\n",
    "            val_from = numbers[0]\n",
    "            val_to = numbers[1]\n",
    "        elif new_pos == size - 1:\n",
    "            val_from = numbers[-2]\n",
    "            val_to = numbers[-1]\n",
    "        elif new_pos == size:\n",
    "            val_from = numbers[-1]\n",
    "            val_to = numbers[0]\n",
    "        else:\n",
    "            val_from = numbers[new_pos-1]\n",
    "            val_to = numbers[new_pos]\n",
    "        print(f\"{val_from} and {val_to} [{pos} -> {new_pos}] \")    \n",
    "    # ic(pos, new_pos, num)\n",
    "    if new_pos == 0:\n",
    "        numbers.append(str(num))   \n",
    "    else:\n",
    "        numbers.insert(new_pos, str(num))\n",
    "    if tron:\n",
    "        print(\", \".join([repr(n) for n in numbers]), end=\"\\n\\n\")\n",
    "    return numbers"
   ]
  },
  {
   "cell_type": "code",
   "execution_count": 5,
   "id": "fdf75432-113a-4b21-b1ff-daba5f751f95",
   "metadata": {},
   "outputs": [
    {
     "name": "stdout",
     "output_type": "stream",
     "text": [
      "2 moves between 7 and 4 [0 -> 2] \n",
      "1, 7, '2', 4, 5\n",
      "\n",
      "1 moves between 123 and 2 [0 -> 1] \n",
      "123, '1', 2, 4, 5\n",
      "\n",
      "0 does not move:\n",
      "0, 1, 2, 4, 5\n",
      "\n"
     ]
    }
   ],
   "source": [
    "assert move([2, 1, 7, 4, 5], 2, tron=True) == [1, 7, '2', 4, 5]\n",
    "assert move([1, 123, 2, 4, 5], 1, tron=True) == [123, '1', 2, 4, 5]\n",
    "assert move([0, 1, 2, 4, 5], 0, tron=True) == [0, 1, 2, 4, 5]"
   ]
  },
  {
   "cell_type": "code",
   "execution_count": 6,
   "id": "5ed650c3-d279-4aa0-8196-97cc36b686ba",
   "metadata": {},
   "outputs": [],
   "source": [
    "assert move([-1, 0, 1, 2, 4, 5], -1) == [0, 1, 2, 4, '-1', 5]\n",
    "assert move([-2, 0, 1, 2, 4, 5], -2) == [0, 1, 2, '-2', 4, 5]\n",
    "assert move([-3, 0, 1, 2, 4, 5], -3) == [0, 1, '-3', 2, 4, 5]\n",
    "assert move([-4, 0, 1, 2, 4, 5], -4) == [0, '-4', 1, 2, 4, 5]\n",
    "assert move([-5, 0, 1, 2, 4, 5], -5) == [0, 1, 2, 4, 5, '-5']\n",
    "\n",
    "assert move([-6, 0, 1, 2, 4, 5], -6) == [0, 1, 2, 4, '-6', 5]\n",
    "assert move([-7, 0, 1, 2, 4, 5], -7) == [0, 1, 2, '-7', 4, 5]\n",
    "assert move([-8, 0, 1, 2, 4, 5], -8) == [0, 1, '-8', 2, 4, 5]\n",
    "assert move([-9, 0, 1, 2, 4, 5], -9) == [0, '-9', 1, 2, 4, 5]\n",
    "assert move([-10, 0, 1, 2, 4, 5], -10) == [0, 1, 2, 4, 5, '-10']\n",
    "assert move([-11, 0, 1, 2, 4, 5], -11) == [0, 1, 2, 4, '-11', 5]"
   ]
  },
  {
   "cell_type": "code",
   "execution_count": 7,
   "id": "08e37a44-a4ff-404a-bd56-b20e74340ccb",
   "metadata": {},
   "outputs": [],
   "source": [
    "source = load_input('input.txt')  \n",
    "numbers = list(source)\n",
    "num = numbers[0]\n",
    "\n",
    "assert num == -1235\n",
    "assert numbers[0] == num\n",
    "assert numbers[159] == num\n",
    "assert numbers[3091] == num\n",
    "numbers = move(numbers, num) \n",
    "assert int(numbers[158]) == num\n",
    "assert int(numbers[3090]) == num\n",
    "assert int(numbers[3764]) == num\n"
   ]
  },
  {
   "cell_type": "code",
   "execution_count": 8,
   "id": "c24fb1c6-e819-4c6d-bdf9-b6c9292408b0",
   "metadata": {
    "tags": []
   },
   "outputs": [],
   "source": [
    "# Testing negatives\n",
    "\n",
    "assert move([1, 4, -2, 5, 6, 7, 8, 9], -2) == [1, 4, 5, 6, 7, 8, 9, '-2']\n",
    "assert move([4, -2, 5, 6, 7, 8, 9], -2) == [4, 5, 6, 7, 8, '-2', 9]\n",
    "assert move([0, 1, 4, -2, 5, 6, 7, 8, 9], -2) == [0, '-2', 1, 4, 5, 6, 7, 8, 9]"
   ]
  },
  {
   "cell_type": "code",
   "execution_count": 9,
   "id": "9d5faa05-1dac-4cb4-8b8d-91bbfa496f4c",
   "metadata": {
    "tags": []
   },
   "outputs": [],
   "source": [
    "# Testing ppsitive numbers\n",
    "\n",
    "assert move([4, 7, 5, 2, 3, 8, 9], 2) == [4, 7, 5, 3, 8, '2', 9]\n",
    "assert move([4, 9, 7, 5, 2, 3, 8], 2) == [4, 9, 7, 5, 3, 8, '2']\n",
    "assert move([4, 9, 7, 8, 5, 2, 3], 2) == [4, '2', 9, 7, 8, 5, 3]\n",
    "assert move([4, 9, 7, 8, 5, 3, 2], 2) == [4, 9, '2', 7, 8, 5, 3]"
   ]
  },
  {
   "cell_type": "code",
   "execution_count": 10,
   "id": "b1be93a0-5784-42e0-8be9-9ed0fc413699",
   "metadata": {},
   "outputs": [
    {
     "name": "stdout",
     "output_type": "stream",
     "text": [
      "-1 moves between 1 and 2 [0 -> 6] \n",
      "4, 9, 7, -1, 5, 1, '-1', 2\n",
      "\n"
     ]
    }
   ],
   "source": [
    "# Testing repeated numbers\n",
    "\n",
    "assert move([1, 4, 9, 7, 1, 5, 1, 2], 1) == [4, '1', 9, 7, 1, 5, 1, 2]\n",
    "assert move([4, '1', 9, 7, 1, 5, 1, 2], 1) == [4, '1', 9, 7, 5, '1', 1, 2]\n",
    "assert move([4, '1', 9, 7, 5, '1', 1, 2], 1) == [4, '1', 9, 7, 5, '1', 2, '1']\n",
    "assert move([-1, 4, 9, 7, -1, 5, 1, 2], -1, tron=True) == [4, 9, 7, -1, 5, 1, '-1', 2]"
   ]
  },
  {
   "cell_type": "code",
   "execution_count": 11,
   "id": "ef0034d6-6fc6-4059-8168-9c34e3a3987c",
   "metadata": {},
   "outputs": [],
   "source": [
    "def solution_one(source: Iterable, tron=False):\n",
    "    code = list(iter(source))\n",
    "    assert 0 in code\n",
    "    size = len(code)\n",
    "    if tron:\n",
    "        print(\"Initial arrangement:\")\n",
    "        print(\", \".join([str(n) for n in code]), end=\"\\n\\n\")\n",
    "    for num in code[:]:\n",
    "        code = move(code, num, tron=tron)\n",
    "    zero_pos = code.index(0) \n",
    "    after_1k = int(code[(zero_pos + 1000) % size])\n",
    "    after_2k = int(code[(zero_pos + 2000) % size])\n",
    "    after_3k = int(code[(zero_pos + 3000) % size])\n",
    "    print(f\"{after_1k} + {after_2k} + {after_3k} = {after_1k + after_2k + after_3k}\")\n",
    "    return (after_1k + after_2k + after_3k)    "
   ]
  },
  {
   "cell_type": "code",
   "execution_count": 12,
   "id": "4c3eadd6-ffae-4e1c-afbd-7c096b939b11",
   "metadata": {},
   "outputs": [
    {
     "name": "stdout",
     "output_type": "stream",
     "text": [
      "Initial arrangement:\n",
      "1, 2, -3, 3, -2, 0, 4\n",
      "\n",
      "1 moves between 2 and -3 [0 -> 1] \n",
      "2, '1', -3, 3, -2, 0, 4\n",
      "\n",
      "2 moves between -3 and 3 [0 -> 2] \n",
      "'1', -3, '2', 3, -2, 0, 4\n",
      "\n",
      "-3 moves between -2 and 0 [1 -> 4] \n",
      "'1', '2', 3, -2, '-3', 0, 4\n",
      "\n",
      "3 moves between 0 and 4 [2 -> 5] \n",
      "'1', '2', -2, '-3', 0, '3', 4\n",
      "\n",
      "-2 moves between 4 and 1 [2 -> 0] \n",
      "'1', '2', '-3', 0, '3', 4, '-2'\n",
      "\n",
      "0 does not move:\n",
      "1, 2, -3, 0, 3, 4, -2\n",
      "\n",
      "4 moves between -3 and 0 [5 -> 3] \n",
      "'1', '2', '-3', '4', 0, '3', '-2'\n",
      "\n",
      "4 + -3 + 2 = 3\n"
     ]
    }
   ],
   "source": [
    "assert solution_one(load_input('sample.txt'), tron=True) == 3"
   ]
  },
  {
   "cell_type": "code",
   "execution_count": 13,
   "id": "a7e43a56-8f2d-4327-9670-90c270f02bce",
   "metadata": {},
   "outputs": [
    {
     "name": "stdout",
     "output_type": "stream",
     "text": [
      "Initial arrangement:\n",
      "1, 0, 2, 10, 4, -3, -2, 3, -1, -4\n",
      "\n",
      "1 moves between 0 and 2 [0 -> 1] \n",
      "0, '1', 2, 10, 4, -3, -2, 3, -1, -4\n",
      "\n",
      "0 does not move:\n",
      "0, 1, 2, 10, 4, -3, -2, 3, -1, -4\n",
      "\n",
      "2 moves between 4 and -3 [2 -> 4] \n",
      "0, '1', 10, 4, '2', -3, -2, 3, -1, -4\n",
      "\n",
      "10 moves between 4 and 2 [2 -> 3] \n",
      "0, '1', 4, '10', '2', -3, -2, 3, -1, -4\n",
      "\n",
      "4 moves between -2 and 3 [2 -> 6] \n",
      "0, '1', '10', '2', -3, -2, '4', 3, -1, -4\n",
      "\n",
      "-3 moves between 0 and 1 [4 -> 1] \n",
      "0, '-3', '1', '10', '2', -2, '4', 3, -1, -4\n",
      "\n",
      "-2 moves between 1 and 10 [5 -> 3] \n",
      "0, '-3', '1', '-2', '10', '2', '4', 3, -1, -4\n",
      "\n",
      "3 moves between 0 and -3 [7 -> 1] \n",
      "0, '3', '-3', '1', '-2', '10', '2', '4', -1, -4\n",
      "\n",
      "-1 moves between 2 and 4 [8 -> 7] \n",
      "0, '3', '-3', '1', '-2', '10', '2', '-1', '4', -4\n",
      "\n",
      "-4 moves between -2 and 10 [9 -> 5] \n",
      "0, '3', '-3', '1', '-2', '-4', '10', '2', '-1', '4'\n",
      "\n",
      "0 + 0 + 0 = 0\n"
     ]
    },
    {
     "data": {
      "text/plain": [
       "0"
      ]
     },
     "execution_count": 13,
     "metadata": {},
     "output_type": "execute_result"
    }
   ],
   "source": [
    "solution_one(load_input('test.txt'), tron=True)"
   ]
  },
  {
   "cell_type": "markdown",
   "id": "5c136d9e-e695-43af-9364-00e5f32b6fc8",
   "metadata": {},
   "source": [
    "Then, the grove coordinates can be found by looking at the **1000th**, **2000th**, and **3000th** numbers after the value `0`, wrapping around the list as necessary. In the above example, the 1000th number after `0` is `4`, the 2000th is `-3`, and the 3000th is `2`; adding these together produces **3**."
   ]
  },
  {
   "cell_type": "code",
   "execution_count": 14,
   "id": "3bde172e-155e-4447-b7bd-fba409aabe7e",
   "metadata": {},
   "outputs": [
    {
     "name": "stdout",
     "output_type": "stream",
     "text": [
      "4 + -3 + 2 = 3\n"
     ]
    }
   ],
   "source": [
    "assert solution_one(load_input('sample.txt')) == 3"
   ]
  },
  {
   "cell_type": "markdown",
   "id": "9f01e527-8158-4b45-a5ff-86c239ef79fb",
   "metadata": {},
   "source": [
    "**Mix your encrypted file exactly once. What is the sum of the three numbers that form the grove coordinates?**"
   ]
  },
  {
   "cell_type": "code",
   "execution_count": 15,
   "id": "d00c8451-153d-4cbe-b0eb-169cf48ffd05",
   "metadata": {},
   "outputs": [
    {
     "name": "stdout",
     "output_type": "stream",
     "text": [
      "6076 + 9867 + 590 = 16533\n",
      "Solution part one: 16533\n"
     ]
    }
   ],
   "source": [
    "sol = solution_one(load_input('input.txt'), tron=False)\n",
    "print(f\"Solution part one: {sol}\")"
   ]
  },
  {
   "cell_type": "markdown",
   "id": "66342e22-5078-4f9e-9f9a-20164f88b3a8",
   "metadata": {
    "tags": []
   },
   "source": [
    "## Parte 2\n",
    "\n",
    "The grove coordinate values seem nonsensical. While you ponder the mysteries of Elf encryption, you suddenly remember the rest of the decryption routine you overheard back at camp.\n",
    "\n",
    "First, you need to apply the decryption key, 811589153. Multiply each number by the decryption key before you begin; this will produce the actual list of numbers to mix.\n",
    "\n",
    "Second, you need to mix the list of numbers ten times. The order in which the numbers are mixed does not change during mixing; the numbers are still moved in the order they appeared in the original, pre-mixed list. (So, if -3 appears fourth in the original list of numbers to mix, -3 will be the fourth number to move during each round of mixing.)\n",
    "\n",
    "Using the same example as above:\n",
    "\n",
    "```\n",
    "Initial arrangement:\n",
    "811589153, 1623178306, -2434767459, 2434767459, -1623178306, 0, 3246356612\n",
    "\n",
    "After 1 round of mixing:\n",
    "0, -2434767459, 3246356612, -1623178306, 2434767459, 1623178306, 811589153\n",
    "\n",
    "After 2 rounds of mixing:\n",
    "0, 2434767459, 1623178306, 3246356612, -2434767459, -1623178306, 811589153\n",
    "\n",
    "After 3 rounds of mixing:\n",
    "0, 811589153, 2434767459, 3246356612, 1623178306, -1623178306, -2434767459\n",
    "\n",
    "After 4 rounds of mixing:\n",
    "0, 1623178306, -2434767459, 811589153, 2434767459, 3246356612, -1623178306\n",
    "\n",
    "After 5 rounds of mixing:\n",
    "0, 811589153, -1623178306, 1623178306, -2434767459, 3246356612, 2434767459\n",
    "\n",
    "After 6 rounds of mixing:\n",
    "0, 811589153, -1623178306, 3246356612, -2434767459, 1623178306, 2434767459\n",
    "\n",
    "After 7 rounds of mixing:\n",
    "0, -2434767459, 2434767459, 1623178306, -1623178306, 811589153, 3246356612\n",
    "\n",
    "After 8 rounds of mixing:\n",
    "0, 1623178306, 3246356612, 811589153, -2434767459, 2434767459, -1623178306\n",
    "\n",
    "After 9 rounds of mixing:\n",
    "0, 811589153, 1623178306, -2434767459, 3246356612, 2434767459, -1623178306\n",
    "\n",
    "After 10 rounds of mixing:\n",
    "0, -2434767459, 1623178306, 3246356612, -1623178306, 2434767459, 811589153\n",
    "```"
   ]
  },
  {
   "cell_type": "markdown",
   "id": "4d76c972-37d6-444f-8989-d79689e7238c",
   "metadata": {},
   "source": [
    "> Ya no nos vale la cutrada de la parte 1, tenemos que hacerlo bien. Usaremos tuplas (índice, número) para poder identificar cada número de forma independiente."
   ]
  },
  {
   "cell_type": "code",
   "execution_count": 16,
   "id": "dae5af0b-9f15-46aa-a6b1-4fd76a1a6c79",
   "metadata": {},
   "outputs": [],
   "source": [
    "def load_input(filename, key=1):\n",
    "    with open(filename, 'r') as f_input:\n",
    "        for i, line in enumerate(f_input):\n",
    "            line = line.strip()\n",
    "            yield i, int(line) * key"
   ]
  },
  {
   "cell_type": "code",
   "execution_count": 17,
   "id": "a0abf281-d525-485a-b53d-07b8b5ea8e41",
   "metadata": {},
   "outputs": [],
   "source": [
    "source = list(load_input('sample.txt', key=811589153))"
   ]
  },
  {
   "cell_type": "code",
   "execution_count": 18,
   "id": "30286bb9-0ad2-48b0-a99a-05a9da66fcb1",
   "metadata": {},
   "outputs": [],
   "source": [
    "assert source == [\n",
    "    (0, 811589153),\n",
    "    (1, 1623178306),\n",
    "    (2, -2434767459),\n",
    "    (3, 2434767459),\n",
    "    (4, -1623178306),\n",
    "    (5, 0),\n",
    "    (6, 3246356612),\n",
    "]"
   ]
  },
  {
   "cell_type": "code",
   "execution_count": 19,
   "id": "63bd1bd0-c3f3-401a-b6e9-ead3025d4a48",
   "metadata": {},
   "outputs": [],
   "source": [
    "def move_two(numbers: [tuple[int, int]], duple: tuple[int, int], tron=False) -> [tuple[int, int]]:\n",
    "    size = len(numbers)\n",
    "    idx, num = duple\n",
    "    if num == 0:\n",
    "        if tron:\n",
    "            print(f\"{num} does not move:\")\n",
    "            print(\", \".join([str(n) for n in numbers]), end=\"\\n\\n\")\n",
    "        return numbers\n",
    "    pos = numbers.index(duple)\n",
    "    (idx, num) = target = numbers.pop(pos)\n",
    "    new_pos = (num + pos) % (size - 1)  # Because the pop\n",
    "    # ic('- moves to', new_pos)\n",
    "    if tron:\n",
    "        print(f\"{num} moves between\", end=' ') \n",
    "        if new_pos == 0:\n",
    "            val_from = numbers[-1][1]\n",
    "            val_to = numbers[0][1]\n",
    "        elif new_pos == 1:\n",
    "            val_from = numbers[0][1]\n",
    "            val_to = numbers[1][1]\n",
    "        elif new_pos == size - 1:\n",
    "            val_from = numbers[-2][1]\n",
    "            val_to = numbers[-1][1]\n",
    "        elif new_pos == size:\n",
    "            val_from = numbers[-1][1]\n",
    "            val_to = numbers[0][1]\n",
    "        else:\n",
    "            val_from = numbers[new_pos-1][1]\n",
    "            val_to = numbers[new_pos][1]\n",
    "        print(f\"{val_from} and {val_to} [{pos} -> {new_pos}] \")    \n",
    "    # ic(pos, new_pos, num)\n",
    "    if new_pos == 0:\n",
    "        numbers.append(duple)   \n",
    "    else:\n",
    "        numbers.insert(new_pos, duple)\n",
    "    if tron:\n",
    "        print(\", \".join([repr(n) for n in numbers]), end=\"\\n\\n\")\n",
    "    return numbers"
   ]
  },
  {
   "cell_type": "code",
   "execution_count": 20,
   "id": "3d66bdeb-550a-41d6-a4d8-27c2b4964068",
   "metadata": {},
   "outputs": [],
   "source": [
    "def solution_two(source: Iterable, tron=False):\n",
    "    code = list(iter(source))\n",
    "    size = len(code)\n",
    "    order = code[:]\n",
    "    if tron:\n",
    "        print(\"Initial arrangement:\")\n",
    "        print(\", \".join([str(n[1]) for n in code]), end=\"\\n\\n\")\n",
    "    for r in range(10):\n",
    "        for duple in order:\n",
    "            code = move_two(code, duple)\n",
    "        if tron:\n",
    "            print(f\"After {r+1} round of mixing:\")\n",
    "            print(*[x[1] for x in code], sep=', ')\n",
    "            print()\n",
    "    for i, (_, val) in enumerate(code):\n",
    "        if val == 0:\n",
    "            zero_pos = i\n",
    "            break\n",
    "    after_1k = int(code[(zero_pos + 1000) % size][1])\n",
    "    after_2k = int(code[(zero_pos + 2000) % size][1])\n",
    "    after_3k = int(code[(zero_pos + 3000) % size][1])\n",
    "    print(f\"{after_1k} + {after_2k} + {after_3k} = {after_1k + after_2k + after_3k}\")\n",
    "    return (after_1k + after_2k + after_3k)"
   ]
  },
  {
   "cell_type": "code",
   "execution_count": 21,
   "id": "3fa44906-275c-41e0-acc5-01ecbd9c6cac",
   "metadata": {},
   "outputs": [
    {
     "name": "stdout",
     "output_type": "stream",
     "text": [
      "Initial arrangement:\n",
      "811589153, 1623178306, -2434767459, 2434767459, -1623178306, 0, 3246356612\n",
      "\n",
      "After 1 round of mixing:\n",
      "0, -2434767459, 3246356612, -1623178306, 2434767459, 1623178306, 811589153\n",
      "\n",
      "After 2 round of mixing:\n",
      "0, 2434767459, 1623178306, 3246356612, -2434767459, -1623178306, 811589153\n",
      "\n",
      "After 3 round of mixing:\n",
      "0, 811589153, 2434767459, 3246356612, 1623178306, -1623178306, -2434767459\n",
      "\n",
      "After 4 round of mixing:\n",
      "0, 1623178306, -2434767459, 811589153, 2434767459, 3246356612, -1623178306\n",
      "\n",
      "After 5 round of mixing:\n",
      "0, 811589153, -1623178306, 1623178306, -2434767459, 3246356612, 2434767459\n",
      "\n",
      "After 6 round of mixing:\n",
      "0, 811589153, -1623178306, 3246356612, -2434767459, 1623178306, 2434767459\n",
      "\n",
      "After 7 round of mixing:\n",
      "0, -2434767459, 2434767459, 1623178306, -1623178306, 811589153, 3246356612\n",
      "\n",
      "After 8 round of mixing:\n",
      "0, 1623178306, 3246356612, 811589153, -2434767459, 2434767459, -1623178306\n",
      "\n",
      "After 9 round of mixing:\n",
      "0, 811589153, 1623178306, -2434767459, 3246356612, 2434767459, -1623178306\n",
      "\n",
      "After 10 round of mixing:\n",
      "0, -2434767459, 1623178306, 3246356612, -1623178306, 2434767459, 811589153\n",
      "\n",
      "811589153 + 2434767459 + -1623178306 = 1623178306\n"
     ]
    },
    {
     "data": {
      "text/plain": [
       "1623178306"
      ]
     },
     "execution_count": 21,
     "metadata": {},
     "output_type": "execute_result"
    }
   ],
   "source": [
    "sol = solution_two(load_input('sample.txt', key=811589153), tron=True)\n",
    "sol"
   ]
  },
  {
   "cell_type": "markdown",
   "id": "61519077-8d85-4034-a781-4185d8cd7f8a",
   "metadata": {
    "tags": []
   },
   "source": [
    "The grove coordinates can still be found in the same way. Here, the 1000th number after 0 is 811589153, the 2000th is 2434767459, and the 3000th is -1623178306; adding these together produces **1623178306**."
   ]
  },
  {
   "cell_type": "markdown",
   "id": "f6971d91-9c3d-41a0-a518-18e335485f70",
   "metadata": {
    "tags": []
   },
   "source": [
    "**Apply the decryption key and mix your encrypted file ten times. What is the sum of the three numbers that form the grove coordinates?**"
   ]
  },
  {
   "cell_type": "code",
   "execution_count": 22,
   "id": "cf909617-21a9-457d-886c-cb0f1ba419c6",
   "metadata": {},
   "outputs": [
    {
     "name": "stdout",
     "output_type": "stream",
     "text": [
      "811589153 + 2434767459 + -1623178306 = 1623178306\n"
     ]
    }
   ],
   "source": [
    "assert solution_two(load_input('sample.txt', key=811589153)) == 1623178306"
   ]
  },
  {
   "cell_type": "code",
   "execution_count": 23,
   "id": "dddfd6fe-36b1-497c-82d3-3acf3fefac74",
   "metadata": {},
   "outputs": [
    {
     "name": "stdout",
     "output_type": "stream",
     "text": [
      "-4636608831089 + 7301867609541 + 2124740402554 = 4789999181006\n",
      "Solution part two: 4789999181006\n"
     ]
    }
   ],
   "source": [
    "sol = solution_two(load_input('input.txt', key=811589153))\n",
    "print(f\"Solution part two: {sol}\")"
   ]
  }
 ],
 "metadata": {
  "kernelspec": {
   "display_name": "Python 3 (ipykernel)",
   "language": "python",
   "name": "python3"
  },
  "language_info": {
   "codemirror_mode": {
    "name": "ipython",
    "version": 3
   },
   "file_extension": ".py",
   "mimetype": "text/x-python",
   "name": "python",
   "nbconvert_exporter": "python",
   "pygments_lexer": "ipython3",
   "version": "3.10.6"
  }
 },
 "nbformat": 4,
 "nbformat_minor": 5
}
