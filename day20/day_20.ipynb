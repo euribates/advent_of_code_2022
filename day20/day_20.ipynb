{
 "cells": [
  {
   "cell_type": "markdown",
   "id": "bfe30d6d-a9ac-4942-b65a-79d60bea5a6d",
   "metadata": {},
   "source": [
    "## Day 20: Grove Positioning System\n",
    "\n",
    "It's finally time to meet back up with the Elves. When you try to contact them, however, you get no reply. Perhaps you're out of range?\n",
    "\n",
    "You know they're headed to the grove where the star fruit grows, so if you can figure out where that is, you should be able to meet back up with them.\n",
    "\n",
    "Fortunately, your handheld device has a file (your puzzle input) that contains the grove's coordinates! Unfortunately, the file is encrypted - just in case the device were to fall into the wrong hands.\n",
    "\n",
    "Maybe you can decrypt it?\n",
    "\n",
    "When you were still back at the camp, you overheard some Elves talking about coordinate file encryption. The main operation involved in decrypting the file is called mixing.\n",
    "\n",
    "The encrypted file is a list of numbers. To mix the file, move each number forward or backward in the file a number of positions equal to the value of the number being moved. The list is circular, so moving a number off one end of the list wraps back around to the other end as if the ends were connected.\n",
    "\n",
    "For example, to move the 1 in a sequence like 4, 5, 6, 1, 7, 8, 9, the 1 moves one position forward: 4, 5, 6, 7, 1, 8, 9. To move the -2 in a sequence like 4, -2, 5, 6, 7, 8, 9, the -2 moves two positions backward, wrapping around: 4, 5, 6, 7, 8, -2, 9.\n",
    "\n",
    "The numbers should be moved in the order they originally appear in the encrypted file. Numbers moving around during the mixing process do not change the order in which the numbers are moved.\n",
    "\n",
    "Consider this encrypted file:\n",
    "\n",
    "```\n",
    "1\n",
    "2\n",
    "-3\n",
    "3\n",
    "-2\n",
    "0\n",
    "4\n",
    "```\n",
    "\n",
    "Mixing this file proceeds as follows:\n",
    "\n",
    "```\n",
    "Initial arrangement:\n",
    "1, 2, -3, 3, -2, 0, 4\n",
    "\n",
    "1 moves between 2 and -3:\n",
    "2, 1, -3, 3, -2, 0, 4\n",
    "\n",
    "2 moves between -3 and 3:\n",
    "1, -3, 2, 3, -2, 0, 4\n",
    "\n",
    "-3 moves between -2 and 0:\n",
    "1, 2, 3, -2, -3, 0, 4\n",
    "\n",
    "3 moves between 0 and 4:\n",
    "1, 2, -2, -3, 0, 3, 4\n",
    "\n",
    "-2 moves between 4 and 1:\n",
    "1, 2, -3, 0, 3, 4, -2\n",
    "\n",
    "0 does not move:\n",
    "1, 2, -3, 0, 3, 4, -2\n",
    "\n",
    "4 moves between -3 and 0:\n",
    "1, 2, -3, 4, 0, 3, -2\n",
    "```"
   ]
  },
  {
   "cell_type": "markdown",
   "id": "5c136d9e-e695-43af-9364-00e5f32b6fc8",
   "metadata": {},
   "source": [
    "Then, the grove coordinates can be found by looking at the **1000th**, **2000th**, and **3000th** numbers after the value `0`, wrapping around the list as necessary. In the above example, the 1000th number after `0` is `4`, the 2000th is `-3`, and the 3000th is `2`; adding these together produces **3**."
   ]
  },
  {
   "cell_type": "code",
   "execution_count": null,
   "id": "b329addd-740c-4bd6-9ded-aaf71a41ce99",
   "metadata": {},
   "outputs": [],
   "source": [
    "from typing import Iterable\n",
    "\n",
    "def solution_one(source:):\n",
    "    "
   ]
  },
  {
   "cell_type": "markdown",
   "id": "9f01e527-8158-4b45-a5ff-86c239ef79fb",
   "metadata": {},
   "source": [
    "Mix your encrypted file exactly once. What is the sum of the three numbers that form the grove coordinates?\n",
    "\n",
    "To begin, get your puzzle input."
   ]
  },
  {
   "cell_type": "code",
   "execution_count": 2,
   "id": "440b0627-6c0e-4a89-a225-ccf14c657d1c",
   "metadata": {},
   "outputs": [],
   "source": [
    "import pytest\n",
    "from icecream import ic"
   ]
  },
  {
   "cell_type": "code",
   "execution_count": 49,
   "id": "56355a0f-f2da-46ca-b78d-ef2a9054e484",
   "metadata": {},
   "outputs": [],
   "source": [
    "def load_input(filename):\n",
    "    with open(filename, 'r') as f_input:\n",
    "        for line in f_input:\n",
    "            line = line.strip()\n",
    "            yield int(line)"
   ]
  },
  {
   "cell_type": "code",
   "execution_count": 50,
   "id": "8d2eb4d5-5795-4caf-a3da-626a593d9034",
   "metadata": {},
   "outputs": [],
   "source": [
    "assert list(load_input('sample.txt')) == [\n",
    "    1,\n",
    "    2,\n",
    "    -3,\n",
    "    3,\n",
    "    -2,\n",
    "    0,\n",
    "    4,\n",
    "]"
   ]
  },
  {
   "cell_type": "code",
   "execution_count": 78,
   "id": "96c31b56-a51b-41a2-871f-71fa3e6e7a42",
   "metadata": {},
   "outputs": [
    {
     "name": "stdout",
     "output_type": "stream",
     "text": [
      "Initial arrangement:\n",
      "1, 2, -3, 3, -2, 0, 4\n",
      "\n",
      "1 moves between 2 [1] and -3 [2]:\n",
      "2, 1, -3, 3, -2, 0, 4\n",
      "\n",
      "2 moves between -3 [2] and 3 [3]:\n",
      "1, -3, 2, 3, -2, 0, 4\n",
      "\n",
      "-2\n",
      "4\n",
      "-3 moves between -2 [4] and 0 [5]:\n",
      "1, 2, 3, -2, -3, 0, 4\n",
      "\n",
      "3 moves between 0 [5] and 4 [6]:\n",
      "1, 2, -2, -3, 0, 3, 4\n",
      "\n",
      "-2 moves between 1 [0] and 2 [1]:\n",
      "1, 2, -3, 0, 3, 4, -2\n",
      "\n",
      "0 does not move:\n",
      "1, 2, -3, 0, 3, 4, -2\n",
      "\n",
      "4 moves between -3 [2] and 0 [3]:\n",
      "1, 2, 4, -3, 0, 3, -2\n",
      "\n"
     ]
    }
   ],
   "source": [
    "numbers = list(load_input('sample.txt'))\n",
    "size = len(numbers)\n",
    "\n",
    "print(\"Initial arrangement:\")\n",
    "print(\", \".join([str(n) for n in numbers]), end=\"\\n\\n\")\n",
    "\n",
    "for num in numbers[:]:\n",
    "    if num == 0:\n",
    "        print(\"0 does not move:\")\n",
    "        print(\", \".join([str(n) for n in numbers]), end=\"\\n\\n\")\n",
    "        continue\n",
    "    pos = numbers.index(num)\n",
    "    new_pos = pos + num\n",
    "    if new_pos < 0:\n",
    "        print(new_pos)\n",
    "        new_pos = size + new_pos - 1\n",
    "        print(new_pos)\n",
    "    elif new_pos > 0:\n",
    "        new_pos = new_pos % size    \n",
    "        \n",
    "    print(f\"{num} moves between {numbers[new_pos]} [{new_pos}] and {numbers[new_pos+1]} [{new_pos+1}]:\") \n",
    "    numbers.pop(pos)\n",
    "    if new_pos == 0:\n",
    "        if num < 0:\n",
    "            numbers.append(num)\n",
    "        else:\n",
    "            numbers.insert(0, num)\n",
    "    else:\n",
    "        numbers.insert(new_pos, num)\n",
    "    print(\", \".join([str(n) for n in numbers]), end=\"\\n\\n\")\n",
    "    "
   ]
  },
  {
   "cell_type": "code",
   "execution_count": 161,
   "id": "4ee2413d-7fac-4583-beff-19194e26ef9b",
   "metadata": {},
   "outputs": [],
   "source": [
    "from typing import Iterable\n",
    "\n",
    "def move_right(l: list, index: int) -> list:\n",
    "    last = len(l) - 1\n",
    "    if index < last:\n",
    "        l[index], l[index+1] = l[index+1], l[index]\n",
    "    elif index == last: # At end\n",
    "        item = l.pop(-1)\n",
    "        l = [item] + l\n",
    "    else:\n",
    "        raise ValueError(f\"Index must be in range [0 .. {len(l)})\")\n",
    "    return l\n",
    "    \n",
    "def move_left(l: list, index: int) -> list:\n",
    "    if index > 0:\n",
    "        l[index], l[index-1] = l[index-1], l[index]\n",
    "    elif index == 0: # At beginning\n",
    "        item = l.pop(0)\n",
    "        l = l + [item] \n",
    "    else:\n",
    "        raise ValueError(f\"Index must be in range [0 .. {len(l)})\")\n",
    "    return l\n",
    "        "
   ]
  },
  {
   "cell_type": "code",
   "execution_count": 162,
   "id": "1b3d37c3-d1bf-4d57-b83d-8dcb8383bd3b",
   "metadata": {},
   "outputs": [
    {
     "name": "stdout",
     "output_type": "stream",
     "text": [
      "[1, 2, -3, 0, 3, 4, -2]\n",
      "[2, 1, -3, 0, 3, 4, -2]\n",
      "[2, -3, 1, 0, 3, 4, -2]\n",
      "[2, -3, 0, 1, 3, 4, -2]\n",
      "[2, -3, 0, 3, 1, 4, -2]\n",
      "[2, -3, 0, 3, 4, 1, -2]\n",
      "[2, -3, 0, 3, 4, -2, 1]\n",
      "[1, 2, -3, 0, 3, 4, -2]\n"
     ]
    }
   ],
   "source": [
    "l = [1, 2 ,-3, 0, 3, 4, -2]\n",
    "print(l)\n",
    "l = move_right(l, 0)\n",
    "print(l)\n",
    "l = move_right(l, 1)\n",
    "print(l)\n",
    "l = move_right(l, 2)\n",
    "print(l)\n",
    "l = move_right(l, 3)\n",
    "print(l)\n",
    "l = move_right(l, 4)\n",
    "print(l)\n",
    "l = move_right(l, 5)\n",
    "print(l)\n",
    "l = move_right(l, 6)\n",
    "print(l)\n",
    "with pytest.raises(ValueError):\n",
    "    l = move_right(l, 7)"
   ]
  },
  {
   "cell_type": "code",
   "execution_count": 164,
   "id": "d3ca358b-6970-444f-ade9-8e41c7086467",
   "metadata": {},
   "outputs": [
    {
     "name": "stdout",
     "output_type": "stream",
     "text": [
      "[1, 2, -3, 0, 3, 4, -2]\n",
      "[1, 2, -3, 0, 3, -2, 4]\n",
      "[1, 2, -3, 0, -2, 3, 4]\n",
      "[1, 2, -3, -2, 0, 3, 4]\n",
      "[1, 2, -2, -3, 0, 3, 4]\n",
      "[1, -2, 2, -3, 0, 3, 4]\n",
      "[-2, 1, 2, -3, 0, 3, 4]\n",
      "[1, 2, -3, 0, 3, 4, -2]\n"
     ]
    }
   ],
   "source": [
    "l = [1, 2 ,-3, 0, 3, 4, -2]\n",
    "print(l)\n",
    "l = move_left(l, 6)\n",
    "print(l)\n",
    "l = move_left(l, 5)\n",
    "print(l)\n",
    "l = move_left(l, 4)\n",
    "print(l)\n",
    "l = move_left(l, 3)\n",
    "print(l)\n",
    "l = move_left(l, 2)\n",
    "print(l)\n",
    "l = move_left(l, 1)\n",
    "print(l)\n",
    "l = move_left(l, 0)\n",
    "print(l)\n",
    "with pytest.raises(ValueError):\n",
    "    l = move_left(l, -1)"
   ]
  },
  {
   "cell_type": "code",
   "execution_count": 125,
   "id": "e9ac5981-df56-408d-a972-5c85bfbba508",
   "metadata": {},
   "outputs": [
    {
     "name": "stderr",
     "output_type": "stream",
     "text": [
      "ic"
     ]
    },
    {
     "name": "stdout",
     "output_type": "stream",
     "text": [
      "Initial arrangement:\n",
      "1, 2, -3, 3, -2, 0, 4\n",
      "\n",
      "1 moves between 1 [1] and -3 [2]:\n",
      "2, 1, -3, 3, -2, 0, 4\n",
      "\n",
      "2 moves between 2 [2] and 3 [3]:\n",
      "1, -3, 2, 3, -2, 0, 4\n",
      "\n",
      "-3 moves between -3 [4] and -2 [5]:\n",
      "1, -3, 2, 3, -3, -2, 0, 4\n",
      "\n",
      "3 moves between 3 [6] and 4 [7]:\n",
      "1, -3, 2, -3, -2, 0, 3, 4\n",
      "\n",
      "-2 moves between -2 [2] and 2 [3]:\n",
      "1, -3, -2, 2, -3, 0, 3, 4\n",
      "\n",
      "0 does not move:\n",
      "1, -3, -2, 2, -3, 0, 3, 4\n",
      "\n",
      "4 moves between 4 [5] and 0 [6]:\n",
      "1, -3, -2, 2, -3, 4, 0, 3, 4\n",
      "\n"
     ]
    },
    {
     "name": "stderr",
     "output_type": "stream",
     "text": [
      "| after_1k: 4, after_2k: -3, after_3k: 2\n"
     ]
    }
   ],
   "source": [
    "  \n",
    "\n",
    "def solution_one(source: Iterable, tron=False):\n",
    "    numbers = list(source)\n",
    "    size = len(numbers)\n",
    "    if tron:\n",
    "        print(\"Initial arrangement:\")\n",
    "        print(\", \".join([str(n) for n in numbers]), end=\"\\n\\n\")\n",
    "    count = 0\n",
    "    for num in numbers[:]:\n",
    "        pos = numbers.index(num)\n",
    "        if num > 0:\n",
    "            for _ in range(num)\n",
    "        new_pos = pos + num\n",
    "        if 0 <= new_pos < size:\n",
    "            numbers.pop(pos)    \n",
    "        if new_pos < 0:\n",
    "            new_pos = size + new_pos - 1\n",
    "        elif new_pos > size:\n",
    "            new_pos = (new_pos % size) + 1\n",
    "        else:\n",
    "            new_pos = new_pos % size\n",
    "        \n",
    "        if tron:\n",
    "            print(f\"{num} moves between \", end='')\n",
    "        if new_pos == 0:\n",
    "            print(f\"{numbers[-1]} [{size-1}]\", end=\"\")\n",
    "            print(f\" and {numbers[0]} [0]:\") \n",
    "            numbers.append(num)\n",
    "        else:\n",
    "            numbers.insert(new_pos, num)\n",
    "            if tron:\n",
    "                print(f\"{numbers[new_pos]} [{new_pos}]\", end=\"\")\n",
    "                print(f\" and {numbers[new_pos+1]} [{new_pos+1}]:\") \n",
    "        if tron:\n",
    "            print(\", \".join([str(n) for n in numbers]), end=\"\\n\\n\")\n",
    "        count += 1\n",
    "        # if count > 3:\n",
    "            # break\n",
    "    zero_pos = numbers.index(0)\n",
    "    after_1k = numbers[(zero_pos + 1000) % size]\n",
    "    after_2k = numbers[(zero_pos + 2000) % size]\n",
    "    after_3k = numbers[(zero_pos + 3000) % size]\n",
    "    ic(after_1k, after_2k, after_3k)\n",
    "    return sum([after_1k, after_2k, after_3k])\n",
    "    \n",
    "    \n",
    "assert solution_one(load_input('sample.txt'), tron=True) == 3"
   ]
  },
  {
   "cell_type": "code",
   "execution_count": 96,
   "id": "d00c8451-153d-4cbe-b0eb-169cf48ffd05",
   "metadata": {},
   "outputs": [
    {
     "name": "stderr",
     "output_type": "stream",
     "text": [
      "ic| after_1k: -5967, after_2k: 7645, after_3k: 7288\n"
     ]
    },
    {
     "name": "stdout",
     "output_type": "stream",
     "text": [
      "Solution part one: 8966\n"
     ]
    }
   ],
   "source": [
    "sol = solution_one(load_input('input.txt'))\n",
    "print(f\"Solution part one: {sol}\")"
   ]
  },
  {
   "cell_type": "code",
   "execution_count": null,
   "id": "a202025e-574e-444b-b62a-6be9a5c9c949",
   "metadata": {},
   "outputs": [],
   "source": []
  }
 ],
 "metadata": {
  "kernelspec": {
   "display_name": "Python 3 (ipykernel)",
   "language": "python",
   "name": "python3"
  },
  "language_info": {
   "codemirror_mode": {
    "name": "ipython",
    "version": 3
   },
   "file_extension": ".py",
   "mimetype": "text/x-python",
   "name": "python",
   "nbconvert_exporter": "python",
   "pygments_lexer": "ipython3",
   "version": "3.10.6"
  }
 },
 "nbformat": 4,
 "nbformat_minor": 5
}
