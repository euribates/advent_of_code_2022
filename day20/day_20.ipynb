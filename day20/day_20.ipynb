{
 "cells": [
  {
   "cell_type": "markdown",
   "id": "bfe30d6d-a9ac-4942-b65a-79d60bea5a6d",
   "metadata": {},
   "source": [
    "## Day 20: Grove Positioning System\n",
    "\n",
    "It's finally time to meet back up with the Elves. When you try to contact them, however, you get no reply. Perhaps you're out of range?\n",
    "\n",
    "You know they're headed to the grove where the star fruit grows, so if you can figure out where that is, you should be able to meet back up with them.\n",
    "\n",
    "Fortunately, your handheld device has a file (your puzzle input) that contains the grove's coordinates! Unfortunately, the file is encrypted - just in case the device were to fall into the wrong hands.\n",
    "\n",
    "Maybe you can decrypt it?\n",
    "\n",
    "When you were still back at the camp, you overheard some Elves talking about coordinate file encryption. The main operation involved in decrypting the file is called mixing.\n",
    "\n",
    "The encrypted file is a list of numbers. To mix the file, move each number forward or backward in the file a number of positions equal to the value of the number being moved. The list is circular, so moving a number off one end of the list wraps back around to the other end as if the ends were connected.\n",
    "\n",
    "For example, to move the 1 in a sequence like 4, 5, 6, 1, 7, 8, 9, the 1 moves one position forward: 4, 5, 6, 7, 1, 8, 9. To move the -2 in a sequence like 4, -2, 5, 6, 7, 8, 9, the -2 moves two positions backward, wrapping around: 4, 5, 6, 7, 8, -2, 9.\n",
    "\n",
    "The numbers should be moved in the order they originally appear in the encrypted file. Numbers moving around during the mixing process do not change the order in which the numbers are moved.\n",
    "\n",
    "Consider this encrypted file:\n",
    "\n",
    "```\n",
    "1\n",
    "2\n",
    "-3\n",
    "3\n",
    "-2\n",
    "0\n",
    "4\n",
    "```\n",
    "\n",
    "Mixing this file proceeds as follows:\n",
    "\n",
    "```\n",
    "Initial arrangement:\n",
    "1, 2, -3, 3, -2, 0, 4\n",
    "\n",
    "1 moves between 2 and -3:\n",
    "2, 1, -3, 3, -2, 0, 4\n",
    "\n",
    "2 moves between -3 and 3:\n",
    "1, -3, 2, 3, -2, 0, 4\n",
    "\n",
    "-3 moves between -2 and 0:\n",
    "1, 2, 3, -2, -3, 0, 4\n",
    "\n",
    "3 moves between 0 and 4:\n",
    "1, 2, -2, -3, 0, 3, 4\n",
    "\n",
    "-2 moves between 4 and 1:\n",
    "1, 2, -3, 0, 3, 4, -2\n",
    "\n",
    "0 does not move:\n",
    "1, 2, -3, 0, 3, 4, -2\n",
    "\n",
    "4 moves between -3 and 0:\n",
    "1, 2, -3, 4, 0, 3, -2\n",
    "```"
   ]
  },
  {
   "cell_type": "markdown",
   "id": "5c136d9e-e695-43af-9364-00e5f32b6fc8",
   "metadata": {},
   "source": [
    "Then, the grove coordinates can be found by looking at the **1000th**, **2000th**, and **3000th** numbers after the value `0`, wrapping around the list as necessary. In the above example, the 1000th number after `0` is `4`, the 2000th is `-3`, and the 3000th is `2`; adding these together produces **3**."
   ]
  },
  {
   "cell_type": "code",
   "execution_count": 2,
   "id": "440b0627-6c0e-4a89-a225-ccf14c657d1c",
   "metadata": {},
   "outputs": [],
   "source": [
    "import pytest\n",
    "from icecream import ic"
   ]
  },
  {
   "cell_type": "code",
   "execution_count": 4,
   "id": "56355a0f-f2da-46ca-b78d-ef2a9054e484",
   "metadata": {},
   "outputs": [],
   "source": [
    "def load_input(filename):\n",
    "    with open(filename, 'r') as f_input:\n",
    "        for line in f_input:\n",
    "            line = line.strip()\n",
    "            yield int(line)"
   ]
  },
  {
   "cell_type": "code",
   "execution_count": 495,
   "id": "8d2eb4d5-5795-4caf-a3da-626a593d9034",
   "metadata": {},
   "outputs": [],
   "source": [
    "assert list(load_input('sample.txt')) == [\n",
    "    1,\n",
    "    2,\n",
    "    -3,\n",
    "    3,\n",
    "    -2,\n",
    "    -8,\n",
    "    4,\n",
    "]"
   ]
  },
  {
   "cell_type": "code",
   "execution_count": 542,
   "id": "6c13badd-b2ff-4acd-9dde-da1272331275",
   "metadata": {},
   "outputs": [],
   "source": [
    "def move(numbers: [int], num:int, tron=False) -> [int]:\n",
    "    size = len(numbers)\n",
    "    if num == 0:\n",
    "        if tron:\n",
    "            print(f\"{num} does not move:\")\n",
    "            print(\", \".join([str(n) for n in numbers]), end=\"\\n\\n\")\n",
    "        return numbers\n",
    "    pos = numbers.index(num)\n",
    "    if num > 0:\n",
    "        if (pos + num) < size - 1:\n",
    "            new_pos = (pos + num + 1) % size\n",
    "        elif (pos + num) == size - 1:\n",
    "            new_pos = size\n",
    "        else:\n",
    "            new_pos = (pos + num + 1) % size\n",
    "    elif num < 0:\n",
    "        if (pos + num) > 0:\n",
    "            # ic('Caso A')\n",
    "            new_pos = (pos + num) % size\n",
    "        elif (pos + num) == 0:\n",
    "            new_pos = size\n",
    "        else:\n",
    "            # ic('Caso B')\n",
    "            new_pos = (size + (pos + num)) % size\n",
    "        # ic(num, pos, new_pos)\n",
    "    if tron:\n",
    "        print(f\"{num} moves between\", end=' ') \n",
    "        if new_pos == 0:\n",
    "            val_from = numbers[-1]\n",
    "            val_to = numbers[0]\n",
    "        elif new_pos == 1:\n",
    "            val_from = numbers[0]\n",
    "            val_to = numbers[1]\n",
    "        elif new_pos == size - 1:\n",
    "            val_from = numbers[-2]\n",
    "            val_to = numbers[-1]\n",
    "        elif new_pos == size:\n",
    "            val_from = numbers[-1]\n",
    "            val_to = numbers[0]\n",
    "        else:\n",
    "            val_from = numbers[new_pos-1]\n",
    "            val_to = numbers[new_pos]\n",
    "        print(f\"{val_from} and {val_to} [{pos} -> {new_pos}] \")    \n",
    "    if pos < new_pos:\n",
    "        numbers.insert(new_pos, num)\n",
    "        numbers.pop(pos)\n",
    "    else:\n",
    "        numbers.pop(pos)\n",
    "        numbers.insert(new_pos, num)\n",
    "    if tron:\n",
    "        print(\", \".join([str(n) for n in numbers]), end=\"\\n\\n\")\n",
    "    return numbers"
   ]
  },
  {
   "cell_type": "code",
   "execution_count": 543,
   "id": "bc775bd8-4e92-4859-bfd2-4631be006cb9",
   "metadata": {},
   "outputs": [
    {
     "name": "stdout",
     "output_type": "stream",
     "text": [
      "1 moves between 4 and -6 [0 -> 2] \n",
      "4, 1, -6\n",
      "\n",
      "4 moves between 1 and -6 [0 -> 2] \n",
      "1, 4, -6\n",
      "\n",
      "-6 moves between 4 and -6 [2 -> 2] \n",
      "1, 4, -6\n",
      "\n"
     ]
    },
    {
     "data": {
      "text/plain": [
       "[1, 4, -6]"
      ]
     },
     "execution_count": 543,
     "metadata": {},
     "output_type": "execute_result"
    }
   ],
   "source": [
    "# Testing bigger numbers\n",
    "\n",
    "numbers = [1, 4, -6]\n",
    "for num in numbers[:]:\n",
    "    numbers = move(numbers, num, tron=True)\n",
    "numbers"
   ]
  },
  {
   "cell_type": "code",
   "execution_count": 544,
   "id": "6e8d98b2-5f29-4950-81c4-caaf497162bb",
   "metadata": {},
   "outputs": [
    {
     "name": "stdout",
     "output_type": "stream",
     "text": [
      "-2 moves between 9 and 1 [2 -> 8] \n",
      "1, 4, 5, 6, 7, 8, 9, -2\n",
      "\n"
     ]
    }
   ],
   "source": [
    "# Testing negatives\n",
    "\n",
    "assert move([1, 4, -2, 5, 6, 7, 8, 9], -2, tron=True) == [1, 4, 5, 6, 7, 8, 9, -2]"
   ]
  },
  {
   "cell_type": "code",
   "execution_count": 545,
   "id": "43c469dc-cbc9-43a3-ae00-0f06a06b5989",
   "metadata": {},
   "outputs": [
    {
     "name": "stdout",
     "output_type": "stream",
     "text": [
      "-2 moves between 8 and 9 [1 -> 6] \n",
      "4, 5, 6, 7, 8, -2, 9\n",
      "\n"
     ]
    }
   ],
   "source": [
    "assert move([4, -2, 5, 6, 7, 8, 9], -2, tron=True) == [4, 5, 6, 7, 8, -2, 9]"
   ]
  },
  {
   "cell_type": "code",
   "execution_count": 546,
   "id": "368673f6-fff8-481a-9e91-870491bad6f4",
   "metadata": {},
   "outputs": [
    {
     "name": "stdout",
     "output_type": "stream",
     "text": [
      "-2 moves between 0 and 1 [3 -> 1] \n",
      "0, -2, 1, 4, 5, 6, 7, 8, 9\n",
      "\n"
     ]
    }
   ],
   "source": [
    "assert move([0, 1, 4, -2, 5, 6, 7, 8, 9], -2, tron=True) == [0, -2, 1, 4, 5, 6, 7, 8, 9]"
   ]
  },
  {
   "cell_type": "code",
   "execution_count": 547,
   "id": "1b32b5ef-706b-4bb0-ae38-e975af3f28d8",
   "metadata": {},
   "outputs": [
    {
     "name": "stdout",
     "output_type": "stream",
     "text": [
      "2 moves between 8 and 9 [3 -> 6] \n",
      "4, 7, 5, 3, 8, 2, 9\n",
      "\n"
     ]
    }
   ],
   "source": [
    "# Testing ppsitive numbers\n",
    "\n",
    "assert move([4, 7, 5, 2, 3, 8, 9], 2, tron=True) == [4, 7, 5, 3, 8, 2, 9]"
   ]
  },
  {
   "cell_type": "code",
   "execution_count": 549,
   "id": "0451288d-2f7c-41f6-8235-160efe40570a",
   "metadata": {},
   "outputs": [
    {
     "name": "stdout",
     "output_type": "stream",
     "text": [
      "2 moves between 8 and 4 [4 -> 7] \n",
      "4, 9, 7, 5, 3, 8, 2\n",
      "\n"
     ]
    }
   ],
   "source": [
    "assert move([4, 9, 7, 5, 2, 3, 8], 2, tron=True) == [4, 9, 7, 5, 3, 8, 2]"
   ]
  },
  {
   "cell_type": "code",
   "execution_count": 550,
   "id": "af8580f9-e6f0-48d1-800e-0cb36c15509f",
   "metadata": {},
   "outputs": [
    {
     "name": "stdout",
     "output_type": "stream",
     "text": [
      "2 moves between 4 and 9 [5 -> 1] \n",
      "4, 2, 9, 7, 8, 5, 3\n",
      "\n"
     ]
    }
   ],
   "source": [
    "assert move([4, 9, 7, 8, 5, 2, 3], 2, tron=True) == [4, 2, 9, 7, 8, 5, 3]"
   ]
  },
  {
   "cell_type": "code",
   "execution_count": 551,
   "id": "264a49f5-b925-485d-b66c-5d21632b7f8a",
   "metadata": {},
   "outputs": [
    {
     "name": "stdout",
     "output_type": "stream",
     "text": [
      "2 moves between 9 and 7 [6 -> 2] \n",
      "4, 9, 2, 7, 8, 5, 3\n",
      "\n"
     ]
    }
   ],
   "source": [
    "assert move([4, 9, 7, 8, 5, 3, 2], 2, tron=True) == [4, 9, 2, 7, 8, 5, 3]"
   ]
  },
  {
   "cell_type": "code",
   "execution_count": 552,
   "id": "96c31b56-a51b-41a2-871f-71fa3e6e7a42",
   "metadata": {},
   "outputs": [
    {
     "name": "stdout",
     "output_type": "stream",
     "text": [
      "Initial arrangement:\n",
      "1, 2, -3, 3, -2, 0, 4\n",
      "\n",
      "1 moves between 2 and -3 [0 -> 2] \n",
      "2, 1, -3, 3, -2, 0, 4\n",
      "\n",
      "2 moves between -3 and 3 [0 -> 3] \n",
      "1, -3, 2, 3, -2, 0, 4\n",
      "\n",
      "-3 moves between -2 and 0 [1 -> 5] \n",
      "1, 2, 3, -2, -3, 0, 4\n",
      "\n",
      "3 moves between 0 and 4 [2 -> 6] \n",
      "1, 2, -2, -3, 0, 3, 4\n",
      "\n",
      "-2 moves between 4 and 1 [2 -> 7] \n",
      "1, 2, -3, 0, 3, 4, -2\n",
      "\n",
      "0 does not move:\n",
      "1, 2, -3, 0, 3, 4, -2\n",
      "\n",
      "4 moves between -3 and 0 [5 -> 3] \n",
      "1, 2, -3, 4, 0, 3, -2\n",
      "\n"
     ]
    }
   ],
   "source": [
    "from icecream import ic\n",
    "\n",
    "numbers = list(load_input('sample.txt')) \n",
    "size = len(numbers)\n",
    "\n",
    "print(\"Initial arrangement:\")\n",
    "print(\", \".join([str(n) for n in numbers]), end=\"\\n\\n\")\n",
    "for num in numbers[:]:\n",
    "    numbers = move(numbers, num, tron=True)"
   ]
  },
  {
   "cell_type": "code",
   "execution_count": 558,
   "id": "0f8ed50c-b9ba-4a00-a8fc-779c59e0d467",
   "metadata": {},
   "outputs": [
    {
     "name": "stdout",
     "output_type": "stream",
     "text": [
      "0 does not move:\n",
      "0, 1, 3\n",
      "\n",
      "1 moves between 3 and 0 [1 -> 3] \n",
      "0, 3, 1\n",
      "\n",
      "3 moves between 3 and 1 [1 -> 2] \n",
      "0, 3, 1\n",
      "\n"
     ]
    },
    {
     "data": {
      "text/plain": [
       "[0, 3, 1]"
      ]
     },
     "execution_count": 558,
     "metadata": {},
     "output_type": "execute_result"
    }
   ],
   "source": [
    "numbers = [0, 1, 3]\n",
    "for num in numbers[:]:\n",
    "    numbers = move(numbers, num, tron=True) \n",
    "numbers"
   ]
  },
  {
   "cell_type": "code",
   "execution_count": 554,
   "id": "e9ac5981-df56-408d-a972-5c85bfbba508",
   "metadata": {},
   "outputs": [
    {
     "name": "stdout",
     "output_type": "stream",
     "text": [
      "Initial arrangement:\n",
      "1, 2, -3, 3, -2, 0, 4\n",
      "\n",
      "1 moves between 2 and -3 [0 -> 2] \n",
      "2, 1, -3, 3, -2, 0, 4\n",
      "\n",
      "2 moves between -3 and 3 [0 -> 3] \n",
      "1, -3, 2, 3, -2, 0, 4\n",
      "\n",
      "-3 moves between -2 and 0 [1 -> 5] \n",
      "1, 2, 3, -2, -3, 0, 4\n",
      "\n",
      "3 moves between 0 and 4 [2 -> 6] \n",
      "1, 2, -2, -3, 0, 3, 4\n",
      "\n",
      "-2 moves between 4 and 1 [2 -> 7] \n",
      "1, 2, -3, 0, 3, 4, -2\n",
      "\n",
      "0 does not move:\n",
      "1, 2, -3, 0, 3, 4, -2\n",
      "\n",
      "4 moves between -3 and 0 [5 -> 3] \n",
      "1, 2, -3, 4, 0, 3, -2\n",
      "\n",
      "4 -3 2\n"
     ]
    }
   ],
   "source": [
    "def solution_one(source: Iterable, tron=False):\n",
    "    numbers = list(source)\n",
    "    size = len(numbers)\n",
    "    if tron:\n",
    "        print(\"Initial arrangement:\")\n",
    "        print(\", \".join([str(n) for n in numbers]), end=\"\\n\\n\")\n",
    "    for num in numbers[:]:\n",
    "        numbers = move(numbers, num, tron=tron)\n",
    "    zero_pos = numbers.index(0) \n",
    "    after_1k = numbers[(zero_pos + 1000) % size]\n",
    "    after_2k = numbers[(zero_pos + 2000) % size]\n",
    "    after_3k = numbers[(zero_pos + 3000) % size]\n",
    "    if tron:\n",
    "        print(after_1k, after_2k, after_3k)\n",
    "    return sum([after_1k, after_2k, after_3k])\n",
    "    \n",
    "    \n",
    "assert solution_one(load_input('sample.txt'), tron=True) == 3"
   ]
  },
  {
   "cell_type": "code",
   "execution_count": 555,
   "id": "a7e43a56-8f2d-4327-9670-90c270f02bce",
   "metadata": {},
   "outputs": [
    {
     "name": "stdout",
     "output_type": "stream",
     "text": [
      "Initial arrangement:\n",
      "0, 1, 2, 3, 4, -3, -2, -1, -4\n",
      "\n",
      "0 does not move:\n",
      "0, 1, 2, 3, 4, -3, -2, -1, -4\n",
      "\n",
      "1 moves between 2 and 3 [1 -> 3] \n",
      "0, 2, 1, 3, 4, -3, -2, -1, -4\n",
      "\n",
      "2 moves between 3 and 4 [1 -> 4] \n",
      "0, 1, 3, 2, 4, -3, -2, -1, -4\n",
      "\n",
      "3 moves between -3 and -2 [2 -> 6] \n",
      "0, 1, 2, 4, -3, 3, -2, -1, -4\n",
      "\n",
      "4 moves between -1 and -4 [3 -> 8] \n",
      "0, 1, 2, -3, 3, -2, -1, 4, -4\n",
      "\n",
      "-3 moves between -4 and 0 [3 -> 9] \n",
      "0, 1, 2, 3, -2, -1, 4, -4, -3\n",
      "\n",
      "-2 moves between 1 and 2 [4 -> 2] \n",
      "0, 1, -2, 2, 3, -1, 4, -4, -3\n",
      "\n",
      "-1 moves between 2 and 3 [5 -> 4] \n",
      "0, 1, -2, 2, -1, 3, 4, -4, -3\n",
      "\n",
      "-4 moves between -2 and 2 [7 -> 3] \n",
      "0, 1, -2, -4, 2, -1, 3, 4, -3\n",
      "\n",
      "1 -2 -4\n"
     ]
    },
    {
     "data": {
      "text/plain": [
       "-5"
      ]
     },
     "execution_count": 555,
     "metadata": {},
     "output_type": "execute_result"
    }
   ],
   "source": [
    "solution_one(load_input('test.txt'), tron=True)"
   ]
  },
  {
   "cell_type": "code",
   "execution_count": null,
   "id": "6a13ec74-8207-4d57-82e7-c9b43cce22b8",
   "metadata": {},
   "outputs": [],
   "source": []
  },
  {
   "cell_type": "code",
   "execution_count": null,
   "id": "f84e3936-f00a-410e-8ea8-f0770e2389ad",
   "metadata": {},
   "outputs": [],
   "source": []
  },
  {
   "cell_type": "code",
   "execution_count": 556,
   "id": "78c7b4b2-3f11-437f-a936-65e1fe017f55",
   "metadata": {},
   "outputs": [
    {
     "name": "stdout",
     "output_type": "stream",
     "text": [
      "4594\n",
      "-4509 -6293 -8785\n"
     ]
    }
   ],
   "source": [
    "source = load_input('input.txt')    \n",
    "numbers = list(source)\n",
    "original = numbers[:]\n",
    "size = len(numbers)\n",
    "assert size == 5000\n",
    "assert 0 in numbers\n",
    "for num in numbers[:]:\n",
    "    numbers = move(numbers, num)\n",
    "assert size == 5000\n",
    "print(numbers.index(0))\n",
    "k1 = numbers[(1000 + numbers.index(0)) % size]\n",
    "k2 = numbers[(2000 + numbers.index(0)) % size]\n",
    "k3 = numbers[(3000 + numbers.index(0)) % size]\n",
    "print(k1, k2, k3)\n",
    "for n in original:\n",
    "    assert n in numbers\n"
   ]
  },
  {
   "cell_type": "code",
   "execution_count": 557,
   "id": "d00c8451-153d-4cbe-b0eb-169cf48ffd05",
   "metadata": {},
   "outputs": [
    {
     "name": "stdout",
     "output_type": "stream",
     "text": [
      "Solution part one: -19587\n"
     ]
    }
   ],
   "source": [
    "sol = solution_one(load_input('input.txt'), tron=False)\n",
    "print(f\"Solution part one: {sol}\")"
   ]
  },
  {
   "cell_type": "markdown",
   "id": "9f01e527-8158-4b45-a5ff-86c239ef79fb",
   "metadata": {},
   "source": [
    "Mix your encrypted file exactly once. What is the sum of the three numbers that form the grove coordinates?\n",
    "\n",
    "To begin, get your puzzle input."
   ]
  },
  {
   "cell_type": "code",
   "execution_count": null,
   "id": "a202025e-574e-444b-b62a-6be9a5c9c949",
   "metadata": {},
   "outputs": [],
   "source": []
  }
 ],
 "metadata": {
  "kernelspec": {
   "display_name": "Python 3 (ipykernel)",
   "language": "python",
   "name": "python3"
  },
  "language_info": {
   "codemirror_mode": {
    "name": "ipython",
    "version": 3
   },
   "file_extension": ".py",
   "mimetype": "text/x-python",
   "name": "python",
   "nbconvert_exporter": "python",
   "pygments_lexer": "ipython3",
   "version": "3.10.6"
  }
 },
 "nbformat": 4,
 "nbformat_minor": 5
}
