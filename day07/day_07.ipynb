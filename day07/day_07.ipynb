{
 "cells": [
  {
   "cell_type": "markdown",
   "id": "a7026bf3-2c0e-4dbc-bc55-17ed1d208ea9",
   "metadata": {},
   "source": [
    "## No Space Left On Device\n",
    "\n",
    "You can hear birds chirping and raindrops hitting leaves as the expedition proceeds. Occasionally, you can even hear much louder sounds in the distance; how big do the animals get out here, anyway?\n",
    "\n",
    "The device the Elves gave you has problems with more than just its communication system. You try to run a system update:\n",
    "\n",
    "```\n",
    "$ system-update --please --pretty-please-with-sugar-on-top\n",
    "Error: No space left on device\n",
    "```\n",
    "\n",
    "Perhaps you can delete some files to make space for the update?\n",
    "\n",
    "You browse around the filesystem to assess the situation and save the resulting terminal output (your puzzle input). For example:\n",
    "\n",
    "```\n",
    "$ cd /\n",
    "$ ls\n",
    "dir a\n",
    "14848514 b.txt\n",
    "8504156 c.dat\n",
    "dir d\n",
    "$ cd a\n",
    "$ ls\n",
    "dir e\n",
    "29116 f\n",
    "2557 g\n",
    "62596 h.lst\n",
    "$ cd e\n",
    "$ ls\n",
    "584 i\n",
    "$ cd ..\n",
    "$ cd ..\n",
    "$ cd d\n",
    "$ ls\n",
    "4060174 j\n",
    "8033020 d.log\n",
    "5626152 d.ext\n",
    "7214296 k\n",
    "```"
   ]
  },
  {
   "cell_type": "markdown",
   "id": "4255e78c-fc13-4d0d-a350-a55585200e2d",
   "metadata": {},
   "source": [
    "The filesystem consists of a tree of files (plain data) and directories (which can contain other directories or files). The outermost directory is called /. You can navigate around the filesystem, moving into or out of directories and listing the contents of the directory you're currently in.\n",
    "\n",
    "Within the terminal output, lines that begin with $ are commands you executed, very much like some modern computers:\n",
    "\n",
    "- `cd` means change directory. This changes which directory is the current directory, but the specific result depends on the argument:\n",
    "\n",
    "  - `cd x` moves in one level: it looks in the current directory for the\n",
    "    directory named x and makes it the current directory.\n",
    "\n",
    "  - `cd ..` moves out one level: it finds the directory that contains\n",
    "    the current directory, then makes that directory the current directory.\n",
    "\n",
    "  - `cd /` switches the current directory to the outermost directory, /.\n",
    "  \n",
    "- `ls` means list. It prints out all of the files and directories immediately contained by the current directory:\n",
    "        \n",
    "  - `123 abc` means that the current directory contains a file named\n",
    "    `abc` with size 123.\n",
    "        \n",
    "  - `dir xyz` means that the current directory contains a directory\n",
    "    named xyz.\n",
    "\n",
    "Given the commands and output in the example above, you can determine that the filesystem looks visually like this:\n",
    "\n",
    "```\n",
    "- / (dir)\n",
    "  - a (dir)\n",
    "    - e (dir)\n",
    "      - i (file, size=584)\n",
    "    - f (file, size=29116)\n",
    "    - g (file, size=2557)\n",
    "    - h.lst (file, size=62596)\n",
    "  - b.txt (file, size=14848514)\n",
    "  - c.dat (file, size=8504156)\n",
    "  - d (dir)\n",
    "    - j (file, size=4060174)\n",
    "    - d.log (file, size=8033020)\n",
    "    - d.ext (file, size=5626152)\n",
    "    - k (file, size=7214296)\n",
    "```\n",
    "\n",
    "Here, there are four directories: `/` (the outermost directory), `a` and `d` (which are in `/`), and `e` (which is in `a`). These directories also contain files of various sizes."
   ]
  },
  {
   "cell_type": "code",
   "execution_count": 1,
   "id": "fa288e85-bc7b-4230-89a9-cdaad72f1171",
   "metadata": {},
   "outputs": [],
   "source": [
    "import pytest"
   ]
  },
  {
   "cell_type": "code",
   "execution_count": 2,
   "id": "d2362aeb-8537-40c8-8ae8-c90dbfe47a4d",
   "metadata": {},
   "outputs": [],
   "source": [
    "def load_input(filename):\n",
    "    with open(filename, 'r') as f_in:\n",
    "        yield from (\n",
    "            line.strip()\n",
    "            for line in f_in.readlines()\n",
    "        )\n",
    "        \n",
    "src = list(load_input('sample.txt'))\n",
    "assert len(src) == 23\n",
    "assert src[0] == '$ cd /'\n",
    "assert src[-1] == '7214296 k'"
   ]
  },
  {
   "cell_type": "code",
   "execution_count": 3,
   "id": "ad740e1c-e00a-4394-a18b-a2ae8b90fbfa",
   "metadata": {},
   "outputs": [],
   "source": [
    "from dataclasses import dataclass, field\n",
    "\n",
    "ROOT = '/'"
   ]
  },
  {
   "cell_type": "markdown",
   "id": "86ccb644-7cdd-4de7-922d-42bae78c01fa",
   "metadata": {},
   "source": [
    "_We'll need a Directory class_"
   ]
  },
  {
   "cell_type": "code",
   "execution_count": 4,
   "id": "fc44e9ff-630b-46e1-bb2a-37906fe33a76",
   "metadata": {},
   "outputs": [],
   "source": [
    "@dataclass\n",
    "class Directory:\n",
    "    name: str\n",
    "    content: dict = field(default_factory=dict)\n",
    "    \n",
    "    def __len__(self):\n",
    "        return len(self.content)\n",
    "    \n",
    "    def is_file(self):\n",
    "        return False\n",
    "    \n",
    "    def is_dir(self):\n",
    "        return True\n",
    "\n",
    "\n",
    "d = Directory('a')\n",
    "assert d.name == 'a'\n",
    "assert d.content == {}\n",
    "assert d.is_dir() is True\n",
    "assert d.is_file() is False"
   ]
  },
  {
   "cell_type": "markdown",
   "id": "b87f8443-3405-4c86-a01f-201fc2a905e3",
   "metadata": {},
   "source": [
    "_We'll need a File class_"
   ]
  },
  {
   "cell_type": "code",
   "execution_count": 5,
   "id": "3c36749c-dce5-4d5e-b17f-f36dff64f998",
   "metadata": {},
   "outputs": [],
   "source": [
    "@dataclass\n",
    "class File:\n",
    "    name: str\n",
    "    size: int\n",
    "    \n",
    "    def is_file(self):\n",
    "        return True\n",
    "    \n",
    "    def is_dir(self):\n",
    "        return False\n",
    "\n",
    "f = File('a.txt', 123)\n",
    "assert f.name == 'a.txt'\n",
    "assert f.size == 123\n",
    "assert f.is_dir() is False\n",
    "assert f.is_file() is True  "
   ]
  },
  {
   "cell_type": "markdown",
   "id": "7dce9d24-7ee9-42a5-ae6a-f0dc9db24e84",
   "metadata": {},
   "source": [
    "_We'll need a FileSystem class_"
   ]
  },
  {
   "cell_type": "code",
   "execution_count": 6,
   "id": "04623255-e2ce-43ef-98dc-9dbc03888f27",
   "metadata": {},
   "outputs": [
    {
     "name": "stdout",
     "output_type": "stream",
     "text": [
      "/ (dir)\n",
      " - etc (dir)\n",
      "   - passwd  (file, size=9532)\n",
      " - a.txt  (file, size=123)\n",
      " - b.txt  (file, size=456)\n"
     ]
    }
   ],
   "source": [
    "class FileSystem:\n",
    "    \n",
    "    def __init__(self):\n",
    "        self.root = self.current_dir = Directory(\n",
    "            name=ROOT,\n",
    "            content={},\n",
    "        )\n",
    "        self.cwd = [self.root]\n",
    "        \n",
    "        \n",
    "    def cd_root(self):\n",
    "        self.current_dir = self.root\n",
    "        self.cwd = [self.root]\n",
    "        \n",
    "    def cd(self, path):\n",
    "        assert isinstance(path, str)\n",
    "        assert path in self.current_dir.content\n",
    "        new_dir = self.current_dir.content[path]\n",
    "        assert new_dir.is_dir()\n",
    "        self.cwd.append(new_dir)\n",
    "        self.current_dir = new_dir\n",
    "        \n",
    "    def cd_pop(self, tron=False):\n",
    "        if len(self.cwd) > 1:\n",
    "            self.cwd.pop()\n",
    "        self.current_dir = self.cwd[-1]\n",
    "        \n",
    "    def add_file(self, file_name: str, file_size: int):\n",
    "        self.current_dir.content[file_name] = File(file_name,file_size)\n",
    "        \n",
    "    def add_directory(self, dir_name):\n",
    "        self.current_dir.content[dir_name] = Directory(dir_name)\n",
    "\n",
    "    def tree(self, entries=None, level=0):\n",
    "        if entries == None and level == 0:\n",
    "            print('/ (dir)')\n",
    "            entries = self.root.content\n",
    "        for name, entry in entries.items():\n",
    "            print(\n",
    "                ' ' * level,\n",
    "                '-',\n",
    "                name,\n",
    "                '(dir)' if entry.is_dir() else f' (file, size={entry.size})',\n",
    "            )\n",
    "            if entry.is_dir():\n",
    "                self.tree(entry.content, level=level+2)\n",
    "        \n",
    "        \n",
    "        \n",
    "fs = FileSystem()\n",
    "assert fs.cwd == [fs.current_dir]\n",
    "assert fs.current_dir.name == ROOT\n",
    "assert fs.current_dir.content == {}\n",
    "fs.add_directory('etc')\n",
    "fs.add_file('a.txt', 123)\n",
    "fs.add_file('b.txt', 456)\n",
    "assert fs.current_dir.content['etc'] == Directory('etc')\n",
    "assert fs.current_dir.content['a.txt'] == File('a.txt', 123)\n",
    "fs.cd('etc')\n",
    "assert len(fs.current_dir) == 0\n",
    "fs.add_file('passwd', 9532)\n",
    "assert len(fs.current_dir) == 1\n",
    "assert fs.current_dir.content['passwd'] == File('passwd', 9532)\n",
    "assert fs.cwd[-1].name == 'etc'\n",
    "fs.cd_pop()\n",
    "assert fs.cwd == [fs.current_dir]\n",
    "fs.cd_pop() # No effect in root\n",
    "assert fs.cwd == [fs.current_dir]\n",
    "fs.tree()"
   ]
  },
  {
   "cell_type": "code",
   "execution_count": 7,
   "id": "66948da6-8e69-44ba-a9fc-c8d22026a82a",
   "metadata": {},
   "outputs": [
    {
     "name": "stdout",
     "output_type": "stream",
     "text": [
      "/ (dir)\n",
      " - a (dir)\n",
      "   - b (dir)\n",
      "     - c (dir)\n"
     ]
    }
   ],
   "source": [
    "fs = FileSystem()\n",
    "fs.add_directory('a')\n",
    "fs.cd('a')\n",
    "fs.add_directory('b')\n",
    "fs.cd('b')\n",
    "fs.add_directory('c')\n",
    "fs.cd('c')\n",
    "fs.tree()"
   ]
  },
  {
   "cell_type": "markdown",
   "id": "c023a851-f2f9-4aef-a230-fb27ba844829",
   "metadata": {},
   "source": [
    "_We'll need a function to parse one line_"
   ]
  },
  {
   "cell_type": "code",
   "execution_count": 8,
   "id": "6717424b-068d-4104-9e8e-80ed35c69d23",
   "metadata": {},
   "outputs": [],
   "source": [
    "def parse_line(line):\n",
    "    if line[0] == '$':  # is a command\n",
    "        cmd = line[2:]\n",
    "        if cmd.startswith('cd '):\n",
    "            return tuple(cmd.split(' ', 1))\n",
    "        elif cmd == 'ls':\n",
    "            return cmd\n",
    "        raise ValueError(f\"Command {cmd} not valid\")\n",
    "    else:  # Is a file/dir entry\n",
    "        dir_or_size, name = line.split(' ')\n",
    "        if dir_or_size.isnumeric():\n",
    "            return 'file', name, int(dir_or_size)\n",
    "        elif dir_or_size == 'dir':\n",
    "            return 'dir', name\n",
    "        raise ValueError(f\"Can't understand line {line}\")\n",
    "    \n",
    "\n",
    "assert parse_line('$ cd /') == ('cd', '/')\n",
    "assert parse_line('$ cd ..') == ('cd', '..')\n",
    "assert parse_line('$ cd abc') == ('cd', 'abc')\n",
    "assert parse_line('$ ls') == 'ls'\n",
    "assert parse_line('dir etc') == ('dir', 'etc')\n",
    "assert parse_line('58932 passwd') == ('file', 'passwd', 58932)\n",
    "    "
   ]
  },
  {
   "cell_type": "markdown",
   "id": "0759d36a-7d7a-4695-98cf-6d201df939df",
   "metadata": {},
   "source": [
    "_And finally we'll need a function to read, parse and execute lines_"
   ]
  },
  {
   "cell_type": "code",
   "execution_count": 9,
   "id": "c9d5eaa5-fc4a-45d9-84bd-d8f8db5c5dd3",
   "metadata": {},
   "outputs": [],
   "source": [
    "def execute(file_name):\n",
    "    fs = FileSystem()\n",
    "    with open(file_name, 'r') as f_input:\n",
    "        for line in f_input.readlines():\n",
    "            line = line.strip()\n",
    "            match parse_line(line):\n",
    "                case 'cd', '/':\n",
    "                    fs.cd_root()\n",
    "                case 'cd', '..':\n",
    "                    fs.cd_pop()\n",
    "                case 'cd', dir_name:\n",
    "                    fs.cd(dir_name)\n",
    "                case 'file', name, size:\n",
    "                    fs.add_file(name, size)\n",
    "                case 'dir', name:\n",
    "                    fs.add_directory(name)\n",
    "    return fs"
   ]
  },
  {
   "cell_type": "code",
   "execution_count": 10,
   "id": "41e723b8-12ab-4406-8aea-857eebf35aa7",
   "metadata": {},
   "outputs": [
    {
     "name": "stdout",
     "output_type": "stream",
     "text": [
      "/ (dir)\n",
      " - a (dir)\n",
      "   - e (dir)\n",
      "     - i  (file, size=584)\n",
      "   - f  (file, size=29116)\n",
      "   - g  (file, size=2557)\n",
      "   - h.lst  (file, size=62596)\n",
      " - b.txt  (file, size=14848514)\n",
      " - c.dat  (file, size=8504156)\n",
      " - d (dir)\n",
      "   - j  (file, size=4060174)\n",
      "   - d.log  (file, size=8033020)\n",
      "   - d.ext  (file, size=5626152)\n",
      "   - k  (file, size=7214296)\n"
     ]
    }
   ],
   "source": [
    "fs = execute('sample.txt')\n",
    "fs.tree()"
   ]
  },
  {
   "cell_type": "markdown",
   "id": "edf2b4d6-3f79-40e5-8bf6-b003ec902d36",
   "metadata": {},
   "source": [
    "Since the disk is full, your first step should probably be to find directories that are good candidates for deletion. To do this, you need to determine the total size of each directory. The total size of a directory is the sum of the sizes of the files it contains, directly or indirectly. (Directories themselves do not count as having any intrinsic size.)\n",
    "\n",
    "The total sizes of the directories above can be found as follows:\n",
    "\n",
    "- The total size of directory `e` is 584 because it contains a single file `i` of size 584 and no other directories.\n",
    "\n",
    "- The directory `a` has total size 94853 because it contains files `f` (size 29116), `g` (size 2557), and `h.lst` (size 62596), plus file `i` indirectly (`a` contains `e` which contains `i`).\n",
    "\n",
    "- Directory `d` has total size 24933642.\n",
    "    \n",
    "As the outermost directory, `/` contains every file. Its total size is 48381165, the sum of the size of every file.\n",
    "\n",
    "To begin, **find all of the directories with a total size of at most 100000, then calculate the sum of their total size**s."
   ]
  },
  {
   "cell_type": "code",
   "execution_count": 11,
   "id": "eefedc91-3af3-42c8-a3b7-0ec8ccb5b7ff",
   "metadata": {},
   "outputs": [],
   "source": [
    "def get_directory_sizes(filename):\n",
    "    stack = []\n",
    "    def get_sizes(directory, base='/'):\n",
    "        nonlocal stack\n",
    "        assert directory.is_dir()\n",
    "        size = 0\n",
    "        for name, item in directory.content.items():\n",
    "            if item.is_file():\n",
    "                size += item.size\n",
    "            else:\n",
    "                size += get_sizes(item, base=f\"{base}/{name}\")\n",
    "        stack.append((directory.name, size))\n",
    "        return size\n",
    "    fs = execute(filename)\n",
    "    get_sizes(fs.root)\n",
    "    return stack"
   ]
  },
  {
   "cell_type": "markdown",
   "id": "b1f6233b-f57a-4040-9e43-fc8bc1b539df",
   "metadata": {},
   "source": [
    " In the example above, these directories are a and e; the sum of their total sizes is 95437 (94853 + 584). (As in this example, this process can count files more than once!)"
   ]
  },
  {
   "cell_type": "code",
   "execution_count": 12,
   "id": "9ad8ac05-f685-481d-9559-cd9ae2825740",
   "metadata": {},
   "outputs": [
    {
     "name": "stdout",
     "output_type": "stream",
     "text": [
      "[('e', 584), ('a', 94853), ('d', 24933642), ('/', 48381165)]\n"
     ]
    }
   ],
   "source": [
    "print(get_directory_sizes('sample.txt'))"
   ]
  },
  {
   "cell_type": "code",
   "execution_count": 13,
   "id": "b79de395-1f00-40c6-9427-d06e07299a62",
   "metadata": {},
   "outputs": [],
   "source": [
    "def solution_one(filename):\n",
    "    return sum(\n",
    "        size\n",
    "        for _dir_size, size in get_directory_sizes(filename)\n",
    "        if size <= 100000\n",
    "    )\n",
    "assert solution_one('sample.txt') ==  95437"
   ]
  },
  {
   "cell_type": "code",
   "execution_count": 14,
   "id": "d878a792-a9ee-4a5c-8ef8-527547ca2de1",
   "metadata": {},
   "outputs": [
    {
     "name": "stdout",
     "output_type": "stream",
     "text": [
      "Solution part one: 1723892\n"
     ]
    }
   ],
   "source": [
    "sol = solution_one('input.txt')\n",
    "print(f\"Solution part one: {sol}\")"
   ]
  },
  {
   "cell_type": "markdown",
   "id": "c5b903f6-74d1-4073-a384-b4f41bc6e8a9",
   "metadata": {},
   "source": [
    "## Part two\n",
    "\n",
    "Now, you're ready to choose a directory to delete.\n",
    "\n",
    "The total disk space available to the filesystem is 70000000. To run the update, you need unused space of at least 30000000. You need to find a directory you can delete that will free up enough space to run the update.\n",
    "\n",
    "In the example above, the total size of the outermost directory (and thus the total amount of used space) is 48381165; this means that the size of the unused space must currently be 21618835, which isn't quite the 30000000 required by the update. Therefore, the update still requires a directory with total size of at least 8381165 to be deleted before it can run.\n",
    "\n",
    "To achieve this, you have the following options:\n",
    "\n",
    "    Delete directory e, which would increase unused space by 584.\n",
    "    Delete directory a, which would increase unused space by 94853.\n",
    "    Delete directory d, which would increase unused space by 24933642.\n",
    "    Delete directory /, which would increase unused space by 48381165.\n",
    "\n",
    "Directories e and a are both too small; deleting them would not free up enough space. However, directories d and / are both big enough! Between these, choose the smallest: d, increasing unused space by 24933642.\n",
    "\n",
    "Find the smallest directory that, if deleted, would free up enough space on the filesystem to run the update. What is the total size of that directory?"
   ]
  },
  {
   "cell_type": "code",
   "execution_count": 15,
   "id": "8277a341-a76e-4f3b-bb77-1dc784e86a61",
   "metadata": {},
   "outputs": [],
   "source": [
    "target = 30000000 - (70000000 - 48381165)"
   ]
  },
  {
   "cell_type": "code",
   "execution_count": 16,
   "id": "42b38d54-a653-4d8b-ae88-78cdcd7f2afe",
   "metadata": {},
   "outputs": [],
   "source": [
    "memory_size = 70000000\n",
    "needed_space = 30000000\n",
    "sizes = get_directory_sizes('sample.txt')\n",
    "used_space = dict(sizes)['/']\n",
    "assert used_space == 48381165\n",
    "target = needed_space - (memory_size - used_space)\n",
    "assert target == 8381165"
   ]
  },
  {
   "cell_type": "code",
   "execution_count": 17,
   "id": "0e40d65c-bc2a-46b8-88eb-94bb1b89c5d7",
   "metadata": {},
   "outputs": [],
   "source": [
    "def solution_two(filename):\n",
    "    memory_size = 70000000\n",
    "    needed_space = 30000000\n",
    "    sizes = get_directory_sizes(filename)\n",
    "    used_space = dict(sizes)['/']\n",
    "    target = needed_space - (memory_size - used_space)\n",
    "    options = sorted(\n",
    "        (size, name)\n",
    "        for name, size in sizes\n",
    "        if size >= target\n",
    "    )\n",
    "    return options[0]\n",
    "\n",
    "\n",
    "assert solution_two('sample.txt') ==  (24933642, 'd')"
   ]
  },
  {
   "cell_type": "code",
   "execution_count": 18,
   "id": "a37e8ef8-8b2f-43af-828f-5e356391496b",
   "metadata": {},
   "outputs": [
    {
     "name": "stdout",
     "output_type": "stream",
     "text": [
      "Solution part two: 8474158\n"
     ]
    }
   ],
   "source": [
    "sol, _ = solution_two('input.txt')\n",
    "print(f\"Solution part two: {sol}\")"
   ]
  }
 ],
 "metadata": {
  "kernelspec": {
   "display_name": "Python 3 (ipykernel)",
   "language": "python",
   "name": "python3"
  },
  "language_info": {
   "codemirror_mode": {
    "name": "ipython",
    "version": 3
   },
   "file_extension": ".py",
   "mimetype": "text/x-python",
   "name": "python",
   "nbconvert_exporter": "python",
   "pygments_lexer": "ipython3",
   "version": "3.10.6"
  }
 },
 "nbformat": 4,
 "nbformat_minor": 5
}
