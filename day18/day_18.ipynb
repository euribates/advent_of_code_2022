{
 "cells": [
  {
   "cell_type": "markdown",
   "id": "826f9acc-d6e2-4d65-8ef7-430e7d483357",
   "metadata": {},
   "source": [
    "## Day 18: Boiling Boulders\n",
    "\n",
    "You and the elephants finally reach fresh air. You've emerged near the base of a large volcano that seems to be actively erupting! Fortunately, the lava seems to be flowing away from you and toward the ocean.\n",
    "\n",
    "Bits of lava are still being ejected toward you, so you're sheltering in the cavern exit a little longer. Outside the cave, you can see the lava landing in a pond and hear it loudly hissing as it solidifies.\n",
    "\n",
    "Depending on the specific compounds in the lava and speed at which it cools, it might be forming obsidian! The cooling rate should be based on the surface area of the lava droplets, so you take a quick scan of a droplet as it flies past you (your puzzle input).\n",
    "\n",
    "Because of how quickly the lava is moving, the scan isn't very good; its resolution is quite low and, as a result, it approximates the shape of the lava droplet with **1x1x1 cubes on a 3D grid**, each given as its x,y,z position.\n",
    "\n",
    "To approximate the surface area, count the number of sides of each cube that are not immediately connected to another cube. So, if your scan were only two adjacent cubes like 1,1,1 and 2,1,1, each cube would have a single side covered and five sides exposed, a total surface area of 10 sides.\n",
    "\n",
    "Here's a larger example:\n",
    "\n",
    "```\n",
    "2,2,2\n",
    "1,2,2\n",
    "3,2,2\n",
    "2,1,2\n",
    "2,3,2\n",
    "2,2,1\n",
    "2,2,3\n",
    "2,2,4\n",
    "2,2,6\n",
    "1,2,5\n",
    "3,2,5\n",
    "2,1,5\n",
    "2,3,5\n",
    "```"
   ]
  },
  {
   "cell_type": "code",
   "execution_count": 18,
   "id": "440b0627-6c0e-4a89-a225-ccf14c657d1c",
   "metadata": {},
   "outputs": [],
   "source": [
    "import collections\n",
    "import itertools\n",
    "\n",
    "import pytest\n",
    "from icecream import ic"
   ]
  },
  {
   "cell_type": "code",
   "execution_count": 19,
   "id": "56355a0f-f2da-46ca-b78d-ef2a9054e484",
   "metadata": {},
   "outputs": [],
   "source": [
    "def load_from_file(filename):\n",
    "    with open(filename, 'r') as f_input:\n",
    "        for line in f_input:\n",
    "            line = line.strip()\n",
    "            if not line or line.startswith('#'):\n",
    "                continue\n",
    "            x, y, z = line.split(',')\n",
    "            yield int(x), int(y), int(z)"
   ]
  },
  {
   "cell_type": "code",
   "execution_count": 20,
   "id": "ffb85623-3da7-4ca2-b04c-2420f7713317",
   "metadata": {},
   "outputs": [],
   "source": [
    "def load_input(filename):\n",
    "    space_map = collections.defaultdict(bool)\n",
    "    blocks = []\n",
    "    min_x = min_y = min_z = float(\"inf\")\n",
    "    max_x = max_y = max_z = float(\"-inf\")\n",
    "    for x, y, z in load_from_file(filename):\n",
    "        min_x = min(min_x, x)\n",
    "        min_y = min(min_y, y)\n",
    "        min_z = min(min_z, z)\n",
    "        max_x = max(max_x, x)\n",
    "        max_y = max(max_y, y)\n",
    "        max_z = max(max_z, z)\n",
    "        space_map[(x, y, z)] = True\n",
    "        blocks.append((x, y, z))\n",
    "    bounds = (\n",
    "        (min_x, max_x + 1),\n",
    "        (min_y, max_y + 1),\n",
    "        (min_z, max_z + 1),\n",
    "    )\n",
    "    return (blocks, space_map, bounds)"
   ]
  },
  {
   "cell_type": "markdown",
   "id": "7f9b09e8-43fc-4b10-9431-e82c3d9f198b",
   "metadata": {},
   "source": [
    "> Una función para contar las caras libres:"
   ]
  },
  {
   "cell_type": "code",
   "execution_count": 21,
   "id": "75149ec4-c91e-403a-a7b7-20b30ac5c5ba",
   "metadata": {},
   "outputs": [],
   "source": [
    "def count_free_sides(data, coord):\n",
    "    x, y, z = coord\n",
    "    return 6 - sum(\n",
    "        [\n",
    "            data[(x - 1, y, z)],\n",
    "            data[(x + 1, y, z)],\n",
    "            data[(x, y - 1, z)],\n",
    "            data[(x, y + 1, z)],\n",
    "            data[(x, y, z - 1)],\n",
    "            data[(x, y, z + 1)],\n",
    "        ]\n",
    "    )\n",
    "\n",
    "\n",
    "test_data = collections.defaultdict(bool)\n",
    "test_data[(1, 1, 1)] = True\n",
    "test_data[(2, 1, 1)] = True\n",
    "assert count_free_sides(test_data, (1, 1, 1)) == 5\n",
    "assert count_free_sides(test_data, (2, 1, 1)) == 5"
   ]
  },
  {
   "cell_type": "code",
   "execution_count": 22,
   "id": "d54d75e8-63f4-4f19-9d5f-45af647915cb",
   "metadata": {},
   "outputs": [],
   "source": [
    "_blocks, cube_map, _bounds = load_input(\"cube.txt\")\n",
    "assert len(cube_map) == 26\n",
    "assert cube_map[1, 3, -1] is True\n",
    "assert count_free_sides(cube_map, (1, 3, -1)) == 3\n",
    "assert cube_map[1, 3, 0] is True\n",
    "assert count_free_sides(cube_map, (1, 3, 0)) == 2\n",
    "assert cube_map[1, 3, 1] is True\n",
    "assert count_free_sides(cube_map, (1, 3, 1)) == 3\n",
    "\n",
    "assert cube_map[1, 2, 0] is True\n",
    "assert count_free_sides(cube_map, [1, 2, 0]) == 2\n",
    "\n",
    "assert cube_map[2, 2, 0] is False\n",
    "assert count_free_sides(cube_map, [2, 2, 0]) == 0\n",
    "\n",
    "assert cube_map[2, 2, -1] is True\n",
    "assert count_free_sides(cube_map, [2, 2, -1]) == 2\n",
    "\n",
    "assert solution_one(\"cube.txt\") == 60"
   ]
  },
  {
   "cell_type": "markdown",
   "id": "d58a9cfa-7a08-4f9f-94c5-d6b1d607ef7b",
   "metadata": {},
   "source": [
    "In the above example, after counting up all the sides that aren't connected to another cube, the total surface area is **64**.\n",
    "\n",
    "**What is the surface area of your scanned lava droplet?**"
   ]
  },
  {
   "cell_type": "code",
   "execution_count": 23,
   "id": "43b5e41e-b2f5-45e7-b985-084a863cf1a6",
   "metadata": {},
   "outputs": [],
   "source": [
    "def solution_one(filename):\n",
    "    blocks, space_map, _ = load_input(filename)\n",
    "    acc = 0\n",
    "    for coord in blocks:\n",
    "        acc += count_free_sides(space_map, coord)\n",
    "    return acc"
   ]
  },
  {
   "cell_type": "code",
   "execution_count": 24,
   "id": "af4f652e-5ffd-4cee-8f7d-9dac21b3bb39",
   "metadata": {},
   "outputs": [],
   "source": [
    "assert solution_one('sample.txt') == 64"
   ]
  },
  {
   "cell_type": "code",
   "execution_count": 25,
   "id": "d00c8451-153d-4cbe-b0eb-169cf48ffd05",
   "metadata": {},
   "outputs": [
    {
     "name": "stdout",
     "output_type": "stream",
     "text": [
      "Solution part one: 4548\n"
     ]
    }
   ],
   "source": [
    "sol = solution_one('input.txt')\n",
    "print(f\"Solution part one: {sol}\")"
   ]
  },
  {
   "cell_type": "markdown",
   "id": "0b604c1d-d4dd-43e1-a5ba-daf633fd6379",
   "metadata": {},
   "source": [
    "## Part two\n",
    "\n",
    "Something seems off about your calculation. The cooling rate depends on exterior surface area, but your calculation also included the surface area of air pockets trapped in the lava droplet.\n",
    "\n",
    "Instead, consider only cube sides that could be reached by the water and steam as the lava droplet tumbles into the pond. The steam will expand to reach as much as possible, completely displacing any air on the outside of the lava droplet but never expanding diagonally.\n",
    "\n",
    "In the larger example above, exactly one cube of air is trapped within the lava droplet (at 2,2,5), so the exterior surface area of the lava droplet is **58**."
   ]
  },
  {
   "cell_type": "markdown",
   "id": "952762e8-0dc9-4a3b-bb3d-21d3cf324964",
   "metadata": {},
   "source": [
    "> Aquí el problema es saber si una celda esta dentro o no. Para cada celda libre que está dentro de los límites del _bounding box_, hay que ver si se puede trazar una ruta hasta el exxterior."
   ]
  },
  {
   "cell_type": "code",
   "execution_count": 26,
   "id": "430be759-55ba-4c66-bc8f-be38b6748dba",
   "metadata": {},
   "outputs": [],
   "source": [
    "def is_empty(_map, coord):\n",
    "    return _map[coord] is False\n",
    "\n",
    "\n",
    "def z_section(_map, bounds, z):\n",
    "    (min_x, max_x), (min_y, max_y), (min_z, max_z) = bounds\n",
    "    assert z in range(min_z, max_z)\n",
    "    buff = [f'Z : {z}\\n']\n",
    "    for y in range(max_y, min(min_y, 0)-1, -1):\n",
    "        for x in range(min(min_x, 0), max_x+1):\n",
    "            if is_empty(_map, (x, y, z)):\n",
    "                buff.append('.')\n",
    "            else:\n",
    "                buff.append('#')\n",
    "        buff.append('\\n')\n",
    "    return ''.join(buff)\n",
    "\n",
    "\n",
    "def test_cube():\n",
    "    blocks, cube_map, bounds = load_input(\"cube.txt\")\n",
    "    for z in range(-1, 2):\n",
    "        print(z_section(cube_map, bounds, z))\n",
    "    for x, y, z in itertools.product(range(1, 4), range(1, 4), range(-1, 2)):\n",
    "        if (x, y, z) == (2, 2, 0):\n",
    "            assert is_empty(cube_map, (x, y, z))\n",
    "        else:\n",
    "            assert not is_empty(cube_map, (x, y, z))\n",
    "\n",
    "\n",
    "def test_z_section():\n",
    "    blocks, box_map, bounds = load_input(\"box.txt\")\n",
    "    for z in range(-1, 2):\n",
    "        print(z_section(box_map, bounds, z))\n",
    "\n",
    "\n",
    "def get_all_neighbours(_map, coord):\n",
    "    (x, y, z) = coord\n",
    "    deltas = [\n",
    "        (-1, 0, 0),\n",
    "        (1, 0, 0),\n",
    "        (0, -1, 0),\n",
    "        (0, 1, 0),\n",
    "        (0, 0, -1),\n",
    "        (0, 0, 1),\n",
    "        ]\n",
    "    for (dx, dy, dz) in deltas:\n",
    "        yield (x+dx, y+dy, z+dz)\n",
    "    return\n",
    "\n",
    "\n",
    "def get_empty_neighbours(_map, coord):\n",
    "    yield from [\n",
    "        node\n",
    "        for node in get_all_neighbours(_map, coord)\n",
    "        if is_empty(_map, node)\n",
    "    ]\n",
    "\n",
    "def get_local_neighbours(_map, coord):\n",
    "    yield from [\n",
    "        node\n",
    "        for node in get_all_neighbours(_map, coord)\n",
    "        if not is_empty(_map, node)\n",
    "    ]\n",
    "\n",
    "\n",
    "def test_get_neighbours():\n",
    "    blocks, _map, bounds = load_input(\"cube.txt\")\n",
    "    assert set(get_empty_neighbours(_map, (1, 3, -1))) == set([\n",
    "        (0, 3, -1),\n",
    "        (1, 4, -1),\n",
    "        (1, 3, -2),\n",
    "        ])\n",
    "    assert set(get_local_neighbours(_map, (1, 3, -1))) == set([\n",
    "        (2, 3, -1),\n",
    "        (1, 3, 0),\n",
    "        (1, 2, -1),\n",
    "        ])\n",
    "    assert set(get_empty_neighbours(_map, (1, 3, -1))) == set([\n",
    "        (0, 3, -1),\n",
    "        (1, 4, -1),\n",
    "        (1, 3, -2),\n",
    "        ])\n",
    "    assert set(get_all_neighbours(_map, (1, 3, -1))) == set([\n",
    "        (0, 3, -1),\n",
    "        (1, 2, -1),\n",
    "        (1, 3, -2),\n",
    "        (1, 3, 0),\n",
    "        (1, 4, -1),\n",
    "        (2, 3, -1),\n",
    "        ])\n",
    "\n",
    "\n",
    "test_get_neighbours()"
   ]
  },
  {
   "cell_type": "code",
   "execution_count": 27,
   "id": "70676484-166a-4706-997b-f6c141706243",
   "metadata": {},
   "outputs": [],
   "source": [
    "def is_inside(coord, bounds):\n",
    "    (x, y, z) = coord\n",
    "    (min_x, max_x), (min_y, max_y), (min_z, max_z) = bounds\n",
    "    return all([\n",
    "        min_x <= x < max_x,\n",
    "        min_y <= y < max_y,\n",
    "        min_z <= z < max_z,\n",
    "        ])\n",
    "\n",
    "\n",
    "def find_exit(_map, coord, bounds, tron=False):\n",
    "    if tron:\n",
    "        ic('find_exit starts')\n",
    "    if not is_inside(coord, bounds):\n",
    "        if tron:\n",
    "            ic(f'{coord} It is outside!')\n",
    "        return True\n",
    "    (min_x, max_x), (min_y, max_y), (min_z, max_z) = bounds\n",
    "    frontier = set([coord])\n",
    "    visited = set()\n",
    "    while frontier:\n",
    "        if tron:\n",
    "            ic(visited, frontier)\n",
    "        node = frontier.pop()\n",
    "        if not is_inside(node, bounds):\n",
    "            if tron:\n",
    "                ic(f'node {node} is outside')\n",
    "            return True\n",
    "        visited.add(node)\n",
    "        if tron:\n",
    "            ic(visited, frontier)\n",
    "        for nb in get_empty_neighbours(_map, node):\n",
    "            if nb not in visited:\n",
    "                frontier.add(nb)\n",
    "    return False\n",
    "\n",
    "\n",
    "def is_isolated_inside(_map, coord, bounds, tron=False):\n",
    "    assert is_empty(_map, coord)\n",
    "    if tron:\n",
    "        ic('is_isolated_inside starts', coord)\n",
    "    if not find_exit(_map, coord, bounds):  # Is Internal\n",
    "        return len(list(get_local_neighbours(_map, coord)))\n",
    "    return 0\n",
    "\n",
    "\n",
    "blocks, cube_map, bounds = load_input(\"cube.txt\")\n",
    "assert is_empty(cube_map, (2, 2, 0))\n",
    "assert not is_empty(cube_map, (1, 2, 0))\n",
    "assert is_isolated_inside(cube_map, (2, 2, 0), bounds) == 6"
   ]
  },
  {
   "cell_type": "code",
   "execution_count": 30,
   "id": "dcc2ed1f-11dd-4f81-9947-5ae72b2f2ed1",
   "metadata": {},
   "outputs": [],
   "source": [
    "def solution_two(filename, tron=False):\n",
    "    blocks, space_map, bounds = load_input(filename)\n",
    "    acc = 0\n",
    "    for coord in blocks:\n",
    "        acc += count_free_sides(space_map, coord)\n",
    "    (min_x, max_x), (min_y, max_y), (min_z, max_z) = bounds\n",
    "\n",
    "    for x, y, z in itertools.product(\n",
    "        range(min_x, max_x),\n",
    "        range(min_y, max_y),\n",
    "        range(min_z, max_z),\n",
    "        ):\n",
    "        if is_empty(space_map, (x, y, z)):\n",
    "            inc = is_isolated_inside(space_map, (x, y, z), bounds)\n",
    "            acc -= inc\n",
    "    return acc"
   ]
  },
  {
   "cell_type": "code",
   "execution_count": 31,
   "id": "88d0359f-c8b1-46b9-8e4c-62fed6ef68e4",
   "metadata": {},
   "outputs": [],
   "source": [
    "assert solution_two(\"simple.txt\") == 10\n",
    "assert solution_two(\"sample.txt\") == 58"
   ]
  },
  {
   "cell_type": "markdown",
   "id": "dea8c593-d93f-4cd8-ad7e-d230a3d48926",
   "metadata": {},
   "source": [
    "**What is the exterior surface area of your scanned lava droplet?**"
   ]
  },
  {
   "cell_type": "code",
   "execution_count": 31,
   "id": "71a08384-7044-4060-a276-682296f9d0ff",
   "metadata": {},
   "outputs": [
    {
     "name": "stdout",
     "output_type": "stream",
     "text": [
      "Solution part two: 2588\n"
     ]
    }
   ],
   "source": [
    "sol = solution_two(\"input.txt\")\n",
    "print(\"Solution part two:\", solution_two(\"input.txt\"))"
   ]
  }
 ],
 "metadata": {
  "kernelspec": {
   "display_name": "Python 3 (ipykernel)",
   "language": "python",
   "name": "python3"
  },
  "language_info": {
   "codemirror_mode": {
    "name": "ipython",
    "version": 3
   },
   "file_extension": ".py",
   "mimetype": "text/x-python",
   "name": "python",
   "nbconvert_exporter": "python",
   "pygments_lexer": "ipython3",
   "version": "3.10.6"
  }
 },
 "nbformat": 4,
 "nbformat_minor": 5
}
