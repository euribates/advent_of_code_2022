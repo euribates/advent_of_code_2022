{
 "cells": [
  {
   "cell_type": "markdown",
   "id": "d3c3c64f-e8c8-417c-9959-1d593e6ea834",
   "metadata": {},
   "source": [
    "## Day 6: Tuning Trouble\n",
    "\n",
    "The preparations are finally complete; you and the Elves leave camp on foot and begin to make your way toward the star fruit grove.\n",
    "\n",
    "As you move through the dense undergrowth, one of the Elves gives you a handheld device. He says that it has many fancy features, but the most important one to set up right now is the communication system.\n",
    "\n",
    "However, because he's heard you have significant experience dealing with signal-based systems, he convinced the other Elves that it would be okay to give you their one malfunctioning device - surely you'll have no problem fixing it.\n",
    "\n",
    "As if inspired by comedic timing, the device emits a few colorful sparks.\n",
    "\n",
    "To be able to communicate with the Elves, the device needs to lock on to their signal. The signal is a series of seemingly-random characters that the device receives one at a time.\n",
    "\n",
    "To fix the communication system, you need to add a subroutine to the device that detects a start-of-packet marker in the datastream. In the protocol being used by the Elves, the start of a packet is indicated by a sequence of four characters that are all different.\n",
    "\n",
    "The device will send your subroutine a datastream buffer (your puzzle input); your subroutine needs to identify the first position where the four most recently received characters were all different. Specifically, it needs to report the number of characters from the beginning of the buffer to the end of the first such four-character marker."
   ]
  },
  {
   "cell_type": "markdown",
   "id": "8030add9-0bc5-43ce-911f-598b7e270e85",
   "metadata": {},
   "source": [
    "For example, suppose you receive the following datastream buffer:\n",
    "\n",
    "```\n",
    "mjqjpqmgbljsphdztnvjfqwrcgsmlb\n",
    "```\n",
    "\n",
    "After the first three characters (`mjq`) have been received, there haven't been enough characters received yet to find the marker. The first time a marker could occur is after the fourth character is received, making the most recent four characters `mjqj`. Because `j` is repeated, this isn't a marker.\n",
    "\n",
    "The first time a marker appears is after the seventh character arrives. Once it does, the last four characters received are `jpqm`, which are all different. In this case, your subroutine should report the value **7**, because the first start-of-packet marker is complete after 7 characters have been processed."
   ]
  },
  {
   "cell_type": "code",
   "execution_count": 1,
   "id": "6bd6e2e6-fac4-48c1-a05d-b2e230233cd8",
   "metadata": {},
   "outputs": [],
   "source": [
    "from icecream import ic"
   ]
  },
  {
   "cell_type": "code",
   "execution_count": 2,
   "id": "3fefbcb1-3346-4989-aa32-74ebf80addf7",
   "metadata": {},
   "outputs": [],
   "source": [
    "def load_input(filename):\n",
    "    with open(filename, 'r') as f_in:\n",
    "        for line in f_in:\n",
    "            line = line.rstrip()\n",
    "            for char in line:\n",
    "                yield(char)"
   ]
  },
  {
   "cell_type": "code",
   "execution_count": 3,
   "id": "6eb11a04-c7e9-4131-a610-88bbabe25d90",
   "metadata": {},
   "outputs": [],
   "source": [
    "assert list(load_input('sample.txt')) == [\n",
    "    'm', 'j', 'q', 'j', 'p', 'q', 'm', 'g', 'b', 'l', 'j', 's', 'p', 'h', 'd',\n",
    "    'z', 't', 'n', 'v', 'j', 'f', 'q', 'w', 'r', 'c', 'g', 's', 'm', 'l', 'b',\n",
    "]"
   ]
  },
  {
   "cell_type": "code",
   "execution_count": 4,
   "id": "13ec5367-57cf-4b07-a8fe-8040d54a4e83",
   "metadata": {},
   "outputs": [],
   "source": [
    "def all_different(*args):\n",
    "    return len(args) == len(set(args))"
   ]
  },
  {
   "cell_type": "code",
   "execution_count": 5,
   "id": "3735fb7e-1407-4f54-9ef5-bca4378b0771",
   "metadata": {},
   "outputs": [],
   "source": [
    "assert all_different('m', 'j', 'q', 'j') is False\n",
    "assert all_different('j', 'p', 'q', 'm') is True\n",
    "assert all_different('m', 'j', 'q', 'k') is True"
   ]
  },
  {
   "cell_type": "code",
   "execution_count": 6,
   "id": "ec031713-53ac-418c-9a6f-068363ae9c46",
   "metadata": {},
   "outputs": [],
   "source": [
    "from itertools import tee\n",
    "\n",
    "def solution_one(iterable):\n",
    "    (i1, i2, i3, i4) = tee(iterable, 4)\n",
    "    next(i2)\n",
    "    next(i3); next(i3)\n",
    "    next(i4); next(i4); next(i4)\n",
    "    for counter, (a, b, c, d) in enumerate(zip(i1, i2, i3, i4), start=4):\n",
    "        if all_different(a, b, c, d):\n",
    "            return counter\n",
    "    raise ValueError('start-of-packet marker not found')"
   ]
  },
  {
   "cell_type": "code",
   "execution_count": 7,
   "id": "09f1d547-f96a-495a-b8b6-13d7cd8f8fc1",
   "metadata": {},
   "outputs": [],
   "source": [
    "assert solution_one(load_input('sample.txt')) == 7"
   ]
  },
  {
   "cell_type": "markdown",
   "id": "2398ed72-de70-48fd-a54f-963599b1be99",
   "metadata": {},
   "source": [
    "Here are a few more examples:\n",
    "\n",
    "- `bvwbjplbgvbhsrlpgdmjqwftvncz`: first marker after character **5**\n",
    "- `nppdvjthqldpwncqszvftbrmjlhg`: first marker after character **6**\n",
    "- `nznrnfrfntjfmvfwmzdfjlvtqnbhcprsg`: first marker after character **10**\n",
    "- `zcfzfwzzqfrljwzlrfnpqdbhtmscgvjw`: first marker after character **11**"
   ]
  },
  {
   "cell_type": "code",
   "execution_count": 8,
   "id": "6db3fdc5-4bb6-4e5e-b2fb-b60c1444c6b1",
   "metadata": {},
   "outputs": [],
   "source": [
    "assert solution_one(iter('bvwbjplbgvbhsrlpgdmjqwftvncz')) == 5\n",
    "assert solution_one(iter('nppdvjthqldpwncqszvftbrmjlhg')) == 6\n",
    "assert solution_one(iter('nznrnfrfntjfmvfwmzdfjlvtqnbhcprsg')) == 10\n",
    "assert solution_one(iter('zcfzfwzzqfrljwzlrfnpqdbhtmscgvjw')) == 11"
   ]
  },
  {
   "cell_type": "code",
   "execution_count": 9,
   "id": "c8ec22c3-bd7d-4545-a70f-23d23ccb551c",
   "metadata": {},
   "outputs": [
    {
     "name": "stdout",
     "output_type": "stream",
     "text": [
      "Solution part one: 1042\n"
     ]
    }
   ],
   "source": [
    "sol = solution_one(load_input('input.txt'))\n",
    "print(f\"Solution part one: {sol}\")"
   ]
  },
  {
   "cell_type": "markdown",
   "id": "38e81108-0961-42ef-9a65-4a4b396ca478",
   "metadata": {},
   "source": [
    "## Part two"
   ]
  },
  {
   "cell_type": "markdown",
   "id": "9601f670-81f5-403e-9391-913586543021",
   "metadata": {},
   "source": [
    "Your device's communication system is correctly detecting packets, but still isn't working. It looks like it also needs to look for messages.\n",
    "\n",
    "A start-of-message marker is just like a start-of-packet marker, except it consists of **14 distinct characters** rather than 4.\n",
    "\n",
    "Here are the first positions of start-of-message markers for all of the above examples:\n",
    "\n",
    "- `mjqjpqmgbljsphdztnvjfqwrcgsmlb`: first marker after character **19**\n",
    "- `bvwbjplbgvbhsrlpgdmjqwftvncz`: first marker after character **23**\n",
    "- `nppdvjthqldpwncqszvftbrmjlhg`: first marker after character **23**\n",
    "- `nznrnfrfntjfmvfwmzdfjlvtqnbhcprsg`: first marker after character **29**\n",
    "- `zcfzfwzzqfrljwzlrfnpqdbhtmscgvjw`: first marker after character **26**\n",
    "\n",
    "**How many characters need to be processed before the first start-of-message marker is detected?**"
   ]
  },
  {
   "cell_type": "code",
   "execution_count": 10,
   "id": "51b1e849-d6fb-48c5-92de-6d1d18fa9dcb",
   "metadata": {},
   "outputs": [],
   "source": [
    "def solution_two(iterable):\n",
    "    all_iters = tee(iterable, 14)\n",
    "    for index in range(1, 14):\n",
    "        i = all_iters[index]\n",
    "        for _ in range(index):\n",
    "            next(i)\n",
    "    for counter, chars in enumerate(zip(*all_iters), start=14):\n",
    "        if all_different(*chars):\n",
    "            return counter\n",
    "    raise ValueError('start-of-packet marker not found')"
   ]
  },
  {
   "cell_type": "code",
   "execution_count": 11,
   "id": "3a06d1b4-3000-4a7a-b899-e108c6e83a11",
   "metadata": {},
   "outputs": [],
   "source": [
    "assert solution_two(iter('mjqjpqmgbljsphdztnvjfqwrcgsmlb')) == 19\n",
    "assert solution_two(iter('bvwbjplbgvbhsrlpgdmjqwftvncz')) == 23\n",
    "assert solution_two(iter('nppdvjthqldpwncqszvftbrmjlhg')) == 23\n",
    "assert solution_two(iter('nznrnfrfntjfmvfwmzdfjlvtqnbhcprsg')) == 29\n",
    "assert solution_two(iter('zcfzfwzzqfrljwzlrfnpqdbhtmscgvjw')) == 26"
   ]
  },
  {
   "cell_type": "code",
   "execution_count": 12,
   "id": "7aad8af6-827b-409b-9367-d44e7908176c",
   "metadata": {},
   "outputs": [
    {
     "name": "stdout",
     "output_type": "stream",
     "text": [
      "Solution part two: 2980\n"
     ]
    }
   ],
   "source": [
    "sol = solution_two(load_input('input.txt'))\n",
    "print(f\"Solution part two: {sol}\")"
   ]
  }
 ],
 "metadata": {
  "kernelspec": {
   "display_name": "Python 3 (ipykernel)",
   "language": "python",
   "name": "python3"
  },
  "language_info": {
   "codemirror_mode": {
    "name": "ipython",
    "version": 3
   },
   "file_extension": ".py",
   "mimetype": "text/x-python",
   "name": "python",
   "nbconvert_exporter": "python",
   "pygments_lexer": "ipython3",
   "version": "3.10.6"
  }
 },
 "nbformat": 4,
 "nbformat_minor": 5
}
