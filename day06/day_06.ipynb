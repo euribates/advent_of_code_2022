{
 "cells": [
  {
   "cell_type": "markdown",
   "id": "d3c3c64f-e8c8-417c-9959-1d593e6ea834",
   "metadata": {},
   "source": [
    "## Day 6:"
   ]
  },
  {
   "cell_type": "code",
   "execution_count": 3,
   "id": "6bd6e2e6-fac4-48c1-a05d-b2e230233cd8",
   "metadata": {},
   "outputs": [],
   "source": [
    "from icecream import ic"
   ]
  },
  {
   "cell_type": "code",
   "execution_count": 4,
   "id": "3fefbcb1-3346-4989-aa32-74ebf80addf7",
   "metadata": {},
   "outputs": [],
   "source": [
    "def load_input(filename):\n",
    "    with open(filename, 'r') as f_in:\n",
    "        for line in f_in:\n",
    "            line = line.rstrip()\n",
    "            yield line"
   ]
  },
  {
   "cell_type": "code",
   "execution_count": null,
   "id": "13ec5367-57cf-4b07-a8fe-8040d54a4e83",
   "metadata": {},
   "outputs": [],
   "source": []
  }
 ],
 "metadata": {
  "kernelspec": {
   "display_name": "Python 3 (ipykernel)",
   "language": "python",
   "name": "python3"
  },
  "language_info": {
   "codemirror_mode": {
    "name": "ipython",
    "version": 3
   },
   "file_extension": ".py",
   "mimetype": "text/x-python",
   "name": "python",
   "nbconvert_exporter": "python",
   "pygments_lexer": "ipython3",
   "version": "3.10.6"
  }
 },
 "nbformat": 4,
 "nbformat_minor": 5
}
