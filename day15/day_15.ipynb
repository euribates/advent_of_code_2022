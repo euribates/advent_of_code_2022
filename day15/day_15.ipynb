{
 "cells": [
  {
   "cell_type": "markdown",
   "id": "64b249ee-937a-4d56-a11a-ae93eec9d89f",
   "metadata": {},
   "source": [
    "## Day 15: Beacon Exclusion Zone\n",
    "\n",
    "You feel the ground rumble again as the distress signal leads you to a large network of subterranean tunnels. You don't have time to search them all, but you don't need to: your pack contains a set of deployable sensors that you imagine were originally built to locate lost Elves.\n",
    "\n",
    "The sensors aren't very powerful, but that's okay; your handheld device indicates that you're close enough to the source of the distress signal to use them. You pull the emergency sensor system out of your pack, hit the big button on top, and the sensors zoom off down the tunnels.\n",
    "\n",
    "Once a sensor finds a spot it thinks will give it a good reading, it attaches itself to a hard surface and begins monitoring for the nearest signal source beacon. Sensors and beacons always exist at integer coordinates. Each sensor knows its own position and can determine the position of a beacon precisely; however, sensors can only lock on to the one beacon closest to the sensor as measured by the Manhattan distance. (There is never a tie where two beacons are the same distance to a sensor.)\n",
    "\n",
    "It doesn't take long for the sensors to report back their positions and closest beacons (your puzzle input). For example:\n",
    "\n",
    "```\n",
    "Sensor at x=2, y=18: closest beacon is at x=-2, y=15\n",
    "Sensor at x=9, y=16: closest beacon is at x=10, y=16\n",
    "Sensor at x=13, y=2: closest beacon is at x=15, y=3\n",
    "Sensor at x=12, y=14: closest beacon is at x=10, y=16\n",
    "Sensor at x=10, y=20: closest beacon is at x=10, y=16\n",
    "Sensor at x=14, y=17: closest beacon is at x=10, y=16\n",
    "Sensor at x=8, y=7: closest beacon is at x=2, y=10\n",
    "Sensor at x=2, y=0: closest beacon is at x=2, y=10\n",
    "Sensor at x=0, y=11: closest beacon is at x=2, y=10\n",
    "Sensor at x=20, y=14: closest beacon is at x=25, y=17\n",
    "Sensor at x=17, y=20: closest beacon is at x=21, y=22\n",
    "Sensor at x=16, y=7: closest beacon is at x=15, y=3\n",
    "Sensor at x=14, y=3: closest beacon is at x=15, y=3\n",
    "Sensor at x=20, y=1: closest beacon is at x=15, y=3\n",
    "```"
   ]
  },
  {
   "cell_type": "code",
   "execution_count": 1,
   "id": "440b0627-6c0e-4a89-a225-ccf14c657d1c",
   "metadata": {},
   "outputs": [],
   "source": [
    "import re\n",
    "import collections\n",
    "from dataclasses import dataclass\n",
    "\n",
    "import pytest\n",
    "from icecream import ic\n",
    "\n",
    "from vectors import Vector"
   ]
  },
  {
   "cell_type": "code",
   "execution_count": 2,
   "id": "56355a0f-f2da-46ca-b78d-ef2a9054e484",
   "metadata": {},
   "outputs": [],
   "source": [
    "pat_rule = re.compile(r\"Sensor at x=(-?\\d+), y=(-?\\d+): closest beacon is at x=(-?\\d+), y=(-?\\d+)\")\n",
    "def load_input(filename):\n",
    "    with open(filename, 'r') as f_input:\n",
    "        for line in f_input:\n",
    "            line = line.strip()\n",
    "            _match = pat_rule.match(line)\n",
    "            sensor = Vector(int(_match.group(1)), int(_match.group(2)))\n",
    "            beacon = Vector(int(_match.group(3)), int(_match.group(4)))               \n",
    "            yield sensor, beacon"
   ]
  },
  {
   "cell_type": "code",
   "execution_count": 3,
   "id": "ae5d16a9-9aee-41ea-88d1-5b407ed298ba",
   "metadata": {},
   "outputs": [
    {
     "name": "stdout",
     "output_type": "stream",
     "text": [
      "Sensor at x=2, y=18: closest beacon is at x=-2, y=15\n",
      "Sensor at x=9, y=16: closest beacon is at x=10, y=16\n",
      "Sensor at x=13, y=2: closest beacon is at x=15, y=3\n",
      "Sensor at x=12, y=14: closest beacon is at x=10, y=16\n",
      "Sensor at x=10, y=20: closest beacon is at x=10, y=16\n",
      "Sensor at x=14, y=17: closest beacon is at x=10, y=16\n",
      "Sensor at x=8, y=7: closest beacon is at x=2, y=10\n",
      "Sensor at x=2, y=0: closest beacon is at x=2, y=10\n",
      "Sensor at x=0, y=11: closest beacon is at x=2, y=10\n",
      "Sensor at x=20, y=14: closest beacon is at x=25, y=17\n",
      "Sensor at x=17, y=20: closest beacon is at x=21, y=22\n",
      "Sensor at x=16, y=7: closest beacon is at x=15, y=3\n",
      "Sensor at x=14, y=3: closest beacon is at x=15, y=3\n",
      "Sensor at x=20, y=1: closest beacon is at x=15, y=3\n"
     ]
    }
   ],
   "source": [
    "for sensor, beacon in load_input('sample.txt'):\n",
    "    print(f\"Sensor at x={sensor.x}, y={sensor.y}: closest beacon is at x={beacon.x}, y={beacon.y}\")"
   ]
  },
  {
   "cell_type": "markdown",
   "id": "982eae9e-0a73-4dbe-b3f1-9caac95a4b6d",
   "metadata": {},
   "source": [
    "So, consider the sensor at `2,18`; the closest beacon to it is at `-2,15`. For the sensor at `9,16`, the closest beacon to it is at `10,16`.\n",
    "\n",
    "Drawing sensors as `S` and beacons as `B`, the above arrangement of sensors and beacons looks like this:\n",
    "\n",
    "```\n",
    "               1    1    2    2\n",
    "     0    5    0    5    0    5\n",
    " 0 ....S.......................\n",
    " 1 ......................S.....\n",
    " 2 ...............S............\n",
    " 3 ................SB..........\n",
    " 4 ............................\n",
    " 5 ............................\n",
    " 6 ............................\n",
    " 7 ..........S.......S.........\n",
    " 8 ............................\n",
    " 9 ............................\n",
    "10 ....B.......................\n",
    "11 ..S.........................\n",
    "12 ............................\n",
    "13 ............................\n",
    "14 ..............S.......S.....\n",
    "15 B...........................\n",
    "16 ...........SB...............\n",
    "17 ................S..........B\n",
    "18 ....S.......................\n",
    "19 ............................\n",
    "20 ............S......S........\n",
    "21 ............................\n",
    "22 .......................B....\n",
    "```"
   ]
  },
  {
   "cell_type": "code",
   "execution_count": 4,
   "id": "76197fbc-8794-4908-8d0c-053fcdaf263e",
   "metadata": {},
   "outputs": [
    {
     "name": "stdout",
     "output_type": "stream",
     "text": [
      "...........................\n",
      "...........................\n",
      "....S......................\n",
      "......................S....\n",
      "...............S...........\n",
      "................SB.........\n",
      "...........................\n",
      "...........................\n",
      "...........................\n",
      "..........S.......S........\n",
      "...........................\n",
      "...........................\n",
      "....B......................\n",
      "..S........................\n",
      "...........................\n",
      "...........................\n",
      "..............S.......S....\n",
      "B..........................\n",
      "...........SB..............\n",
      "................S..........\n",
      "....S......................\n",
      "...........................\n",
      "............S......S.......\n",
      "...........................\n",
      ".......................B...\n"
     ]
    }
   ],
   "source": [
    "_map = collections.defaultdict(lambda: '.')\n",
    "for sensor, beacon in load_input('sample.txt'):\n",
    "    _map[sensor.x, sensor.y] = 'S'\n",
    "    _map[beacon.x, beacon.y] = 'B'\n",
    "    \n",
    "for y in range(-2, 23):\n",
    "    for x in range(-2, 25):\n",
    "        print(_map[x, y], end='')\n",
    "    print()"
   ]
  },
  {
   "cell_type": "markdown",
   "id": "7db03fae-4e07-4707-88ce-84e68573aae5",
   "metadata": {},
   "source": [
    "This isn't necessarily a comprehensive map of all beacons in the area, though. Because each sensor only identifies its closest beacon, if a sensor detects a beacon, you know there are no other beacons that close or closer to that sensor. There could still be beacons that just happen to not be the closest beacon to any sensor. Consider the sensor at 8,7:\n",
    "\n",
    "```\n",
    "               1    1    2    2\n",
    "     0    5    0    5    0    5\n",
    "-2 ..........#.................\n",
    "-1 .........###................\n",
    " 0 ....S...#####...............\n",
    " 1 .......#######........S.....\n",
    " 2 ......#########S............\n",
    " 3 .....###########SB..........\n",
    " 4 ....#############...........\n",
    " 5 ...###############..........\n",
    " 6 ..#################.........\n",
    " 7 .#########S#######S#........\n",
    " 8 ..#################.........\n",
    " 9 ...###############..........\n",
    "10 ....B############...........\n",
    "11 ..S..###########............\n",
    "12 ......#########.............\n",
    "13 .......#######..............\n",
    "14 ........#####.S.......S.....\n",
    "15 B........###................\n",
    "16 ..........#SB...............\n",
    "17 ................S..........B\n",
    "18 ....S.......................\n",
    "19 ............................\n",
    "20 ............S......S........\n",
    "21 ............................\n",
    "22 .......................B....\n",
    "```\n",
    "\n",
    "This sensor's closest beacon is at `2,10`, and so you know there are no beacons that close or closer (in any positions marked #)."
   ]
  },
  {
   "cell_type": "code",
   "execution_count": 5,
   "id": "27d426a1-ba2d-43c9-a479-629114d50d81",
   "metadata": {},
   "outputs": [],
   "source": [
    "def at_distance(v: Vector, d: int) -> [Vector]:\n",
    "    if d == 0:\n",
    "        return []\n",
    "    elif d == 1:\n",
    "        return [Vector(v.x, v.y-1), Vector(v.x+1, v.y), Vector(v.x, v.y+1), Vector(v.x - 1, v.y)]\n",
    "    result = []\n",
    "    for delta_y in range(-d, d+1):\n",
    "        width = d - abs(delta_y)\n",
    "        for delta_x in range(-width, width+1):\n",
    "            result.append(Vector(v.x + delta_x, v.y + delta_y))\n",
    "    return result"
   ]
  },
  {
   "cell_type": "code",
   "execution_count": 6,
   "id": "8d8e47aa-9386-4f1c-963e-e65938b4adaf",
   "metadata": {},
   "outputs": [],
   "source": [
    "assert at_distance(Vector(2, 3), d=0) == []\n",
    "assert at_distance(Vector(2, 3), d=1) == [Vector(2, 2), Vector(3, 3), Vector(2, 4), Vector(1, 3)]\n",
    "assert at_distance(Vector(2, 3), d=2) == [\n",
    "    Vector(2, 1),\n",
    "    Vector(1, 2), Vector(2, 2), Vector(3, 2),\n",
    "    Vector(0, 3), Vector(1, 3), Vector(2, 3), Vector(3, 3), Vector(4, 3),\n",
    "    Vector(1, 4), Vector(2, 4), Vector(3, 4), \n",
    "    Vector(2, 5),\n",
    "    ]\n"
   ]
  },
  {
   "cell_type": "code",
   "execution_count": 7,
   "id": "16547ea7-0729-4c1c-89db-bab80797bb03",
   "metadata": {},
   "outputs": [
    {
     "name": "stdout",
     "output_type": "stream",
     "text": [
      "..........#................\n",
      ".........###...............\n",
      "....S...#####..............\n",
      ".......#######........S....\n",
      "......#########S...........\n",
      ".....###########SB.........\n",
      "....#############..........\n",
      "...###############.........\n",
      "..#################........\n",
      ".#########S#######S#.......\n",
      "..#################........\n",
      "...###############.........\n",
      "....B############..........\n",
      "..S..###########...........\n",
      "......#########............\n",
      ".......#######.............\n",
      "........#####.S.......S....\n",
      "B........###...............\n",
      "..........#SB..............\n",
      "................S..........\n",
      "....S......................\n",
      "...........................\n",
      "............S......S.......\n",
      "...........................\n",
      ".......................B...\n"
     ]
    }
   ],
   "source": [
    "_map = collections.defaultdict(lambda: '.')\n",
    "for sensor, beacon in load_input('sample.txt'):\n",
    "    _map[sensor.x, sensor.y] = 'S'\n",
    "    _map[beacon.x, beacon.y] = 'B'\n",
    "    \n",
    "for v in at_distance(Vector(8, 7), d=9):\n",
    "    if _map[v.x, v.y] == '.':\n",
    "        _map[v.x, v.y] = '#'\n",
    "        \n",
    "for y in range(-2, 23):\n",
    "    for x in range(-2, 25):\n",
    "        print(_map[x, y], end='')\n",
    "    print()"
   ]
  },
  {
   "cell_type": "markdown",
   "id": "eb779178-f064-41fc-ad08-beafbb1c8c34",
   "metadata": {},
   "source": [
    "None of the detected beacons seem to be producing the distress signal, so you'll need to work out where the distress beacon is by working out where it isn't. For now, keep things simple by counting the positions where a beacon cannot possibly be along just a single row.\n",
    "\n",
    "So, suppose you have an arrangement of beacons and sensors like in the example above and, just in the row where y=10, you'd like to count the number of positions a beacon cannot possibly exist. The coverage from all sensors near that row looks like this:\n",
    "\n",
    "```\n",
    "                 1    1    2    2\n",
    "       0    5    0    5    0    5\n",
    " 9 ...#########################...\n",
    "10 ..####B######################..\n",
    "11 .###S#############.###########.\n",
    "```"
   ]
  },
  {
   "cell_type": "markdown",
   "id": "02bc480b-c482-4b5d-b33a-7036b19d2476",
   "metadata": {},
   "source": [
    "In this example, in the row where y=10, there are 26 positions where a beacon cannot be present."
   ]
  },
  {
   "cell_type": "code",
   "execution_count": 8,
   "id": "544b2bfb-fd36-46a5-a8cf-3593a50c5a87",
   "metadata": {},
   "outputs": [],
   "source": [
    "def manhattan(v0: Vector, v1: Vector) -> int:\n",
    "    return abs(v1.x - v0.x) + abs(v1.y - v0.y)\n",
    "\n",
    "assert manhattan(Vector(0, 0), Vector(2, 2)) == 4\n",
    "assert manhattan(Vector(0, 0), Vector(-2, -2)) == 4\n",
    "assert manhattan(Vector(0, 0), Vector(-2, 3)) == 5\n",
    "assert manhattan(Vector(0, 0), Vector(2, -3)) == 5\n",
    "assert manhattan(Vector(-1, 0), Vector(2, -3)) == 6"
   ]
  },
  {
   "cell_type": "code",
   "execution_count": 9,
   "id": "7131c069-3fda-4334-8bc5-3ee6dfa68eb4",
   "metadata": {},
   "outputs": [
    {
     "name": "stdout",
     "output_type": "stream",
     "text": [
      "    -10 ..........#..........................\n",
      "     -9 .........###.........................\n",
      "     -8 ........#####........................\n",
      "     -7 .......#######.......................\n",
      "     -6 ......#########.............#........\n",
      "     -5 .....###########...........###.......\n",
      "     -4 ....#############.........#####......\n",
      "     -3 ...###############.......#######.....\n",
      "     -2 ..#################.....#########....\n",
      "     -1 .###################.#.###########...\n",
      "      0 ##########S########################..\n",
      "      1 .###########################S#######.\n",
      "      2 ..###################S#############..\n",
      "      3 ...###################SB##########...\n",
      "      4 ....#############################....\n",
      "      5 .....###########################.....\n",
      "      6 ......#########################......\n",
      "      7 .......#########S#######S#####.......\n",
      "      8 ........#######################......\n",
      "      9 .......#########################.....\n",
      "     10 ......####B######################....\n",
      "     11 .....###S#############.###########...\n",
      "     12 ......#############################..\n",
      "     13 .......#############################.\n",
      "     14 .......#############S#######S########\n",
      "     15 ......B#############################.\n",
      "     16 .....############SB################..\n",
      "     17 ....##################S##########B...\n",
      "     18 ...#######S######################....\n",
      "     19 ....############################.....\n",
      "     20 .....#############S######S######.....\n",
      "     21 ......#########################......\n",
      "     22 .......#######..#############B.......\n",
      "     23 ........#####....###..#######........\n",
      "     24 .........###......#....#####.........\n",
      "     25 ..........#.............###..........\n",
      "     26 .........................#...........\n",
      "......####B######################....26\n"
     ]
    }
   ],
   "source": [
    "_map = collections.defaultdict(lambda: '.')\n",
    "for sensor, beacon in load_input('sample.txt'):\n",
    "    _map[sensor.x, sensor.y] = 'S'\n",
    "    _map[beacon.x, beacon.y] = 'B'\n",
    "    d = manhattan(sensor, beacon)\n",
    "    for v in at_distance(sensor, d):\n",
    "        if _map[v.x, v.y] == '.':\n",
    "            _map[v.x, v.y] = '#'\n",
    "\n",
    "min_x = min([t[0] for t in _map])\n",
    "max_x = max([t[0] for t in _map])\n",
    "min_y = min([t[1] for t in _map])\n",
    "max_y = max([t[1] for t in _map])\n",
    "       \n",
    "for y in range(min_y, max_y+1):\n",
    "    print(f'{y:7}', end=' ')\n",
    "    for x in range(min_x, max_x+1):\n",
    "        print(_map[x, y], end='')\n",
    "    print()\n",
    "y = 10\n",
    "count = 0\n",
    "for x in range(min_x, max_x+1):\n",
    "    print(_map[x, y], end='')\n",
    "    if _map[x, y] == '#':\n",
    "        count += 1\n",
    "\n",
    "print(count) "
   ]
  },
  {
   "cell_type": "code",
   "execution_count": 10,
   "id": "b5917b2c-b3b7-4bd3-955b-54a80b69d460",
   "metadata": {},
   "outputs": [],
   "source": [
    "def fill_places(sensor, beacon, line):\n",
    "    d = manhattan(sensor, beacon)\n",
    "    delta = abs(sensor.y - line)\n",
    "    if delta > d:\n",
    "        return []\n",
    "    # ic(line, d, delta, (d - delta), abs(d-delta), abs(d-delta)*2+1)\n",
    "    length = d - delta\n",
    "    return list(range(sensor.x-length, sensor.x+length+1))\n",
    "\n",
    "sensor = Vector(3, 3)\n",
    "beacon = Vector(7, 7)\n",
    "assert fill_places(sensor, beacon, -6) == []\n",
    "assert fill_places(sensor, beacon, -5) == [3]\n",
    "assert fill_places(sensor, beacon, -4) == [2, 3, 4]\n",
    "assert fill_places(sensor, beacon, -3) == [1, 2, 3, 4, 5]\n",
    "assert fill_places(sensor, beacon, -2) == [0, 1, 2, 3, 4, 5, 6]\n",
    "assert fill_places(sensor, beacon, -1) == [-1, 0, 1, 2, 3, 4, 5, 6, 7]\n",
    "assert fill_places(sensor, beacon, 0) == [-2, -1, 0, 1, 2, 3, 4, 5, 6, 7, 8]\n",
    "assert fill_places(sensor, beacon, 1) == [-3, -2, -1, 0, 1, 2, 3, 4, 5, 6, 7, 8, 9]\n",
    "assert fill_places(sensor, beacon, 2) == [-4, -3, -2, -1, 0, 1, 2, 3, 4, 5, 6, 7, 8, 9, 10]\n",
    "assert fill_places(sensor, beacon, 3) == [-5, -4, -3, -2, -1, 0, 1, 2, 3, 4, 5, 6, 7, 8, 9, 10, 11]\n",
    "assert fill_places(sensor, beacon, 4) == [-4, -3, -2, -1, 0, 1, 2, 3, 4, 5, 6, 7, 8, 9, 10]\n",
    "assert fill_places(sensor, beacon, 5) == [-3, -2, -1, 0, 1, 2, 3, 4, 5, 6, 7, 8, 9]\n",
    "assert fill_places(sensor, beacon, 6) == [-2, -1, 0, 1, 2, 3, 4, 5, 6, 7, 8]\n",
    "assert fill_places(sensor, beacon, 7) == [-1, 0, 1, 2, 3, 4, 5, 6, 7]\n",
    "assert fill_places(sensor, beacon, 8) == [0, 1, 2, 3, 4, 5, 6]\n",
    "assert fill_places(sensor, beacon, 9) == [1, 2, 3, 4, 5]\n",
    "assert fill_places(sensor, beacon, 10) == [2, 3, 4]\n",
    "assert fill_places(sensor, beacon, 11) == [3]\n",
    "assert fill_places(sensor, beacon, 12) == []"
   ]
  },
  {
   "cell_type": "code",
   "execution_count": 11,
   "id": "5d413269-b1e8-464b-9a8a-76a2223f2716",
   "metadata": {},
   "outputs": [],
   "source": [
    "def solution_one(filename, line, tron=False):\n",
    "    result_set = set([])\n",
    "    for sensor, beacon in load_input(filename):\n",
    "        d = manhattan(sensor, beacon)\n",
    "        if (sensor.y - d) <= line < (sensor.y + d):\n",
    "            if tron:\n",
    "                print(f\"sensor {sensor}, beacon {beacon} is valid\", end=' ')\n",
    "                print(f\"distance: {d} range: {sensor.y - d}:{sensor.y + d + 1}\", end=' ')\n",
    "                print(f\"places: {len(fill_places(sensor, beacon, line))}\")\n",
    "            result_set.update(fill_places(sensor, beacon, line))\n",
    "    return len(result_set) - 1 # The beacon itself\n",
    "\n",
    "assert solution_one('sample.txt', 9) == 24\n",
    "assert solution_one('sample.txt', 10) == 26\n",
    "assert solution_one('sample.txt', 11) == 27"
   ]
  },
  {
   "cell_type": "markdown",
   "id": "65101a84-b97f-4a9e-982d-bea70fae9198",
   "metadata": {},
   "source": [
    "Consult the report from the sensors you just deployed. In the row where y=2000000, how many positions cannot contain a beacon?"
   ]
  },
  {
   "cell_type": "code",
   "execution_count": 12,
   "id": "d00c8451-153d-4cbe-b0eb-169cf48ffd05",
   "metadata": {},
   "outputs": [
    {
     "name": "stdout",
     "output_type": "stream",
     "text": [
      "Solution part one: 4737566\n"
     ]
    }
   ],
   "source": [
    "sol = solution_one('input.txt', 2000000)\n",
    "print(f\"Solution part one: {sol-1}\")"
   ]
  },
  {
   "cell_type": "markdown",
   "id": "89f462cb-1e7b-4d89-a94a-8f2a1b675be9",
   "metadata": {},
   "source": [
    "## Part Two\n",
    "\n",
    "Your handheld device indicates that the distress signal is coming from a beacon nearby. The distress beacon is not detected by any sensor, but the distress beacon must have x and y coordinates each no lower than 0 and no larger than 4000000.\n",
    "\n",
    "To isolate the distress beacon's signal, you need to determine its tuning frequency, which can be found by multiplying its x coordinate by 4000000 and then adding its y coordinate.\n",
    "\n",
    "In the example above, the search space is smaller: instead, the x and y coordinates can each be at most 20. With this reduced search area, there is only a single position that could have a beacon: x=14, y=11. The tuning frequency for this distress beacon is 56000011."
   ]
  },
  {
   "cell_type": "code",
   "execution_count": 13,
   "id": "cf5fbe5e-088a-4ec2-b974-733ab0e3c999",
   "metadata": {},
   "outputs": [
    {
     "name": "stdout",
     "output_type": "stream",
     "text": [
      "      0 ##S##################\n",
      "      1 ####################S\n",
      "      2 #############S#######\n",
      "      3 ##############SB#####\n",
      "      4 #####################\n",
      "      5 #####################\n",
      "      6 #####################\n",
      "      7 ########S#######S####\n",
      "      8 #####################\n",
      "      9 #####################\n",
      "     10 ##B##################\n",
      "     11 S#############.######\n",
      "     12 #####################\n",
      "     13 #####################\n",
      "     14 ############S#######S\n",
      "     15 #####################\n",
      "     16 #########SB##########\n",
      "     17 ##############S######\n",
      "     18 ##S##################\n",
      "     19 #####################\n",
      "     20 ##########S######S###\n"
     ]
    }
   ],
   "source": [
    "_map = collections.defaultdict(lambda: '.')\n",
    "for sensor, beacon in load_input('sample.txt'):\n",
    "    _map[sensor.x, sensor.y] = 'S'\n",
    "    _map[beacon.x, beacon.y] = 'B'\n",
    "    d = manhattan(sensor, beacon)\n",
    "    for v in at_distance(sensor, d):\n",
    "        if _map[v.x, v.y] == '.':\n",
    "            _map[v.x, v.y] = '#'\n",
    "       \n",
    "for y in range(0, 21):\n",
    "    print(f'{y:7}', end=' ')\n",
    "    for x in range(0, 21):\n",
    "        print(_map[x, y], end='')\n",
    "    print()"
   ]
  },
  {
   "cell_type": "markdown",
   "id": "0e077b6a-2a4e-431b-a2a5-9d6b389f81a4",
   "metadata": {},
   "source": [
    "Find the only possible position for the distress beacon. What is its tuning frequency?"
   ]
  },
  {
   "cell_type": "markdown",
   "id": "0f2b68b0-c836-442c-95e0-69000e874258",
   "metadata": {},
   "source": [
    "> Necesitamos una estructura para almacenar rangos"
   ]
  },
  {
   "cell_type": "code",
   "execution_count": 311,
   "id": "d996700d-3f32-456f-8dbe-14ca73e6236a",
   "metadata": {},
   "outputs": [],
   "source": [
    "@dataclass\n",
    "class Lapse:\n",
    "    left: int\n",
    "    right: int\n",
    "    \n",
    "    def __post_init__(self):\n",
    "        if self.left > self.right:\n",
    "            self.left, self.right = self.right, self.left\n",
    "    \n",
    "    def __eq__(self, other):\n",
    "        return self.left == other.left and self.right == other.right\n",
    "    \n",
    "    def __lt__(self, other):\n",
    "        return self.left < other.left\n",
    "\n",
    "    def __le__(self, other):\n",
    "        return self.left <= other.left\n",
    "    \n",
    "    def __str__(self):\n",
    "        return f\"{self.left}~{self.right}\"\n",
    "    \n",
    "    def overlaps(self, other: Lapse) -> bool:\n",
    "        if self > other:\n",
    "            raise ValueError(\"Lap2 most be greater or equal than l1\")    \n",
    "        return other.left <= (self.right + 1)\n",
    "    \n",
    "assert Lapse(2, 3) == Lapse(2, 3)\n",
    "assert Lapse(2, 3) < Lapse(3, 3)\n",
    "assert Lapse(2, 3) > Lapse(1, 3)\n",
    "\n",
    "assert Lapse(2, 5).overlaps(Lapse(7, 9)) is False\n",
    "assert Lapse(-4, 4).overlaps(Lapse(5, 2)) is True\n",
    "assert Lapse(2, 5).overlaps(Lapse(5, 6)) is True\n",
    "assert Lapse(5, 6).overlaps(Lapse(8, 26)) is False\n",
    "with pytest.raises(ValueError):\n",
    "    Lapse(7, 9).overlaps(Lapse(2, 5))"
   ]
  },
  {
   "cell_type": "code",
   "execution_count": 312,
   "id": "24490317-944e-4ef7-8b28-bbde9aa8835a",
   "metadata": {},
   "outputs": [
    {
     "data": {
      "text/plain": [
       "[Lapse(left=-19, right=15),\n",
       " Lapse(left=-14, right=-10),\n",
       " Lapse(left=-9, right=-2),\n",
       " Lapse(left=-7, right=3),\n",
       " Lapse(left=9, right=14)]"
      ]
     },
     "execution_count": 312,
     "metadata": {},
     "output_type": "execute_result"
    }
   ],
   "source": [
    "import random\n",
    "\n",
    "laps = sorted([\n",
    "    Lapse(left=random.randrange(-20, 21), right=random.randrange(-20, 21))\n",
    "    for _ in range(5)\n",
    "])\n",
    "laps"
   ]
  },
  {
   "cell_type": "code",
   "execution_count": 378,
   "id": "784cd12a-1c81-47f0-9d7f-7c8b78529e4f",
   "metadata": {},
   "outputs": [],
   "source": [
    "def compress(laps: [Lapse]) -> [Lapse]:\n",
    "    if len(laps) < 2:\n",
    "        return laps\n",
    "    prev = laps.pop(0)\n",
    "    result = [prev]\n",
    "    index = 0\n",
    "    while laps:\n",
    "        other = laps.pop(0)\n",
    "        while prev.overlaps(other):\n",
    "            result[index] = prev = Lapse(prev.left, max(prev.right, other.right))\n",
    "            if laps:\n",
    "                other = laps.pop(0)\n",
    "            else:\n",
    "                other = None\n",
    "                break\n",
    "        if other:\n",
    "            result.append(other)\n",
    "        prev = other\n",
    "        index += 1\n",
    "    return result"
   ]
  },
  {
   "cell_type": "code",
   "execution_count": 379,
   "id": "1d4e3cb5-b97c-438b-a36d-b7dcc451c5c3",
   "metadata": {},
   "outputs": [
    {
     "data": {
      "text/plain": [
       "[Lapse(left=0, right=6), Lapse(left=9, right=15)]"
      ]
     },
     "execution_count": 379,
     "metadata": {},
     "output_type": "execute_result"
    }
   ],
   "source": [
    "compress([\n",
    "    Lapse(left=0, right=6),\n",
    "    Lapse(left=9, right=9),\n",
    "    Lapse(left=9, right=15),\n",
    "])"
   ]
  },
  {
   "cell_type": "code",
   "execution_count": 380,
   "id": "e0b88b14-6d64-42ea-8b87-cd5ac2b60f3e",
   "metadata": {},
   "outputs": [],
   "source": [
    "assert compress([Lapse(2, 2), Lapse(left=15, right=18)]) == [Lapse(left=2, right=2), Lapse(left=15, right=18)]"
   ]
  },
  {
   "cell_type": "code",
   "execution_count": 381,
   "id": "bb602159-63dd-43d2-a490-56e72826dc29",
   "metadata": {},
   "outputs": [],
   "source": [
    "assert compress([Lapse(left=3, right=7), Lapse(left=7, right=14)]) == [Lapse(left=3, right=14)]"
   ]
  },
  {
   "cell_type": "code",
   "execution_count": 382,
   "id": "45665543-47b3-43cc-bec2-d1cd9c01b40b",
   "metadata": {},
   "outputs": [],
   "source": [
    "assert compress([Lapse(left=15, right=25), Lapse(left=15, right=17)]) == [Lapse(left=15, right=25)]"
   ]
  },
  {
   "cell_type": "code",
   "execution_count": 384,
   "id": "9e144fae-3a49-44cc-9a9a-70fbb6e73bbc",
   "metadata": {},
   "outputs": [],
   "source": [
    "assert compress([Lapse(left=5, right=27), Lapse(left=5, right=15)]) == [Lapse(left=5, right=27)]"
   ]
  },
  {
   "cell_type": "code",
   "execution_count": 386,
   "id": "3c440ae0-2aeb-485c-bd8c-2ab4559820a5",
   "metadata": {},
   "outputs": [],
   "source": [
    "assert compress([Lapse(left=9, right=15), Lapse(left=9, right=9)]) == [Lapse(left=9, right=15)]"
   ]
  },
  {
   "cell_type": "code",
   "execution_count": 387,
   "id": "fdb2a100-022f-426b-9a2d-f6dacc35dca2",
   "metadata": {},
   "outputs": [],
   "source": [
    "laps = [\n",
    "    Lapse(left=-15, right=7),\n",
    "    Lapse(left=-5, right=3),\n",
    "    Lapse(left=-4, right=17),\n",
    "    Lapse(left=6, right=11),\n",
    "    Lapse(left=12, right=14)\n",
    "]\n",
    "assert compress(laps) == [Lapse(left=-15, right=17)]"
   ]
  },
  {
   "cell_type": "code",
   "execution_count": 409,
   "id": "5d914c55-977f-4a53-9910-65b6c584ab27",
   "metadata": {},
   "outputs": [],
   "source": [
    "def solution_two(filename, scan_range):\n",
    "    all_x = [list() for _ in range(scan_range)]\n",
    "    all_y = [list() for _ in range(scan_range)]\n",
    "    count = 0\n",
    "    for sensor, beacon in load_input(filename):\n",
    "        d = manhattan(sensor, beacon)\n",
    "        for delta_x in range(-d, d+1):\n",
    "            x = sensor.x + delta_x\n",
    "            if 0 <= x < scan_range:\n",
    "                h = d - abs(delta_x)\n",
    "                all_x[x].append(\n",
    "                    Lapse(max(0, sensor.y - h), min(scan_range, sensor.y + h))\n",
    "                )\n",
    "                all_x[x] = compress(sorted(all_x[x]))\n",
    "        for delta_y in range(-d, d + 1):\n",
    "            y = sensor.y + delta_y\n",
    "            if 0 <= y < scan_range:\n",
    "                h = d - abs(delta_y)\n",
    "                all_y[y].append(\n",
    "                    Lapse(max(0, sensor.x - h), min(scan_range, sensor.x + h))\n",
    "                )\n",
    "                all_y[y] = compress(sorted(all_y[y]))\n",
    "\n",
    "    for index in range(scan_range):\n",
    "        if len(all_x[index]) > 1:\n",
    "            y = all_x[index][0].right + 1\n",
    "            break\n",
    "    for index in range(scan_range):\n",
    "        if len(all_y[index]) > 1:\n",
    "            x = all_y[index][0].right + 1\n",
    "            break\n",
    "    freq = x * 4000000 + y\n",
    "    return freq\n",
    "\n",
    "assert solution_two('sample.txt', 20) == 56000011"
   ]
  },
  {
   "cell_type": "code",
   "execution_count": 413,
   "id": "674596c1-f8e5-426e-af93-a2c6570bd996",
   "metadata": {},
   "outputs": [
    {
     "name": "stdout",
     "output_type": "stream",
     "text": [
      "Solution for part two: 13267474686239\n"
     ]
    }
   ],
   "source": [
    "sol = solution_two('input.txt', 4000000)\n",
    "print(f\"Solution for part two: {sol}\")"
   ]
  }
 ],
 "metadata": {
  "kernelspec": {
   "display_name": "Python 3 (ipykernel)",
   "language": "python",
   "name": "python3"
  },
  "language_info": {
   "codemirror_mode": {
    "name": "ipython",
    "version": 3
   },
   "file_extension": ".py",
   "mimetype": "text/x-python",
   "name": "python",
   "nbconvert_exporter": "python",
   "pygments_lexer": "ipython3",
   "version": "3.10.6"
  }
 },
 "nbformat": 4,
 "nbformat_minor": 5
}
