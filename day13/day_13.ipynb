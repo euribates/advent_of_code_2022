{
 "cells": [
  {
   "cell_type": "markdown",
   "id": "29d77983-d06b-4e2c-98f7-3e9b71879a49",
   "metadata": {},
   "source": [
    "## Day 13: Day 13: Distress Signal\n",
    "\n",
    "You climb the hill and again try contacting the Elves. However, you instead receive a signal you weren't expecting: a distress signal.\n",
    "\n",
    "Your handheld device must still not be working properly; the packets from the distress signal got decoded out of order. You'll need to re-order the list of received packets (your puzzle input) to decode the message.\n",
    "\n",
    "Your list consists of pairs of packets; pairs are separated by a blank line. You need to identify how many pairs of packets are in the right order.\n",
    "\n",
    "For example:\n",
    "\n",
    "```\n",
    "[1,1,3,1,1]\n",
    "[1,1,5,1,1]\n",
    "\n",
    "[[1],[2,3,4]]\n",
    "[[1],4]\n",
    "\n",
    "[9]\n",
    "[[8,7,6]]\n",
    "\n",
    "[[4,4],4,4]\n",
    "[[4,4],4,4,4]\n",
    "\n",
    "[7,7,7,7]\n",
    "[7,7,7]\n",
    "\n",
    "[]\n",
    "[3]\n",
    "\n",
    "[[[]]]\n",
    "[[]]\n",
    "\n",
    "[1,[2,[3,[4,[5,6,7]]]],8,9]\n",
    "[1,[2,[3,[4,[5,6,0]]]],8,9]\n",
    "```\n",
    "\n",
    "Packet data consists of lists and integers. Each list starts with [, ends with ], and contains zero or more comma-separated values (either integers or other lists). Each packet is always a list and appears on its own line.\n",
    "\n",
    "When comparing two values, the first value is called left and the second value is called right. Then:\n",
    "\n",
    "- If **both values are integers**, the lower integer should come first. If the left integer is lower than the right integer, the inputs are in the right order. If the left integer is higher than the right integer, the inputs are not in the right order. Otherwise, the inputs are the same integer; continue checking the next part of the input.\n",
    "\n",
    "- If **both values are lists**, compare the first value of each list, then the second value, and so on. If the left list runs out of items first, the inputs are in the right order. If the right list runs out of items first, the inputs are not in the right order. If the lists are the same length and no comparison makes a decision about the order, continue checking the next part of the input.\n",
    "\n",
    "- If **exactly one value is an integer**, convert the integer to a list which contains that integer as its only value, then retry the comparison. For example, if comparing [0,0,0] and 2, convert the right value to [2] (a list containing 2); the result is then found by instead comparing [0,0,0] and [2]."
   ]
  },
  {
   "cell_type": "code",
   "execution_count": 1,
   "id": "440b0627-6c0e-4a89-a225-ccf14c657d1c",
   "metadata": {},
   "outputs": [],
   "source": [
    "import pytest\n",
    "from icecream import ic"
   ]
  },
  {
   "cell_type": "code",
   "execution_count": 2,
   "id": "c76a0638-bd79-4ba8-9f70-0e75a48a622b",
   "metadata": {},
   "outputs": [],
   "source": [
    "from typing import Any\n",
    "from itertools import zip_longest\n",
    "\n",
    "def is_list(value: Any) -> bool:\n",
    "    return isinstance(value, list)\n",
    "\n",
    "assert is_list(23) is False\n",
    "assert is_list([24]) is True\n",
    "\n",
    "def compare(left_value, right_value, tron=False):\n",
    "    if tron:\n",
    "        ic(left_value, right_value)\n",
    "    match is_list(left_value), is_list(right_value):    \n",
    "        case (False, False): # Both are integer\n",
    "            if tron:\n",
    "                ic('Both are integers')\n",
    "            if left_value < right_value:\n",
    "                return True\n",
    "            elif left_value > right_value:\n",
    "                return False\n",
    "            else:\n",
    "                return None\n",
    "        case (True, True): # Both are lists\n",
    "            if tron:\n",
    "                ic('Both are lists')\n",
    "            for left, right in zip_longest(left_value, right_value, fillvalue=None):\n",
    "                if left is None:\n",
    "                    return True\n",
    "                elif right is None:\n",
    "                    return False\n",
    "                result = compare(left, right, tron=tron)\n",
    "                if result in {True, False}:\n",
    "                    return result\n",
    "        case (True, False):  # Left value is list, Right isn't\n",
    "            if tron:\n",
    "                ic('Left value is list, Right isn\\'t')\n",
    "            return compare(left_value, [right_value], tron=tron)\n",
    "        case (False, True):  # First is not a list, but Right is\n",
    "            if tron:\n",
    "                ic('First is not a list, but Right is')\n",
    "            return compare([left_value], right_value, tron=tron)\n",
    "        \n",
    "                \n",
    "            \n",
    "            \n",
    "assert compare(3, 7) is True\n",
    "assert compare(7, 3) is False\n",
    "assert compare(5, 5) is None\n",
    "\n",
    "assert compare([1,1,3,1,1], [1,1,5,1,1]) is True"
   ]
  },
  {
   "cell_type": "markdown",
   "id": "151e5208-773b-4659-842f-255f2beb6018",
   "metadata": {},
   "source": [
    "Using these rules, you can determine which of the pairs in the example are in the right order:\n",
    "\n",
    "```\n",
    "== Pair 1 ==\n",
    "- Compare [1,1,3,1,1] vs [1,1,5,1,1]\n",
    "  - Compare 1 vs 1\n",
    "  - Compare 1 vs 1\n",
    "  - Compare 3 vs 5\n",
    "    - Left side is smaller, so inputs are in the right order\n",
    "```"
   ]
  },
  {
   "cell_type": "code",
   "execution_count": 3,
   "id": "086b52d1-d23f-4438-afb3-4533c8f215a0",
   "metadata": {},
   "outputs": [],
   "source": [
    "assert compare([1,1,3,1,1], [1,1,5,1,1]) is True"
   ]
  },
  {
   "cell_type": "markdown",
   "id": "8f5c106c-7c74-41e7-aaa2-aa8b687083a1",
   "metadata": {},
   "source": [
    "```\n",
    "== Pair 2 ==\n",
    "- Compare [[1],[2,3,4]] vs [[1],4]\n",
    "  - Compare [1] vs [1]\n",
    "    - Compare 1 vs 1\n",
    "  - Compare [2,3,4] vs 4\n",
    "    - Mixed types; convert right to [4] and retry comparison\n",
    "    - Compare [2,3,4] vs [4]\n",
    "      - Compare 2 vs 4\n",
    "        - Left side is smaller, so inputs are in the right order\n",
    "```"
   ]
  },
  {
   "cell_type": "code",
   "execution_count": 4,
   "id": "f0d946f5-f9ce-431a-95b0-c6fe578b976f",
   "metadata": {},
   "outputs": [],
   "source": [
    "assert compare([[1],[2,3,4]], [[1],4]) is True"
   ]
  },
  {
   "cell_type": "markdown",
   "id": "d60cb14e-b2cd-4bf7-862b-423d7d7bedbf",
   "metadata": {},
   "source": [
    "```\n",
    "== Pair 3 ==\n",
    "- Compare [9] vs [[8,7,6]]\n",
    "  - Compare 9 vs [8,7,6]\n",
    "    - Mixed types; convert left to [9] and retry comparison\n",
    "    - Compare [9] vs [8,7,6]\n",
    "      - Compare 9 vs 8\n",
    "        - Right side is smaller, so inputs are not in the right order\n",
    "```"
   ]
  },
  {
   "cell_type": "code",
   "execution_count": 5,
   "id": "2c3ec0ff-2cbd-406c-b9b9-f48866f7be18",
   "metadata": {},
   "outputs": [],
   "source": [
    "assert compare([9], [8, 7, 6]) is False"
   ]
  },
  {
   "cell_type": "markdown",
   "id": "b3325b60-87dd-41e7-9e52-6809e7cffa4d",
   "metadata": {},
   "source": [
    "```\n",
    "== Pair 4 ==\n",
    "- Compare [[4,4],4,4] vs [[4,4],4,4,4]\n",
    "  - Compare [4,4] vs [4,4]\n",
    "    - Compare 4 vs 4\n",
    "    - Compare 4 vs 4\n",
    "  - Compare 4 vs 4\n",
    "  - Compare 4 vs 4\n",
    "  - Left side ran out of items, so inputs are in the right order\n",
    "```"
   ]
  },
  {
   "cell_type": "code",
   "execution_count": 6,
   "id": "d4a46fe8-e9d4-4fdb-9930-23ca09d55776",
   "metadata": {},
   "outputs": [],
   "source": [
    "assert compare([[4,4],4,4], [[4,4],4,4,4]) is True"
   ]
  },
  {
   "cell_type": "markdown",
   "id": "3c130c3f-065f-4dea-8ba1-f172735addf3",
   "metadata": {},
   "source": [
    "```\n",
    "== Pair 5 ==\n",
    "- Compare [7,7,7,7] vs [7,7,7]\n",
    "  - Compare 7 vs 7\n",
    "  - Compare 7 vs 7\n",
    "  - Compare 7 vs 7\n",
    "  - Right side ran out of items, so inputs are not in the right order\n",
    "```"
   ]
  },
  {
   "cell_type": "code",
   "execution_count": 7,
   "id": "14aa699e-e23b-4cb9-8a34-fa376ac5ded1",
   "metadata": {},
   "outputs": [],
   "source": [
    "assert compare([7,7,7,7], [7,7,7]) is False"
   ]
  },
  {
   "cell_type": "markdown",
   "id": "4ff2d212-f4b8-442f-b5cf-32f3ac243a40",
   "metadata": {},
   "source": [
    "```\n",
    "== Pair 6 ==\n",
    "- Compare [] vs [3]\n",
    "  - Left side ran out of items, so inputs are in the right order\n",
    "```"
   ]
  },
  {
   "cell_type": "code",
   "execution_count": 8,
   "id": "f0a90ac3-03a2-4955-9396-418e5bfbceef",
   "metadata": {},
   "outputs": [],
   "source": [
    "assert compare([], [3]) is True"
   ]
  },
  {
   "cell_type": "markdown",
   "id": "de2b1d85-c408-48b3-9186-f68551ce8ba2",
   "metadata": {},
   "source": [
    "```\n",
    "== Pair 7 ==\n",
    "- Compare [[[]]] vs [[]]\n",
    "  - Compare [[]] vs []\n",
    "    - Right side ran out of items, so inputs are not in the right order\n",
    "```"
   ]
  },
  {
   "cell_type": "code",
   "execution_count": 9,
   "id": "bba2f733-995c-41a0-b7b1-fe84f406db4f",
   "metadata": {},
   "outputs": [],
   "source": [
    "assert compare([[[]]], [[]]) is False"
   ]
  },
  {
   "cell_type": "markdown",
   "id": "1e65269a-0484-4b9a-a3c6-d787b2463c0e",
   "metadata": {},
   "source": [
    "```\n",
    "== Pair 8 ==\n",
    "- Compare [1,[2,[3,[4,[5,6,7]]]],8,9] vs [1,[2,[3,[4,[5,6,0]]]],8,9]\n",
    "  - Compare 1 vs 1\n",
    "  - Compare [2,[3,[4,[5,6,7]]]] vs [2,[3,[4,[5,6,0]]]]\n",
    "    - Compare 2 vs 2\n",
    "    - Compare [3,[4,[5,6,7]]] vs [3,[4,[5,6,0]]]\n",
    "      - Compare 3 vs 3\n",
    "      - Compare [4,[5,6,7]] vs [4,[5,6,0]]\n",
    "        - Compare 4 vs 4\n",
    "        - Compare [5,6,7] vs [5,6,0]\n",
    "          - Compare 5 vs 5\n",
    "          - Compare 6 vs 6\n",
    "          - Compare 7 vs 0\n",
    "            - Right side is smaller, so inputs are not in the right order\n",
    "```"
   ]
  },
  {
   "cell_type": "code",
   "execution_count": 10,
   "id": "19eb2c4e-95b9-4803-b148-ddf9b2961df8",
   "metadata": {},
   "outputs": [],
   "source": [
    "assert compare([1,[2,[3,[4,[5,6,7]]]],8,9], [1,[2,[3,[4,[5,6,0]]]],8,9]) is False"
   ]
  },
  {
   "cell_type": "markdown",
   "id": "475412a4-c90c-47de-aef7-ed1b306f61a3",
   "metadata": {},
   "source": [
    "What are the indices of the pairs that are already in the right order? (The first pair has index 1, the second pair has index 2, and so on.) In the above example, the pairs in the right order are 1, 2, 4, and 6; the sum of these indices is **13**.\n",
    "\n",
    "Determine which pairs of packets are already in the right order. What is the sum of the indices of those pairs?"
   ]
  },
  {
   "cell_type": "code",
   "execution_count": 11,
   "id": "77f50525-fcc6-453f-8953-34cffd6671da",
   "metadata": {},
   "outputs": [],
   "source": [
    "from ast import literal_eval\n",
    "\n",
    "assert literal_eval(\"[1]\") == [1]\n",
    "assert literal_eval(\"[5,6,7]\") == [5, 6, 7]\n",
    "assert literal_eval(\"[4,[5,6,7]]\") == [4, [5, 6, 7]]\n",
    "assert literal_eval(\"[1,[2,[3,[4,[5,6,7]]]],8,9]\") == [1, [2, [3, [4, [5, 6, 7]]]], 8, 9]"
   ]
  },
  {
   "cell_type": "code",
   "execution_count": 12,
   "id": "d34b61c6-c6cd-429e-81ba-12eb74061db1",
   "metadata": {},
   "outputs": [],
   "source": [
    "def batch(iterable, size=2):\n",
    "    \"\"\"Take an iterable and split it in several list\n",
    "    of size _size_, except for the last one, which\n",
    "    could have less elements.\n",
    "\n",
    "    Example:\n",
    "\n",
    "    >>> assert list(batch(range(1, 8), 3)) == [(1, 2, 3), (4, 5, 6), (7,)]\n",
    "    \"\"\"\n",
    "    iterable = iter(iterable)\n",
    "    while True:\n",
    "        chunk = []\n",
    "        for i in range(size):\n",
    "            try:\n",
    "                chunk.append(next(iterable))\n",
    "            except StopIteration:\n",
    "                if chunk:\n",
    "                    yield tuple(chunk)\n",
    "                return\n",
    "        if chunk:\n",
    "            yield tuple(chunk)\n",
    "\n",
    "assert list(batch(range(1, 8), 3)) == [(1, 2, 3), (4, 5, 6), (7,)]      "
   ]
  },
  {
   "cell_type": "code",
   "execution_count": 13,
   "id": "80e1d7f4-63ab-4ac0-a309-dc2b024929b8",
   "metadata": {},
   "outputs": [],
   "source": [
    "def load_source(filename):\n",
    "    with open(filename, 'r') as f_input:\n",
    "        for line in f_input:\n",
    "            line = line.strip()\n",
    "            if line:\n",
    "                yield line\n",
    "    return\n",
    "                \n",
    "lines = list(load_source('sample.txt'))\n",
    "assert len(lines) == 16\n",
    "assert lines[0] == '[1,1,3,1,1]'\n",
    "assert lines[-1] == '[1,[2,[3,[4,[5,6,0]]]],8,9]'"
   ]
  },
  {
   "cell_type": "code",
   "execution_count": 14,
   "id": "6d9cc460-486e-48a5-82ec-97bd4d1a751c",
   "metadata": {},
   "outputs": [],
   "source": [
    "def load_input(filename):\n",
    "    source = batch(load_source(filename), 2)\n",
    "    for left_expr, rigth_expr in source:\n",
    "        yield (literal_eval(left_expr), literal_eval(rigth_expr))\n",
    "    return"
   ]
  },
  {
   "cell_type": "code",
   "execution_count": 15,
   "id": "56355a0f-f2da-46ca-b78d-ef2a9054e484",
   "metadata": {},
   "outputs": [],
   "source": [
    "def solution_one(filename):\n",
    "    counter = 0\n",
    "    for line_num, pair in enumerate(load_input(filename), start=1):\n",
    "        if compare(*pair):\n",
    "            counter += line_num\n",
    "    return counter\n",
    "        "
   ]
  },
  {
   "cell_type": "code",
   "execution_count": 16,
   "id": "c487eef9-ceb6-40c2-bf86-6c1abddde7c1",
   "metadata": {},
   "outputs": [],
   "source": [
    "assert solution_one('sample.txt') == 13"
   ]
  },
  {
   "cell_type": "code",
   "execution_count": 17,
   "id": "d00c8451-153d-4cbe-b0eb-169cf48ffd05",
   "metadata": {},
   "outputs": [
    {
     "name": "stdout",
     "output_type": "stream",
     "text": [
      "Solution part one: 5806\n"
     ]
    }
   ],
   "source": [
    "sol = solution_one('input.txt')\n",
    "print(f\"Solution part one: {sol}\")"
   ]
  },
  {
   "cell_type": "markdown",
   "id": "c337cfae-5f97-44c0-b4a2-c85f619de6e8",
   "metadata": {},
   "source": [
    "## Part Two\n",
    "\n",
    "Now, you just need to put all of the packets in the right order. Disregard the blank lines in your list of received packets.\n",
    "\n",
    "The distress signal protocol also requires that you include two additional divider packets:\n",
    "\n",
    "```\n",
    "[[2]]\n",
    "[[6]]\n",
    "```\n",
    "\n",
    "Using the same rules as before, organize all packets - the ones in your list of received packets as well as the two divider packets - into the correct order.\n",
    "\n",
    "For the example above, the result of putting the packets in the correct order is:\n",
    "\n",
    "```\n",
    "[]\n",
    "[[]]\n",
    "[[[]]]\n",
    "[1,1,3,1,1]\n",
    "[1,1,5,1,1]\n",
    "[[1],[2,3,4]]\n",
    "[1,[2,[3,[4,[5,6,0]]]],8,9]\n",
    "[1,[2,[3,[4,[5,6,7]]]],8,9]\n",
    "[[1],4]\n",
    "[[2]]\n",
    "[3]\n",
    "[[4,4],4,4]\n",
    "[[4,4],4,4,4]\n",
    "[[6]]\n",
    "[7,7,7]\n",
    "[7,7,7,7]\n",
    "[[8,7,6]]\n",
    "[9]\n",
    "```"
   ]
  },
  {
   "cell_type": "markdown",
   "id": "22879cc8-426f-4048-9a26-233ea126df2e",
   "metadata": {},
   "source": [
    "From the official documentation of Python:\n",
    "\n",
    "> ### functools.cmp_to_key(func)\n",
    "\n",
    "> Transform an old-style comparison function to a key function. Used with tools that accept key functions (such as sorted(), min(), max(), heapq.nlargest(), heapq.nsmallest(), itertools.groupby()). This function is primarily used as a transition tool for programs being converted from Python 2 which supported the use of comparison functions.\n",
    "\n",
    "> A comparison function is any callable that accepts two arguments, compares them, and returns a negative number for less-than, zero for equality, or a positive number for greater-than. A key function is a callable that accepts one argument and returns another value to be used as the sort key."
   ]
  },
  {
   "cell_type": "code",
   "execution_count": 18,
   "id": "08d6b3e8-9202-460e-8e56-33c02cb925ec",
   "metadata": {},
   "outputs": [],
   "source": [
    "from functools import cmp_to_key\n",
    "\n",
    "def cmp_packets(l1, l2):\n",
    "    result = compare(l1, l2)\n",
    "    return -1 if result else 1\n",
    "    \n",
    "\n",
    "def solution_two(filename):\n",
    "    lines = []\n",
    "    for l1, l2 in load_input(filename):\n",
    "        lines.append(l1)\n",
    "        lines.append(l2)\n",
    "    lines.append([[2]])\n",
    "    lines.append([[6]])\n",
    "    acc = 1\n",
    "    for index, l in enumerate(sorted(lines, key=cmp_to_key(cmp_packets)), start=1):\n",
    "        if l == [[2]] or l == [[6]]:\n",
    "            acc *= index\n",
    "    return acc"
   ]
  },
  {
   "cell_type": "markdown",
   "id": "2a7bbce7-5627-48ba-b630-86cb256c3ff6",
   "metadata": {},
   "source": [
    "Afterward, locate the divider packets. To find the decoder key for this distress signal, you need to determine the indices of the two divider packets and multiply them together. (The first packet is at index 1, the second packet is at index 2, and so on.) In this example, the divider packets are 10th and 14th, and so the decoder key is 140."
   ]
  },
  {
   "cell_type": "code",
   "execution_count": 19,
   "id": "d70752b0-747e-4e72-9183-6b11905c2a56",
   "metadata": {},
   "outputs": [],
   "source": [
    "assert solution_two('sample.txt') == 140"
   ]
  },
  {
   "cell_type": "markdown",
   "id": "a0d2b921-e626-4ab0-b5f9-fed531603ade",
   "metadata": {},
   "source": [
    "Organize all of the packets into the correct order. What is the decoder key for the distress signal?"
   ]
  },
  {
   "cell_type": "code",
   "execution_count": 20,
   "id": "fa8fb065-5624-4f49-bf26-dfbb36cf8f5c",
   "metadata": {},
   "outputs": [
    {
     "name": "stdout",
     "output_type": "stream",
     "text": [
      "Solution part two: 23600\n"
     ]
    }
   ],
   "source": [
    "sol = solution_two('input.txt')\n",
    "print(f\"Solution part two: {sol}\")"
   ]
  }
 ],
 "metadata": {
  "kernelspec": {
   "display_name": "Python 3 (ipykernel)",
   "language": "python",
   "name": "python3"
  },
  "language_info": {
   "codemirror_mode": {
    "name": "ipython",
    "version": 3
   },
   "file_extension": ".py",
   "mimetype": "text/x-python",
   "name": "python",
   "nbconvert_exporter": "python",
   "pygments_lexer": "ipython3",
   "version": "3.10.6"
  }
 },
 "nbformat": 4,
 "nbformat_minor": 5
}
