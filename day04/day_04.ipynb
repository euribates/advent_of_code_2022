{
 "cells": [
  {
   "cell_type": "markdown",
   "id": "cd496661-7f22-47cd-91f5-0067235ca4f8",
   "metadata": {},
   "source": [
    "## Day 4: Camp Cleanup\n",
    "\n",
    "Space needs to be cleared before the last supplies can be unloaded from the ships, and so several Elves have been assigned the job of cleaning up sections of the camp. Every section has a unique ID number, and each Elf is assigned a range of section IDs.\n",
    "\n",
    "However, as some of the Elves compare their section assignments with each other, they've noticed that many of the assignments overlap. To try to quickly find overlaps and reduce duplicated effort, the Elves pair up and make a big list of the section assignments for each pair (your puzzle input).\n",
    "\n",
    "For example, consider the following list of section assignment pairs:\n",
    "\n",
    "```\n",
    "2-4,6-8\n",
    "2-3,4-5\n",
    "5-7,7-9\n",
    "2-8,3-7\n",
    "6-6,4-6\n",
    "2-6,4-8\n",
    "```"
   ]
  },
  {
   "cell_type": "code",
   "execution_count": 1,
   "id": "5064e61e-1d5f-4f5a-80d5-633606ade115",
   "metadata": {},
   "outputs": [],
   "source": [
    "def load_input(filename):\n",
    "    with open(filename, 'r', encoding='utf-8') as f_in:\n",
    "        for line in f_in:\n",
    "            line = line.strip()\n",
    "            first_pair, second_pair = line.split(',', 1)\n",
    "            section_one = tuple(int(x) for x in first_pair.split('-', 1))\n",
    "            section_two = tuple(int(x) for x in second_pair.split('-', 1))\n",
    "            yield (section_one, section_two)"
   ]
  },
  {
   "cell_type": "code",
   "execution_count": 2,
   "id": "2886f5cc-78a7-4234-994b-59ad70d8740b",
   "metadata": {},
   "outputs": [],
   "source": [
    "sections = list(load_input('sample.txt'))\n",
    "assert len(sections) == 6\n",
    "assert sections[0] == ((2, 4), (6, 8))\n",
    "assert sections[1] == ((2, 3), (4, 5))\n",
    "assert sections[2] == ((5, 7), (7, 9))\n",
    "assert sections[3] == ((2, 8), (3, 7))\n",
    "assert sections[4] == ((6, 6), (4, 6))\n",
    "assert sections[5] == ((2, 6), (4, 8))"
   ]
  },
  {
   "cell_type": "markdown",
   "id": "7eaf0082-dbdc-46d0-a7ef-5ce6c005f007",
   "metadata": {},
   "source": [
    "For the first few pairs, this list means:\n",
    "\n",
    "- Within the first pair of Elves, the first Elf was assigned sections 2-4 (sections 2, 3, and 4), while the second Elf was assigned sections 6-8 (sections 6, 7, 8).\n",
    "\n",
    "- The Elves in the second pair were each assigned two sections.\n",
    "\n",
    "- The Elves in the third pair were each assigned three sections: one got sections 5, 6, and 7, while the other also got 7, plus 8 and 9.\n",
    "\n",
    "This example list uses single-digit section IDs to make it easier to draw; your actual list might contain larger numbers. Visually, these pairs of section assignments look like this:\n",
    "\n",
    "```\n",
    ".234.....  2-4\n",
    ".....678.  6-8\n",
    "\n",
    ".23......  2-3\n",
    "...45....  4-5\n",
    "\n",
    "....567..  5-7\n",
    "......789  7-9\n",
    "\n",
    ".2345678.  2-8\n",
    "..34567..  3-7\n",
    "\n",
    ".....6...  6-6\n",
    "...456...  4-6\n",
    "\n",
    ".23456...  2-6\n",
    "...45678.  4-8\n",
    "```\n",
    "\n",
    "Some of the pairs have noticed that one of their assignments fully contains the other. For example, 2-8 fully contains 3-7, and 6-6 is fully contained by 4-6. In pairs where one assignment fully contains the other, one Elf in the pair would be exclusively cleaning sections their partner will already be cleaning, so these seem like the most in need of reconsideration. In this example, there are **2** such pairs."
   ]
  },
  {
   "cell_type": "code",
   "execution_count": 3,
   "id": "714acd6b-7290-45ba-b6a1-70dae452dba4",
   "metadata": {},
   "outputs": [],
   "source": [
    "def is_contained(range0, range1):\n",
    "    if range0[0] <= range1[0] and range0[1] >= range1[1]:\n",
    "        return True\n",
    "    elif range1[0] <= range0[0] and range1[1] >= range0[1]:\n",
    "        return True\n",
    "    return False"
   ]
  },
  {
   "cell_type": "code",
   "execution_count": 4,
   "id": "773fdc3c-db12-44d5-a351-420b2f6f0b33",
   "metadata": {},
   "outputs": [],
   "source": [
    "assert is_contained((2, 8), (3, 7)) is True\n",
    "assert is_contained((6, 6), (4, 6)) is True\n",
    "assert is_contained((2, 6), (4, 8)) is False\n",
    "assert is_contained((5, 7), (7, 9)) is False\n",
    "assert is_contained((2, 4), (6, 8)) is False\n",
    "assert is_contained((2, 3), (4, 5)) is False"
   ]
  },
  {
   "cell_type": "markdown",
   "id": "05be29d6-1eaa-49fe-aca1-20c7ab19cd0e",
   "metadata": {},
   "source": [
    "**In how many assignment pairs does one range fully contain the other?**"
   ]
  },
  {
   "cell_type": "code",
   "execution_count": 5,
   "id": "396b63be-5102-441b-9960-5c64d3ffd215",
   "metadata": {},
   "outputs": [],
   "source": [
    "def solution_one(filename):\n",
    "    return sum([\n",
    "        is_contained(range0, range1)\n",
    "        for range0, range1 in load_input(filename)\n",
    "    ])"
   ]
  },
  {
   "cell_type": "code",
   "execution_count": 6,
   "id": "6224d7b7-67e0-4650-868c-6fe58786264f",
   "metadata": {},
   "outputs": [],
   "source": [
    "assert solution_one('sample.txt') == 2"
   ]
  },
  {
   "cell_type": "code",
   "execution_count": 7,
   "id": "10283538-2256-442e-a7ae-9ea15ba08acb",
   "metadata": {},
   "outputs": [
    {
     "name": "stdout",
     "output_type": "stream",
     "text": [
      "Solution part one: 651\n"
     ]
    }
   ],
   "source": [
    "sol = solution_one('input.txt')\n",
    "print(f\"Solution part one: {sol}\")"
   ]
  },
  {
   "cell_type": "markdown",
   "id": "3c0033ec-5752-4f52-9637-8c73fc14de47",
   "metadata": {},
   "source": [
    "## Part Two\n",
    "\n",
    "It seems like there is still quite a bit of duplicate work planned. Instead, the Elves would like to know the number of pairs that overlap at all.\n",
    "\n",
    "In the above example, the first two pairs (2-4,6-8 and 2-3,4-5) don't overlap, while the remaining four pairs (5-7,7-9, 2-8,3-7, 6-6,4-6, and 2-6,4-8) do overlap:\n",
    "\n",
    "- 5-7,7-9 overlaps in a single section, 7.\n",
    "\n",
    "- 2-8,3-7 overlaps all of the sections 3 through 7.\n",
    "\n",
    "- 6-6,4-6 overlaps in a single section, 6.\n",
    "\n",
    "- 2-6,4-8 overlaps in sections 4, 5, and 6."
   ]
  },
  {
   "cell_type": "code",
   "execution_count": 8,
   "id": "e020c82e-5f5d-40ec-8724-4cb0d68c7a0e",
   "metadata": {},
   "outputs": [],
   "source": [
    "def is_overlaped(range0, range1):\n",
    "    a, b = range0\n",
    "    c, d = range1\n",
    "    if a <= c and  b >= c:\n",
    "        return True\n",
    "    elif c <= a and d >= a:\n",
    "        return True\n",
    "    return False"
   ]
  },
  {
   "cell_type": "markdown",
   "id": "43e08760-8e9a-46c6-b68a-827345f86861",
   "metadata": {},
   "source": [
    "So, in this example, the number of overlapping assignment pairs is **4**."
   ]
  },
  {
   "cell_type": "code",
   "execution_count": 9,
   "id": "5b2bcad8-7916-4f63-91a4-2c98897aed5c",
   "metadata": {},
   "outputs": [],
   "source": [
    "def solution_two(filename):\n",
    "    return sum([\n",
    "        is_overlaped(range0, range1)\n",
    "        for range0, range1 in load_input(filename)\n",
    "    ])\n",
    "\n",
    "assert solution_two('sample.txt') == 4"
   ]
  },
  {
   "cell_type": "markdown",
   "id": "f876a9bf-14b3-4638-a7cd-b0fad44636d4",
   "metadata": {},
   "source": [
    "**In how many assignment pairs do the ranges overlap?**"
   ]
  },
  {
   "cell_type": "code",
   "execution_count": 10,
   "id": "296cb8c7-88a8-4d7c-a874-3600d0bfd231",
   "metadata": {},
   "outputs": [
    {
     "name": "stdout",
     "output_type": "stream",
     "text": [
      "Solution part two: 956\n"
     ]
    }
   ],
   "source": [
    "sol = solution_two('input.txt')\n",
    "print(f\"Solution part two: {sol}\")"
   ]
  }
 ],
 "metadata": {
  "kernelspec": {
   "display_name": "Python 3 (ipykernel)",
   "language": "python",
   "name": "python3"
  },
  "language_info": {
   "codemirror_mode": {
    "name": "ipython",
    "version": 3
   },
   "file_extension": ".py",
   "mimetype": "text/x-python",
   "name": "python",
   "nbconvert_exporter": "python",
   "pygments_lexer": "ipython3",
   "version": "3.8.10"
  }
 },
 "nbformat": 4,
 "nbformat_minor": 5
}
