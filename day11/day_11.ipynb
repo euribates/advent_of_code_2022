{
 "cells": [
  {
   "cell_type": "markdown",
   "id": "bc270eda-f034-4cca-a8c0-11fc869f53af",
   "metadata": {},
   "source": [
    "## Day 11: 11: Monkey in the Middle\n",
    "\n",
    "As you finally start making your way upriver, you realize your pack is much lighter than you remember. Just then, one of the items from your pack goes flying overhead. Monkeys are playing Keep Away with your missing things!\n",
    "\n",
    "To get your stuff back, you need to be able to predict where the monkeys will throw your items. After some careful observation, you realize the monkeys operate based on how worried you are about each item.\n",
    "\n",
    "You take some notes (your puzzle input) on the items each monkey currently has, how worried you are about those items, and how the monkey makes decisions based on your worry level. For example:"
   ]
  },
  {
   "cell_type": "markdown",
   "id": "8cb04511-5f37-49dc-9772-985449fb2af2",
   "metadata": {},
   "source": [
    "```\n",
    "Monkey 0:\n",
    "  Starting items: 79, 98\n",
    "  Operation: new = old * 19\n",
    "  Test: divisible by 23\n",
    "    If true: throw to monkey 2\n",
    "    If false: throw to monkey 3\n",
    "\n",
    "Monkey 1:\n",
    "  Starting items: 54, 65, 75, 74\n",
    "  Operation: new = old + 6\n",
    "  Test: divisible by 19\n",
    "    If true: throw to monkey 2\n",
    "    If false: throw to monkey 0\n",
    "\n",
    "Monkey 2:\n",
    "  Starting items: 79, 60, 97\n",
    "  Operation: new = old * old\n",
    "  Test: divisible by 13\n",
    "    If true: throw to monkey 1\n",
    "    If false: throw to monkey 3\n",
    "\n",
    "Monkey 3:\n",
    "  Starting items: 74\n",
    "  Operation: new = old + 3\n",
    "  Test: divisible by 17\n",
    "    If true: throw to monkey 0\n",
    "    If false: throw to monkey 1\n",
    "```"
   ]
  },
  {
   "cell_type": "code",
   "execution_count": 1,
   "id": "440b0627-6c0e-4a89-a225-ccf14c657d1c",
   "metadata": {},
   "outputs": [],
   "source": [
    "from collections import deque\n",
    "\n",
    "import pytest\n",
    "from icecream import ic"
   ]
  },
  {
   "cell_type": "code",
   "execution_count": 2,
   "id": "655d6e41-89d9-4f7f-b32c-1a5d7558c7d8",
   "metadata": {},
   "outputs": [],
   "source": [
    "def load_input(filename):\n",
    "    with open(filename, 'r') as f_input:\n",
    "        for num, line in enumerate(f_input, start=1):\n",
    "            line = line.strip()\n",
    "            if line:\n",
    "                yield num, line\n",
    "           \n",
    "        \n",
    "src = list(load_input('sample.txt'))\n",
    "assert len(src) == 24\n",
    "assert src[0] == (1, 'Monkey 0:')\n",
    "assert src[-1] == (27, 'If false: throw to monkey 1')"
   ]
  },
  {
   "cell_type": "markdown",
   "id": "767ac5cf-7e6c-4a7c-88d2-adc308f15557",
   "metadata": {},
   "source": [
    "Each monkey has several attributes:\n",
    "\n",
    "- **Starting items** lists your worry level for each item the monkey is currently holding in the order they will be inspected.\n",
    "\n",
    "- **Operation** shows how your worry level changes as that monkey inspects an item. (An operation like new = old * 5 means that your worry level after the monkey inspected the item is five times whatever your worry level was before inspection.)\n",
    "\n",
    "- **Test** shows how the monkey uses your worry level to decide where to throw an item next.\n",
    "\n",
    "- **If true** shows what happens with an item if the Test was true.\n",
    "\n",
    "- **If false** shows what happens with an item if the Test was false.\n",
    "\n",
    "After each monkey inspects an item but before it tests your worry level, your relief that the monkey's inspection didn't damage the item causes your worry level to be divided by **three** and rounded down to the nearest integer."
   ]
  },
  {
   "cell_type": "code",
   "execution_count": 3,
   "id": "f513b8c1-aa7a-440d-bec9-9377fc417d43",
   "metadata": {},
   "outputs": [],
   "source": [
    "# %load models.py\n",
    "from functools import cache\n",
    "from collections import deque\n",
    "\n",
    "\n",
    "class Monkey:\n",
    "    \n",
    "    def __init__(self, num, items=None):\n",
    "        self.num = num\n",
    "        self.items = deque([] if items is None else list(items))\n",
    "        self.operation = ''\n",
    "        self.test = None\n",
    "        self.throw_if_true = None\n",
    "        self.throw_if_false = None\n",
    "        self.num_checks = 0\n",
    "        \n",
    "    def __repr__(self):\n",
    "        return f\"Monkey({self.num}, items=[{','.join([str(num) for num in self.items])}])\"\n",
    "    \n",
    "    @cache\n",
    "    def make_test(self, value):\n",
    "        return (value % self.test) == 0\n",
    "        \n",
    "\n"
   ]
  },
  {
   "cell_type": "code",
   "execution_count": 4,
   "id": "8d2eb4d5-5795-4caf-a3da-626a593d9034",
   "metadata": {},
   "outputs": [],
   "source": [
    "from models import Monkey\n",
    "    \n",
    "m = Monkey(0, items=(79, 98))\n",
    "m.operation = 'old * 19'\n",
    "m.test = 23\n",
    "m.throw_if_true = 2\n",
    "m.throw_if_false = 3"
   ]
  },
  {
   "cell_type": "code",
   "execution_count": 5,
   "id": "c3822855-d67f-4841-a1d7-c8036f234196",
   "metadata": {},
   "outputs": [
    {
     "name": "stderr",
     "output_type": "stream",
     "text": [
      "ic| monkey: Monkey(0, items=[79,98])\n",
      "ic| monkey: Monkey(1, items=[54,65,75,74])\n",
      "ic| monkey: Monkey(2, items=[79,60,97])\n",
      "ic| monkey: Monkey(3, items=[74])\n"
     ]
    }
   ],
   "source": [
    "from parser import parser\n",
    "    \n",
    "source = load_input('sample.txt')\n",
    "for monkey in parser(source):\n",
    "    ic(monkey)"
   ]
  },
  {
   "cell_type": "markdown",
   "id": "58050d88-87d5-4fc2-a283-acd5609f0f6a",
   "metadata": {},
   "source": [
    "The monkeys take turns inspecting and throwing items. On a single monkey's turn, it inspects and throws all of the items it is holding one at a time and in the order listed. Monkey 0 goes first, then monkey 1, and so on until each monkey has had one turn. The process of each monkey taking a single turn is called a **round**.\n",
    "\n",
    "When a monkey throws an item to another monkey, the item goes on the end of the recipient monkey's list. A monkey that starts a round with no items could end up inspecting and throwing many items by the time its turn comes around. If a monkey is holding no items at the start of its turn, its turn ends."
   ]
  },
  {
   "cell_type": "code",
   "execution_count": 6,
   "id": "d25c7251-b2de-4faa-9168-5499e591c63a",
   "metadata": {},
   "outputs": [
    {
     "name": "stdout",
     "output_type": "stream",
     "text": [
      "Monkey 0:\n",
      "  Monkey inspects an item with a worry level of 79.\n",
      "    Worry level is old * 19 => 1501.\n",
      "    Monkey gets bored with item. Worry level is divided by 3 to 500.\n",
      "    Current worry level is not divisible by 23.\n",
      "    Item with worry level 500 is thrown to monkey 3.\n",
      "  Monkey inspects an item with a worry level of 98.\n",
      "    Worry level is old * 19 => 1862.\n",
      "    Monkey gets bored with item. Worry level is divided by 3 to 620.\n",
      "    Current worry level is not divisible by 23.\n",
      "    Item with worry level 620 is thrown to monkey 3.\n"
     ]
    }
   ],
   "source": [
    "def check(monkey, tron=False):\n",
    "    if tron:\n",
    "        print(f'Monkey {monkey.num}:')\n",
    "    if not monkey.items:\n",
    "        return\n",
    "    value = monkey.items.popleft()\n",
    "    while value:\n",
    "        monkey.num_checks += 1\n",
    "        if tron:\n",
    "            print(f\"  Monkey inspects an item with a worry level of {value}.\")\n",
    "        value = eval(monkey.operation, {'old': value})\n",
    "        if tron:\n",
    "            print(f\"    Worry level is {monkey.operation} => {value}.\")\n",
    "       \n",
    "        value = value // 3\n",
    "        if tron:\n",
    "            print(f\"    Monkey gets bored with item. Worry level is divided by 3 to {value}.\")\n",
    "        if monkey.make_test(value):\n",
    "            if tron:\n",
    "                print(f\"    Current worry level is divisible by {monkey.test}.\")\n",
    "            target = monkey.throw_if_true \n",
    "        else:\n",
    "            if tron:\n",
    "                print(f\"    Current worry level is not divisible by {monkey.test}.\")\n",
    "            target = monkey.throw_if_false \n",
    "        if tron:\n",
    "            print(f\"    Item with worry level {value} is thrown to monkey {target}.\")\n",
    "        yield(value, target)\n",
    "        value = monkey.items.popleft() if monkey.items else None\n",
    "            \n",
    "            \n",
    "m = Monkey(0, items=(79, 98))\n",
    "m.operation = 'old * 19'\n",
    "m.test = 23\n",
    "m.throw_if_true = 2\n",
    "m.throw_if_false = 3\n",
    "for _ in check(m, tron=True):\n",
    "    pass"
   ]
  },
  {
   "cell_type": "markdown",
   "id": "170ab648-158e-44bd-aa94-317a30a67204",
   "metadata": {},
   "source": [
    "Expected:\n",
    "\n",
    "```\n",
    "Monkey 0:\n",
    "  Monkey inspects an item with a worry level of 79.\n",
    "    Worry level is multiplied by 19 to 1501.\n",
    "    Monkey gets bored with item. Worry level is divided by 3 to 500.\n",
    "    Current worry level is not divisible by 23.\n",
    "    Item with worry level 500 is thrown to monkey 3.\n",
    "  Monkey inspects an item with a worry level of 98.\n",
    "    Worry level is multiplied by 19 to 1862.\n",
    "    Monkey gets bored with item. Worry level is divided by 3 to 620.\n",
    "    Current worry level is not divisible by 23.\n",
    "    Item with worry level 620 is thrown to monkey 3.\n",
    "```"
   ]
  },
  {
   "cell_type": "code",
   "execution_count": 7,
   "id": "4437a332-380e-4059-8583-faaed1ac1aaa",
   "metadata": {},
   "outputs": [],
   "source": [
    "def round(monkeys, tron=False):\n",
    "    for monkey in monkeys:\n",
    "        for (item, to_monkey) in check(monkey, tron=tron):\n",
    "            monkeys[to_monkey].items.append(item)\n",
    "    return monkeys"
   ]
  },
  {
   "cell_type": "markdown",
   "id": "92d6fe3a-d5f9-4a7d-b83c-54da4092b4fd",
   "metadata": {},
   "source": [
    "In the above example, the first round proceeds as follows:\n",
    "\n",
    "```\n",
    "Monkey 0:\n",
    "  Monkey inspects an item with a worry level of 79.\n",
    "    Worry level is multiplied by 19 to 1501.\n",
    "    Monkey gets bored with item. Worry level is divided by 3 to 500.\n",
    "    Current worry level is not divisible by 23.\n",
    "    Item with worry level 500 is thrown to monkey 3.\n",
    "  Monkey inspects an item with a worry level of 98.\n",
    "    Worry level is multiplied by 19 to 1862.\n",
    "    Monkey gets bored with item. Worry level is divided by 3 to 620.\n",
    "    Current worry level is not divisible by 23.\n",
    "    Item with worry level 620 is thrown to monkey 3.\n",
    "Monkey 1:\n",
    "  Monkey inspects an item with a worry level of 54.\n",
    "    Worry level increases by 6 to 60.\n",
    "    Monkey gets bored with item. Worry level is divided by 3 to 20.\n",
    "    Current worry level is not divisible by 19.\n",
    "    Item with worry level 20 is thrown to monkey 0.\n",
    "  Monkey inspects an item with a worry level of 65.\n",
    "    Worry level increases by 6 to 71.\n",
    "    Monkey gets bored with item. Worry level is divided by 3 to 23.\n",
    "    Current worry level is not divisible by 19.\n",
    "    Item with worry level 23 is thrown to monkey 0.\n",
    "  Monkey inspects an item with a worry level of 75.\n",
    "    Worry level increases by 6 to 81.\n",
    "    Monkey gets bored with item. Worry level is divided by 3 to 27.\n",
    "    Current worry level is not divisible by 19.\n",
    "    Item with worry level 27 is thrown to monkey 0.\n",
    "  Monkey inspects an item with a worry level of 74.\n",
    "    Worry level increases by 6 to 80.\n",
    "    Monkey gets bored with item. Worry level is divided by 3 to 26.\n",
    "    Current worry level is not divisible by 19.\n",
    "    Item with worry level 26 is thrown to monkey 0.\n",
    "Monkey 2:\n",
    "  Monkey inspects an item with a worry level of 79.\n",
    "    Worry level is multiplied by itself to 6241.\n",
    "    Monkey gets bored with item. Worry level is divided by 3 to 2080.\n",
    "    Current worry level is divisible by 13.\n",
    "    Item with worry level 2080 is thrown to monkey 1.\n",
    "  Monkey inspects an item with a worry level of 60.\n",
    "    Worry level is multiplied by itself to 3600.\n",
    "    Monkey gets bored with item. Worry level is divided by 3 to 1200.\n",
    "    Current worry level is not divisible by 13.\n",
    "    Item with worry level 1200 is thrown to monkey 3.\n",
    "  Monkey inspects an item with a worry level of 97.\n",
    "    Worry level is multiplied by itself to 9409.\n",
    "    Monkey gets bored with item. Worry level is divided by 3 to 3136.\n",
    "    Current worry level is not divisible by 13.\n",
    "    Item with worry level 3136 is thrown to monkey 3.\n",
    "Monkey 3:\n",
    "  Monkey inspects an item with a worry level of 74.\n",
    "    Worry level increases by 3 to 77.\n",
    "    Monkey gets bored with item. Worry level is divided by 3 to 25.\n",
    "    Current worry level is not divisible by 17.\n",
    "    Item with worry level 25 is thrown to monkey 1.\n",
    "  Monkey inspects an item with a worry level of 500.\n",
    "    Worry level increases by 3 to 503.\n",
    "    Monkey gets bored with item. Worry level is divided by 3 to 167.\n",
    "    Current worry level is not divisible by 17.\n",
    "    Item with worry level 167 is thrown to monkey 1.\n",
    "  Monkey inspects an item with a worry level of 620.\n",
    "    Worry level increases by 3 to 623.\n",
    "    Monkey gets bored with item. Worry level is divided by 3 to 207.\n",
    "    Current worry level is not divisible by 17.\n",
    "    Item with worry level 207 is thrown to monkey 1.\n",
    "  Monkey inspects an item with a worry level of 1200.\n",
    "    Worry level increases by 3 to 1203.\n",
    "    Monkey gets bored with item. Worry level is divided by 3 to 401.\n",
    "    Current worry level is not divisible by 17.\n",
    "    Item with worry level 401 is thrown to monkey 1.\n",
    "  Monkey inspects an item with a worry level of 3136.\n",
    "    Worry level increases by 3 to 3139.\n",
    "    Monkey gets bored with item. Worry level is divided by 3 to 1046.\n",
    "    Current worry level is not divisible by 17.\n",
    "    Item with worry level 1046 is thrown to monkey 1.\n",
    "```"
   ]
  },
  {
   "cell_type": "code",
   "execution_count": 8,
   "id": "083e32f4-65f2-4136-a470-ab373320a58b",
   "metadata": {},
   "outputs": [
    {
     "name": "stdout",
     "output_type": "stream",
     "text": [
      "Monkey 0:\n",
      "  Monkey inspects an item with a worry level of 79.\n",
      "    Worry level is old * 19 => 1501.\n",
      "    Monkey gets bored with item. Worry level is divided by 3 to 500.\n",
      "    Current worry level is not divisible by 23.\n",
      "    Item with worry level 500 is thrown to monkey 3.\n",
      "  Monkey inspects an item with a worry level of 98.\n",
      "    Worry level is old * 19 => 1862.\n",
      "    Monkey gets bored with item. Worry level is divided by 3 to 620.\n",
      "    Current worry level is not divisible by 23.\n",
      "    Item with worry level 620 is thrown to monkey 3.\n",
      "Monkey 1:\n",
      "  Monkey inspects an item with a worry level of 54.\n",
      "    Worry level is old + 6 => 60.\n",
      "    Monkey gets bored with item. Worry level is divided by 3 to 20.\n",
      "    Current worry level is not divisible by 19.\n",
      "    Item with worry level 20 is thrown to monkey 0.\n",
      "  Monkey inspects an item with a worry level of 65.\n",
      "    Worry level is old + 6 => 71.\n",
      "    Monkey gets bored with item. Worry level is divided by 3 to 23.\n",
      "    Current worry level is not divisible by 19.\n",
      "    Item with worry level 23 is thrown to monkey 0.\n",
      "  Monkey inspects an item with a worry level of 75.\n",
      "    Worry level is old + 6 => 81.\n",
      "    Monkey gets bored with item. Worry level is divided by 3 to 27.\n",
      "    Current worry level is not divisible by 19.\n",
      "    Item with worry level 27 is thrown to monkey 0.\n",
      "  Monkey inspects an item with a worry level of 74.\n",
      "    Worry level is old + 6 => 80.\n",
      "    Monkey gets bored with item. Worry level is divided by 3 to 26.\n",
      "    Current worry level is not divisible by 19.\n",
      "    Item with worry level 26 is thrown to monkey 0.\n",
      "Monkey 2:\n",
      "  Monkey inspects an item with a worry level of 79.\n",
      "    Worry level is old * old => 6241.\n",
      "    Monkey gets bored with item. Worry level is divided by 3 to 2080.\n",
      "    Current worry level is divisible by 13.\n",
      "    Item with worry level 2080 is thrown to monkey 1.\n",
      "  Monkey inspects an item with a worry level of 60.\n",
      "    Worry level is old * old => 3600.\n",
      "    Monkey gets bored with item. Worry level is divided by 3 to 1200.\n",
      "    Current worry level is not divisible by 13.\n",
      "    Item with worry level 1200 is thrown to monkey 3.\n",
      "  Monkey inspects an item with a worry level of 97.\n",
      "    Worry level is old * old => 9409.\n",
      "    Monkey gets bored with item. Worry level is divided by 3 to 3136.\n",
      "    Current worry level is not divisible by 13.\n",
      "    Item with worry level 3136 is thrown to monkey 3.\n",
      "Monkey 3:\n",
      "  Monkey inspects an item with a worry level of 74.\n",
      "    Worry level is old + 3 => 77.\n",
      "    Monkey gets bored with item. Worry level is divided by 3 to 25.\n",
      "    Current worry level is not divisible by 17.\n",
      "    Item with worry level 25 is thrown to monkey 1.\n",
      "  Monkey inspects an item with a worry level of 500.\n",
      "    Worry level is old + 3 => 503.\n",
      "    Monkey gets bored with item. Worry level is divided by 3 to 167.\n",
      "    Current worry level is not divisible by 17.\n",
      "    Item with worry level 167 is thrown to monkey 1.\n",
      "  Monkey inspects an item with a worry level of 620.\n",
      "    Worry level is old + 3 => 623.\n",
      "    Monkey gets bored with item. Worry level is divided by 3 to 207.\n",
      "    Current worry level is not divisible by 17.\n",
      "    Item with worry level 207 is thrown to monkey 1.\n",
      "  Monkey inspects an item with a worry level of 1200.\n",
      "    Worry level is old + 3 => 1203.\n",
      "    Monkey gets bored with item. Worry level is divided by 3 to 401.\n",
      "    Current worry level is not divisible by 17.\n",
      "    Item with worry level 401 is thrown to monkey 1.\n",
      "  Monkey inspects an item with a worry level of 3136.\n",
      "    Worry level is old + 3 => 3139.\n",
      "    Monkey gets bored with item. Worry level is divided by 3 to 1046.\n",
      "    Current worry level is not divisible by 17.\n",
      "    Item with worry level 1046 is thrown to monkey 1.\n"
     ]
    }
   ],
   "source": [
    "source = load_input('sample.txt')\n",
    "monkeys = list(parser(source))\n",
    "monkeys = round(monkeys, tron=True)"
   ]
  },
  {
   "cell_type": "markdown",
   "id": "0b23faf6-293d-4016-977a-72977b351758",
   "metadata": {},
   "source": [
    "After round 1, the monkeys are holding items with these worry levels:\n",
    "\n",
    "```\n",
    "Monkey 0: 20, 23, 27, 26\n",
    "Monkey 1: 2080, 25, 167, 207, 401, 1046\n",
    "Monkey 2: \n",
    "Monkey 3: \n",
    "```"
   ]
  },
  {
   "cell_type": "markdown",
   "id": "b9dfa6df-ffb6-4332-a319-9f7868ac1822",
   "metadata": {},
   "source": [
    "Monkeys 2 and 3 aren't holding any items at the end of the round; they both inspected items during the round and threw them all before the round ended.\n",
    "\n",
    "This process continues for a few more rounds:\n",
    "\n",
    "After round 2, the monkeys are holding items with these worry levels:\n",
    "\n",
    "```\n",
    "Monkey 0: 695, 10, 71, 135, 350\n",
    "Monkey 1: 43, 49, 58, 55, 362\n",
    "Monkey 2: \n",
    "Monkey 3: \n",
    "```"
   ]
  },
  {
   "cell_type": "code",
   "execution_count": 9,
   "id": "46af8ca7-fea2-4770-b6c9-4ce17803dfa8",
   "metadata": {},
   "outputs": [],
   "source": [
    "monkeys = round(monkeys)  # Round 2\n",
    "\n",
    "assert monkeys[0].items == deque([695, 10, 71, 135, 350])\n",
    "assert monkeys[1].items == deque([43, 49, 58, 55, 362])\n",
    "assert monkeys[2].items == deque([])\n",
    "assert monkeys[3].items == deque([])"
   ]
  },
  {
   "cell_type": "markdown",
   "id": "5a20ad77-eec4-4bb3-b645-dd9248eb7322",
   "metadata": {},
   "source": [
    "After round 3, the monkeys are holding items with these worry levels:\n",
    "\n",
    "```\n",
    "Monkey 0: 16, 18, 21, 20, 122\n",
    "Monkey 1: 1468, 22, 150, 286, 739\n",
    "Monkey 2: \n",
    "Monkey 3: \n",
    "```"
   ]
  },
  {
   "cell_type": "code",
   "execution_count": 10,
   "id": "bf4c16a6-7297-4dda-97f1-d4f35a14d80e",
   "metadata": {},
   "outputs": [],
   "source": [
    "monkeys = round(monkeys)  # Round 3\n",
    "\n",
    "assert monkeys[0].items == deque([16, 18, 21, 20, 122])\n",
    "assert monkeys[1].items == deque([1468, 22, 150, 286, 739])\n",
    "assert monkeys[2].items == deque([])\n",
    "assert monkeys[3].items == deque([])"
   ]
  },
  {
   "cell_type": "markdown",
   "id": "0578625e-7bc1-4508-a412-d598f859ada0",
   "metadata": {},
   "source": [
    "After round 4, the monkeys are holding items with these worry levels:\n",
    "\n",
    "```\n",
    "Monkey 0: 491, 9, 52, 97, 248, 34\n",
    "Monkey 1: 39, 45, 43, 258\n",
    "Monkey 2: \n",
    "Monkey 3: \n",
    "```"
   ]
  },
  {
   "cell_type": "code",
   "execution_count": 11,
   "id": "908efc4a-f726-4a96-83ae-c13cd77ec116",
   "metadata": {},
   "outputs": [],
   "source": [
    "monkeys = round(monkeys)  # Round 4\n",
    "\n",
    "assert monkeys[0].items == deque([491, 9, 52, 97, 248, 34])\n",
    "assert monkeys[1].items == deque([39, 45, 43, 258])\n",
    "assert monkeys[2].items == deque([])\n",
    "assert monkeys[3].items == deque([])"
   ]
  },
  {
   "cell_type": "markdown",
   "id": "ad2db4e7-aa4c-4bde-828e-a83d8415ef91",
   "metadata": {},
   "source": [
    "After round 5, the monkeys are holding items with these worry levels:\n",
    "\n",
    "```\n",
    "Monkey 0: 15, 17, 16, 88, 1037\n",
    "Monkey 1: 20, 110, 205, 524, 72\n",
    "Monkey 2: \n",
    "Monkey 3: \n",
    "```"
   ]
  },
  {
   "cell_type": "code",
   "execution_count": 12,
   "id": "025ec8bd-a6cc-4bed-9367-7f90dcb91d40",
   "metadata": {},
   "outputs": [],
   "source": [
    "monkeys = round(monkeys)  # Round 5\n",
    "\n",
    "assert monkeys[0].items == deque([15, 17, 16, 88, 1037])\n",
    "assert monkeys[1].items == deque([20, 110, 205, 524, 72])\n",
    "assert monkeys[2].items == deque([])\n",
    "assert monkeys[3].items == deque([])"
   ]
  },
  {
   "cell_type": "markdown",
   "id": "7a678896-fc0f-464c-8284-6e541ee59b4c",
   "metadata": {},
   "source": [
    "After round 6, the monkeys are holding items with these worry levels:\n",
    "\n",
    "```\n",
    "Monkey 0: 8, 70, 176, 26, 34\n",
    "Monkey 1: 481, 32, 36, 186, 2190\n",
    "Monkey 2: \n",
    "Monkey 3: \n",
    "```"
   ]
  },
  {
   "cell_type": "code",
   "execution_count": 13,
   "id": "a0481d8f-bb30-406e-8d0d-fb6c4371456b",
   "metadata": {},
   "outputs": [],
   "source": [
    "monkeys = round(monkeys)  # Round 6\n",
    "\n",
    "assert monkeys[0].items == deque([8, 70, 176, 26, 34])\n",
    "assert monkeys[1].items == deque([481, 32, 36, 186, 2190])\n",
    "assert monkeys[2].items == deque([])\n",
    "assert monkeys[3].items == deque([])"
   ]
  },
  {
   "cell_type": "markdown",
   "id": "d9b66b69-ff54-4462-a4d9-0cb2e81819fd",
   "metadata": {},
   "source": [
    "After round 7, the monkeys are holding items with these worry levels:\n",
    "\n",
    "```\n",
    "Monkey 0: 162, 12, 14, 64, 732, 17\n",
    "Monkey 1: 148, 372, 55, 72\n",
    "Monkey 2: \n",
    "Monkey 3: \n",
    "```"
   ]
  },
  {
   "cell_type": "code",
   "execution_count": 14,
   "id": "a229a94d-3c57-4444-9fee-03399e37081b",
   "metadata": {},
   "outputs": [],
   "source": [
    "monkeys = round(monkeys)  # Round 7\n",
    "\n",
    "assert monkeys[0].items == deque([162, 12, 14, 64, 732, 17])\n",
    "assert monkeys[1].items == deque([148, 372, 55, 72])\n",
    "assert monkeys[2].items == deque([])\n",
    "assert monkeys[3].items == deque([])"
   ]
  },
  {
   "cell_type": "markdown",
   "id": "56611c87-bcff-479d-912d-a4818800fa8e",
   "metadata": {},
   "source": [
    "After round 8, the monkeys are holding items with these worry levels:\n",
    "\n",
    "```\n",
    "Monkey 0: 51, 126, 20, 26, 136\n",
    "Monkey 1: 343, 26, 30, 1546, 36\n",
    "Monkey 2: \n",
    "Monkey 3: \n",
    "```"
   ]
  },
  {
   "cell_type": "code",
   "execution_count": 15,
   "id": "ef81e61b-0ae4-422f-8197-28128e3ac806",
   "metadata": {},
   "outputs": [],
   "source": [
    "monkeys = round(monkeys)  # Round 8\n",
    "\n",
    "assert monkeys[0].items == deque([51, 126, 20, 26, 136])\n",
    "assert monkeys[1].items == deque([343, 26, 30, 1546, 36])\n",
    "assert monkeys[2].items == deque([])\n",
    "assert monkeys[3].items == deque([])"
   ]
  },
  {
   "cell_type": "markdown",
   "id": "58b8476f-08a3-417d-84f9-cc430e6edda3",
   "metadata": {},
   "source": [
    "After round 9, the monkeys are holding items with these worry levels:\n",
    "\n",
    "```\n",
    "Monkey 0: 116, 10, 12, 517, 14\n",
    "Monkey 1: 108, 267, 43, 55, 288\n",
    "Monkey 2: \n",
    "Monkey 3: \n",
    "```"
   ]
  },
  {
   "cell_type": "code",
   "execution_count": 16,
   "id": "a03873a3-76f2-4f25-8a8a-997f2185035e",
   "metadata": {},
   "outputs": [],
   "source": [
    "monkeys = round(monkeys)  # Round 9\n",
    "\n",
    "assert monkeys[0].items == deque([116, 10, 12, 517, 14])\n",
    "assert monkeys[1].items == deque([108, 267, 43, 55, 288])\n",
    "assert monkeys[2].items == deque([])\n",
    "assert monkeys[3].items == deque([])"
   ]
  },
  {
   "cell_type": "markdown",
   "id": "7c5a12a5-cef4-4c06-a78f-7117c3067e2c",
   "metadata": {},
   "source": [
    "After round 10, the monkeys are holding items with these worry levels:\n",
    "\n",
    "```\n",
    "Monkey 0: 91, 16, 20, 98\n",
    "Monkey 1: 481, 245, 22, 26, 1092, 30\n",
    "Monkey 2: \n",
    "Monkey 3: \n",
    "```"
   ]
  },
  {
   "cell_type": "code",
   "execution_count": 17,
   "id": "ce042a2a-2073-4767-8735-d28d43b6b068",
   "metadata": {},
   "outputs": [],
   "source": [
    "monkeys = round(monkeys)  # Round 10\n",
    "\n",
    "assert monkeys[0].items == deque([91, 16, 20, 98])\n",
    "assert monkeys[1].items == deque([481, 245, 22, 26, 1092, 30])\n",
    "assert monkeys[2].items == deque([])\n",
    "assert monkeys[3].items == deque([])"
   ]
  },
  {
   "cell_type": "markdown",
   "id": "fd1f6356-ce10-4cde-babb-ae0d9d01af88",
   "metadata": {},
   "source": [
    "...\n",
    "\n",
    "After round 15, the monkeys are holding items with these worry levels:\n",
    "```\n",
    "Monkey 0: 83, 44, 8, 184, 9, 20, 26, 102\n",
    "Monkey 1: 110, 36\n",
    "Monkey 2: \n",
    "Monkey 3: \n",
    "```"
   ]
  },
  {
   "cell_type": "code",
   "execution_count": 18,
   "id": "40ce1c32-8856-45e7-9ea4-2bcf1ff9ac5d",
   "metadata": {},
   "outputs": [],
   "source": [
    "monkeys = round(monkeys)  # Round 11\n",
    "monkeys = round(monkeys)  # Round 12\n",
    "monkeys = round(monkeys)  # Round 13\n",
    "monkeys = round(monkeys)  # Round 14\n",
    "monkeys = round(monkeys)  # Round 15\n",
    "\n",
    "assert monkeys[0].items == deque([83, 44, 8, 184, 9, 20, 26, 102])\n",
    "assert monkeys[1].items == deque([110, 36])\n",
    "assert monkeys[2].items == deque([])\n",
    "assert monkeys[3].items == deque([])"
   ]
  },
  {
   "cell_type": "markdown",
   "id": "a90fba0e-1f66-4dce-9714-2aa432f87911",
   "metadata": {},
   "source": [
    "...\n",
    "\n",
    "After round 20, the monkeys are holding items with these worry levels:\n",
    "\n",
    "```\n",
    "Monkey 0: 10, 12, 14, 26, 34\n",
    "Monkey 1: 245, 93, 53, 199, 115\n",
    "Monkey 2: \n",
    "Monkey 3: \n",
    "```"
   ]
  },
  {
   "cell_type": "code",
   "execution_count": 19,
   "id": "4c3ce1b9-395b-456c-a41e-5c1c1d3ba8da",
   "metadata": {},
   "outputs": [],
   "source": [
    "monkeys = round(monkeys)  # Round 16\n",
    "monkeys = round(monkeys)  # Round 17\n",
    "monkeys = round(monkeys)  # Round 18\n",
    "monkeys = round(monkeys)  # Round 19\n",
    "monkeys = round(monkeys)  # Round 20\n",
    "\n",
    "assert monkeys[0].items == deque([10, 12, 14, 26, 34])\n",
    "assert monkeys[1].items == deque([245, 93, 53, 199, 115])\n",
    "assert monkeys[2].items == deque([])\n",
    "assert monkeys[3].items == deque([])"
   ]
  },
  {
   "cell_type": "markdown",
   "id": "60f11cf3-d2d3-4bc2-8797-0f176467321a",
   "metadata": {},
   "source": [
    "Chasing all of the monkeys at once is impossible; you're going to have to focus on the two most active monkeys if you want any hope of getting your stuff back. Count the total number of times each monkey inspects items over 20 rounds:\n",
    "\n",
    "```\n",
    "Monkey 0 inspected items 101 times.\n",
    "Monkey 1 inspected items 95 times.\n",
    "Monkey 2 inspected items 7 times.\n",
    "Monkey 3 inspected items 105 times.\n",
    "```"
   ]
  },
  {
   "cell_type": "code",
   "execution_count": 20,
   "id": "616311f5-94d2-4dcd-884f-4e09f1374747",
   "metadata": {},
   "outputs": [],
   "source": [
    "assert monkeys[0].num_checks == 101\n",
    "assert monkeys[1].num_checks == 95\n",
    "assert monkeys[2].num_checks == 7\n",
    "assert monkeys[3].num_checks == 105"
   ]
  },
  {
   "cell_type": "markdown",
   "id": "5a56afc1-4f2b-40a2-b3ab-4687d5ac490e",
   "metadata": {},
   "source": [
    "In this example, the two most active monkeys inspected items 101 and 105 times. The level of monkey business in this situation can be found by multiplying these together: 10605."
   ]
  },
  {
   "cell_type": "markdown",
   "id": "3213d457-3a6e-449c-aaa3-a48f0c859c7f",
   "metadata": {},
   "source": [
    "Figure out which monkeys to chase by counting how many items they inspect over 20 rounds."
   ]
  },
  {
   "cell_type": "markdown",
   "id": "b8d4527f-b66d-4d2f-aad2-5664efd1cc7a",
   "metadata": {},
   "source": [
    "What is the level of monkey business after 20 rounds of stuff-slinging simian shenanigans?"
   ]
  },
  {
   "cell_type": "code",
   "execution_count": 21,
   "id": "d84a410b-2e50-40a8-993d-ec9b089141b8",
   "metadata": {},
   "outputs": [],
   "source": [
    "def solution_one(filename, rounds=20):\n",
    "    source = load_input(filename)\n",
    "    monkeys = list(parser(source))\n",
    "    for _ in range(rounds):\n",
    "        monkeys = round(monkeys)\n",
    "    first_monkey, second_monkey, *_ = sorted(monkeys, reverse=True, key=lambda m: m.num_checks)\n",
    "    return first_monkey.num_checks * second_monkey.num_checks\n",
    "\n",
    "\n",
    "assert solution_one('sample.txt') == 10605"
   ]
  },
  {
   "cell_type": "code",
   "execution_count": 22,
   "id": "a04971ef-0f37-4eab-9032-faba2beea382",
   "metadata": {},
   "outputs": [
    {
     "name": "stdout",
     "output_type": "stream",
     "text": [
      "Solution part one: 90294\n"
     ]
    }
   ],
   "source": [
    "sol = solution_one('input.txt')\n",
    "print(f\"Solution part one: {sol}\")"
   ]
  },
  {
   "cell_type": "markdown",
   "id": "679f5a8a-0cb3-47d5-9b67-f2f8e59248c8",
   "metadata": {},
   "source": [
    "## Part Two ---\n",
    "\n",
    "You're worried you might not ever get your items back. So worried, in fact, that your relief that a monkey's inspection didn't damage an item no longer causes your worry level to be divided by three.\n",
    "\n",
    "Unfortunately, that relief was all that was keeping your worry levels from reaching ridiculous levels. You'll need to find another way to keep your worry levels manageable.\n",
    "\n",
    "At this rate, you might be putting up with these monkeys for a very long time - possibly 10000 rounds!\n",
    "\n",
    "With these new rules, you can still figure out the monkey business after 10000 rounds. Using the same example above:\n",
    "\n",
    "```\n",
    "== After round 1 ==\n",
    "Monkey 0 inspected items 2 times.\n",
    "Monkey 1 inspected items 4 times.\n",
    "Monkey 2 inspected items 3 times.\n",
    "Monkey 3 inspected items 6 times.\n",
    "\n",
    "== After round 20 ==\n",
    "Monkey 0 inspected items 99 times.\n",
    "Monkey 1 inspected items 97 times.\n",
    "Monkey 2 inspected items 8 times.\n",
    "Monkey 3 inspected items 103 times.\n",
    "\n",
    "== After round 1000 ==\n",
    "Monkey 0 inspected items 5204 times.\n",
    "Monkey 1 inspected items 4792 times.\n",
    "Monkey 2 inspected items 199 times.\n",
    "Monkey 3 inspected items 5192 times.\n",
    "\n",
    "== After round 2000 ==\n",
    "Monkey 0 inspected items 10419 times.\n",
    "Monkey 1 inspected items 9577 times.\n",
    "Monkey 2 inspected items 392 times.\n",
    "Monkey 3 inspected items 10391 times.\n",
    "\n",
    "== After round 3000 ==\n",
    "Monkey 0 inspected items 15638 times.\n",
    "Monkey 1 inspected items 14358 times.\n",
    "Monkey 2 inspected items 587 times.\n",
    "Monkey 3 inspected items 15593 times.\n",
    "\n",
    "== After round 4000 ==\n",
    "Monkey 0 inspected items 20858 times.\n",
    "Monkey 1 inspected items 19138 times.\n",
    "Monkey 2 inspected items 780 times.\n",
    "Monkey 3 inspected items 20797 times.\n",
    "\n",
    "== After round 5000 ==\n",
    "Monkey 0 inspected items 26075 times.\n",
    "Monkey 1 inspected items 23921 times.\n",
    "Monkey 2 inspected items 974 times.\n",
    "Monkey 3 inspected items 26000 times.\n",
    "\n",
    "== After round 6000 ==\n",
    "Monkey 0 inspected items 31294 times.\n",
    "Monkey 1 inspected items 28702 times.\n",
    "Monkey 2 inspected items 1165 times.\n",
    "Monkey 3 inspected items 31204 times.\n",
    "\n",
    "== After round 7000 ==\n",
    "Monkey 0 inspected items 36508 times.\n",
    "Monkey 1 inspected items 33488 times.\n",
    "Monkey 2 inspected items 1360 times.\n",
    "Monkey 3 inspected items 36400 times.\n",
    "\n",
    "== After round 8000 ==\n",
    "Monkey 0 inspected items 41728 times.\n",
    "Monkey 1 inspected items 38268 times.\n",
    "Monkey 2 inspected items 1553 times.\n",
    "Monkey 3 inspected items 41606 times.\n",
    "\n",
    "== After round 9000 ==\n",
    "Monkey 0 inspected items 46945 times.\n",
    "Monkey 1 inspected items 43051 times.\n",
    "Monkey 2 inspected items 1746 times.\n",
    "Monkey 3 inspected items 46807 times.\n",
    "\n",
    "== After round 10000 ==\n",
    "Monkey 0 inspected items 52166 times.\n",
    "Monkey 1 inspected items 47830 times.\n",
    "Monkey 2 inspected items 1938 times.\n",
    "Monkey 3 inspected items 52013 times.\n",
    "```\n",
    "\n",
    "After 10000 rounds, the two most active monkeys inspected items 52166 and 52013 times. Multiplying these together, the level of monkey business in this situation is now 2713310158.\n",
    "\n",
    "Worry levels are no longer divided by three after each item is inspected; you'll need to find another way to keep your worry levels manageable. Starting again from the initial state in your puzzle input, what is the level of monkey business after 10000 rounds?"
   ]
  },
  {
   "cell_type": "markdown",
   "id": "c2c89224-deae-40f6-828f-fe287491fb76",
   "metadata": {},
   "source": [
    "Hint: _We can use the module of the level by the product of all\n",
    "possible division values, instead of the new level. Trhie prevents the value to grow\n",
    "above a maximun limit._"
   ]
  },
  {
   "cell_type": "code",
   "execution_count": 23,
   "id": "1f354d5c-2043-4471-a928-07036dd612d5",
   "metadata": {},
   "outputs": [],
   "source": [
    "def check2(monkey, tope=1, tron=False):\n",
    "    if tron:\n",
    "        print(f'Monkey {monkey.num}:')\n",
    "    if not monkey.items:\n",
    "        return\n",
    "    value = monkey.items.popleft()\n",
    "    while value:\n",
    "        monkey.num_checks += 1\n",
    "        if tron:\n",
    "            print(f\"  Monkey inspects an item with a worry level of {value}.\")\n",
    "        value = eval(monkey.operation, {'old': value})\n",
    "        value = value % tope \n",
    "        if monkey.make_test(value):\n",
    "            if tron:\n",
    "                print(f\"    Current worry level is divisible by {monkey.test}.\")\n",
    "            target = monkey.throw_if_true \n",
    "        else:\n",
    "            if tron:\n",
    "                print(f\"    Current worry level is not divisible by {monkey.test}.\")\n",
    "            target = monkey.throw_if_false \n",
    "        if tron:\n",
    "            print(f\"    Item with worry level {value} is thrown to monkey {target}.\")\n",
    "        yield(value, target)\n",
    "        value = monkey.items.popleft() if monkey.items else None\n"
   ]
  },
  {
   "cell_type": "code",
   "execution_count": 24,
   "id": "e260bea7-b2cb-4cfc-9ad7-862ec3016b89",
   "metadata": {},
   "outputs": [
    {
     "name": "stdout",
     "output_type": "stream",
     "text": [
      "-- After round 1 ==\n",
      "Monkey 0 [23] inspected items 2 times.\n",
      "Monkey 1 [19] inspected items 4 times.\n",
      "Monkey 2 [13] inspected items 3 times.\n",
      "Monkey 3 [17] inspected items 6 times.\n",
      "-- After round 20 ==\n",
      "Monkey 0 [23] inspected items 99 times.\n",
      "Monkey 1 [19] inspected items 97 times.\n",
      "Monkey 2 [13] inspected items 8 times.\n",
      "Monkey 3 [17] inspected items 103 times.\n",
      "-- After round 1000 ==\n",
      "Monkey 0 [23] inspected items 5204 times.\n",
      "Monkey 1 [19] inspected items 4792 times.\n",
      "Monkey 2 [13] inspected items 199 times.\n",
      "Monkey 3 [17] inspected items 5192 times.\n",
      "-- After round 2000 ==\n",
      "Monkey 0 [23] inspected items 10419 times.\n",
      "Monkey 1 [19] inspected items 9577 times.\n",
      "Monkey 2 [13] inspected items 392 times.\n",
      "Monkey 3 [17] inspected items 10391 times.\n",
      "-- After round 3000 ==\n",
      "Monkey 0 [23] inspected items 15638 times.\n",
      "Monkey 1 [19] inspected items 14358 times.\n",
      "Monkey 2 [13] inspected items 587 times.\n",
      "Monkey 3 [17] inspected items 15593 times.\n",
      "-- After round 4000 ==\n",
      "Monkey 0 [23] inspected items 20858 times.\n",
      "Monkey 1 [19] inspected items 19138 times.\n",
      "Monkey 2 [13] inspected items 780 times.\n",
      "Monkey 3 [17] inspected items 20797 times.\n",
      "-- After round 5000 ==\n",
      "Monkey 0 [23] inspected items 26075 times.\n",
      "Monkey 1 [19] inspected items 23921 times.\n",
      "Monkey 2 [13] inspected items 974 times.\n",
      "Monkey 3 [17] inspected items 26000 times.\n",
      "-- After round 6000 ==\n",
      "Monkey 0 [23] inspected items 31294 times.\n",
      "Monkey 1 [19] inspected items 28702 times.\n",
      "Monkey 2 [13] inspected items 1165 times.\n",
      "Monkey 3 [17] inspected items 31204 times.\n",
      "-- After round 7000 ==\n",
      "Monkey 0 [23] inspected items 36508 times.\n",
      "Monkey 1 [19] inspected items 33488 times.\n",
      "Monkey 2 [13] inspected items 1360 times.\n",
      "Monkey 3 [17] inspected items 36400 times.\n",
      "-- After round 8000 ==\n",
      "Monkey 0 [23] inspected items 41728 times.\n",
      "Monkey 1 [19] inspected items 38268 times.\n",
      "Monkey 2 [13] inspected items 1553 times.\n",
      "Monkey 3 [17] inspected items 41606 times.\n",
      "-- After round 10000 ==\n",
      "Monkey 0 [23] inspected items 52166 times.\n",
      "Monkey 1 [19] inspected items 47830 times.\n",
      "Monkey 2 [13] inspected items 1938 times.\n",
      "Monkey 3 [17] inspected items 52013 times.\n"
     ]
    }
   ],
   "source": [
    "from functools import reduce\n",
    "\n",
    "source = load_input('sample.txt')\n",
    "monkeys = list(parser(source)) \n",
    "tope = reduce(lambda a, b: a * b, [m.test for m in monkeys])\n",
    "for m in monkeys:\n",
    "    tope *= m.test\n",
    "for i in range(10000):\n",
    "    for monkey in monkeys:\n",
    "        for (item, to_monkey) in check2(monkey, tope=tope):\n",
    "            monkeys[to_monkey].items.append(item)        \n",
    "    if i in (0, 19, 999, 1999, 2999, 3999, 4999, 5999, 6999, 7999, 6999, 9999):\n",
    "        print(f\"-- After round {i+1} ==\")\n",
    "        for m in monkeys:\n",
    "            print(f\"Monkey {m.num} [{m.test}] inspected items {m.num_checks} times.\")\n",
    "\n",
    "    "
   ]
  },
  {
   "cell_type": "code",
   "execution_count": 25,
   "id": "b60d3040-92eb-4e2c-97f5-2e18445fcbcd",
   "metadata": {},
   "outputs": [],
   "source": [
    "from functools import reduce\n",
    "from tqdm import tqdm\n",
    "\n",
    "\n",
    "def solution_two(filename):\n",
    "    source = load_input(filename)\n",
    "    monkeys = list(parser(source)) \n",
    "    tope = reduce(lambda a, b: a*b, [m.test for m in monkeys])\n",
    "    for i in tqdm(range(10000), total=10000):\n",
    "        for monkey in monkeys:\n",
    "            for (item, to_monkey) in check2(monkey, tope=tope):\n",
    "                monkeys[to_monkey].items.append(item)        \n",
    "    first_monkey, second_monkey, *_ = sorted(monkeys, reverse=True, key=lambda m: m.num_checks)\n",
    "    return first_monkey.num_checks * second_monkey.num_checks"
   ]
  },
  {
   "cell_type": "code",
   "execution_count": 26,
   "id": "d1f75872-3099-484f-9ee1-4a75309edb9e",
   "metadata": {},
   "outputs": [
    {
     "name": "stderr",
     "output_type": "stream",
     "text": [
      "100%|███████████████████████████████████████████████████████████████████████████████████████| 10000/10000 [00:00<00:00, 10917.21it/s]\n"
     ]
    }
   ],
   "source": [
    "assert solution_two('sample.txt') == 2713310158\n"
   ]
  },
  {
   "cell_type": "code",
   "execution_count": 27,
   "id": "30f3fece-71c0-4127-88ba-66c6bbacdad0",
   "metadata": {},
   "outputs": [
    {
     "name": "stderr",
     "output_type": "stream",
     "text": [
      "100%|████████████████████████████████████████████████████████████████████████████████████████| 10000/10000 [00:04<00:00, 2029.64it/s]"
     ]
    },
    {
     "name": "stdout",
     "output_type": "stream",
     "text": [
      "Solution part two: 18170818354\n"
     ]
    },
    {
     "name": "stderr",
     "output_type": "stream",
     "text": [
      "\n"
     ]
    }
   ],
   "source": [
    "sol = solution_two('input.txt')\n",
    "print(f\"Solution part two: {sol}\")"
   ]
  }
 ],
 "metadata": {
  "kernelspec": {
   "display_name": "Python 3 (ipykernel)",
   "language": "python",
   "name": "python3"
  },
  "language_info": {
   "codemirror_mode": {
    "name": "ipython",
    "version": 3
   },
   "file_extension": ".py",
   "mimetype": "text/x-python",
   "name": "python",
   "nbconvert_exporter": "python",
   "pygments_lexer": "ipython3",
   "version": "3.10.6"
  }
 },
 "nbformat": 4,
 "nbformat_minor": 5
}
