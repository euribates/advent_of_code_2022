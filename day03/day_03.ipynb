{
 "cells": [
  {
   "cell_type": "markdown",
   "id": "ff1dfcc9-db8d-4fcc-9308-cd9474809d9b",
   "metadata": {},
   "source": [
    "## Day 3: Rucksack Reorganization"
   ]
  },
  {
   "cell_type": "markdown",
   "id": "6f1e93ae-2c91-4a00-85a2-3363a944f62a",
   "metadata": {},
   "source": [
    "One Elf has the important job of loading all of the rucksacks with supplies for the jungle journey. Unfortunately, that Elf didn't quite follow the packing instructions, and so a few items now need to be rearranged.\n",
    "\n",
    "Each rucksack has two large compartments. All items of a given type are meant to go into exactly one of the two compartments. The Elf that did the packing failed to follow this rule for exactly one item type per rucksack.\n",
    "\n",
    "The Elves have made a list of all of the items currently in each rucksack (your puzzle input), but they need your help finding the errors. Every item type is identified by a single lowercase or uppercase letter (that is, `a` and `A` refer to different types of items).\n",
    "\n",
    "The list of items for each rucksack is given as characters all on a single line. A given rucksack always has the same number of items in each of its two compartments, so the first half of the characters represent items in the first compartment, while the second half of the characters represent items in the second compartment.\n",
    "\n",
    "For example, suppose you have the following list of contents from six rucksacks:\n",
    "\n",
    "```\n",
    "vJrwpWtwJgWrhcsFMMfFFhFp\n",
    "jqHRNqRjqzjGDLGLrsFMfFZSrLrFZsSL\n",
    "PmmdzqPrVvPwwTWBwg\n",
    "wMqvLMZHhHMvwLHjbvcjnnSBnvTQFn\n",
    "ttgJtRGJQctTZtZT\n",
    "CrZsJsPPZsGzwwsLwLmpwMDw\n",
    "```\n",
    "\n",
    "- The first rucksack contains the items `vJrwpWtwJgWrhcsFMMfFFhFp`, which means its first compartment contains the items `vJrwpWtwJgWr`, while the second compartment contains the items `hcsFMMfFFhFp`. The only item type that appears in both compartments is lowercase `p`.\n",
    "\n",
    "- The second rucksack's compartments contain `jqHRNqRjqzjGDLGL` and `rsFMfFZSrLrFZsSL`. The only item type that appears in both compartments is uppercase `L`.\n",
    "\n",
    "- The third rucksack's compartments contain `PmmdzqPrV` and `vPwwTWBwg`; the only common item type is uppercase `P`.\n",
    "\n",
    "- The fourth rucksack's compartments only share item type `v`.\n",
    "- The fifth rucksack's compartments only share item type `t`.\n",
    "- The sixth rucksack's compartments only share item type `s`."
   ]
  },
  {
   "cell_type": "code",
   "execution_count": 1,
   "id": "938b76b1-9c72-4213-9cd9-2b8be58f5fe7",
   "metadata": {},
   "outputs": [],
   "source": [
    "def load_input(filename):\n",
    "    with open(filename, 'r', encoding='utf-8') as f_in:\n",
    "        for line in f_in:\n",
    "            line = line.strip()\n",
    "            half = len(line) // 2\n",
    "            yield line[:half], line[half:]"
   ]
  },
  {
   "cell_type": "code",
   "execution_count": 2,
   "id": "c0098d15-0661-458a-8c8e-cd8c3f940b66",
   "metadata": {},
   "outputs": [],
   "source": [
    "compartiments = list(load_input('sample.txt'))\n",
    "assert len(compartiments) == 6\n",
    "assert compartiments[0] == ('vJrwpWtwJgWr', 'hcsFMMfFFhFp')\n",
    "assert compartiments[1] == ('jqHRNqRjqzjGDLGL', 'rsFMfFZSrLrFZsSL')\n",
    "assert compartiments[2] == ('PmmdzqPrV', 'vPwwTWBwg')\n",
    "assert compartiments[3] == ('wMqvLMZHhHMvwLH', 'jbvcjnnSBnvTQFn')\n",
    "assert compartiments[4] == ('ttgJtRGJ', 'QctTZtZT')\n",
    "assert compartiments[5] == ('CrZsJsPPZsGz', 'wwsLwLmpwMDw')"
   ]
  },
  {
   "cell_type": "markdown",
   "id": "98b8dfbc-2531-43a6-b73f-6a8a7bd3a487",
   "metadata": {},
   "source": [
    "To help prioritize item rearrangement, every item type can be converted to a priority:\n",
    "\n",
    "- Lowercase item types `a` through `z` have priorities **1** through **26**.\n",
    "\n",
    "- Uppercase item types `A` through `Z` have priorities **27** through **52**.\n",
    "\n",
    "In the above example, the priority of the item type that appears in both compartments of each rucksack is **16** (p), **38** (L), **42** (P), **22** (v), **20** (t), and **19** (s); the sum of these is **157**."
   ]
  },
  {
   "cell_type": "code",
   "execution_count": 3,
   "id": "c6eab0e3-8b12-48c8-adaf-3b3fd276c0af",
   "metadata": {},
   "outputs": [],
   "source": [
    "from string import ascii_lowercase, ascii_uppercase\n",
    "\n",
    "def score(letter):\n",
    "    if letter in ascii_lowercase:\n",
    "        return ord(letter) - 96\n",
    "    elif letter in ascii_uppercase:\n",
    "        return ord(letter) - 38\n",
    "    raise ValueError(\"Ascii leter expected, got {letter}\")"
   ]
  },
  {
   "cell_type": "code",
   "execution_count": 4,
   "id": "1efc42c9-08a9-4228-bf2a-78bce0bd020e",
   "metadata": {},
   "outputs": [],
   "source": [
    "import pytest\n",
    "\n",
    "assert score('a') == 1\n",
    "assert score('z') == 26\n",
    "assert score('A') == 27\n",
    "assert score('Z') == 52\n",
    "with pytest.raises(ValueError):\n",
    "    score('!')"
   ]
  },
  {
   "cell_type": "markdown",
   "id": "3e50b041-8da2-42ea-9527-145c26da8fb2",
   "metadata": {},
   "source": [
    "Find the item type that appears in both compartments of each rucksack. What is the sum of the priorities of those item types?"
   ]
  },
  {
   "cell_type": "code",
   "execution_count": 5,
   "id": "c25a02fd-4043-4f34-a2fe-184da523f7f3",
   "metadata": {},
   "outputs": [],
   "source": [
    "def solution_part_one(filename):\n",
    "    result = 0\n",
    "    for c1, c2 in load_input(filename):\n",
    "        letter = set(c1).intersection(set(c2)).pop()\n",
    "        result += score(letter)\n",
    "    return result"
   ]
  },
  {
   "cell_type": "code",
   "execution_count": 6,
   "id": "fe94f0a8-f633-4c90-9765-fb25f0b07298",
   "metadata": {},
   "outputs": [],
   "source": [
    "assert solution_part_one('sample.txt') == 157"
   ]
  },
  {
   "cell_type": "code",
   "execution_count": 7,
   "id": "70479a79-3c16-40e8-96b3-f197ce1efeb6",
   "metadata": {},
   "outputs": [
    {
     "name": "stdout",
     "output_type": "stream",
     "text": [
      "Solution part one: 8139\n"
     ]
    }
   ],
   "source": [
    "sol = solution_part_one('input.txt')\n",
    "print(f\"Solution part one: {sol}\")"
   ]
  },
  {
   "cell_type": "markdown",
   "id": "c7082d02-102c-43f3-b041-aa50358302e0",
   "metadata": {},
   "source": [
    "## Part Two"
   ]
  },
  {
   "cell_type": "markdown",
   "id": "a50ff6d5-9302-441a-a8ef-087f3d21d706",
   "metadata": {},
   "source": [
    "As you finish identifying the misplaced items, the Elves come to you with another issue.\n",
    "\n",
    "For safety, the Elves are divided into groups of three. Every Elf carries a badge that identifies their group. For efficiency, within each group of three Elves, the badge is the only item type carried by all three Elves. That is, if a group's badge is item type B, then all three Elves will have item type B somewhere in their rucksack, and at most two of the Elves will be carrying any other item type.\n",
    "\n",
    "The problem is that someone forgot to put this year's updated authenticity sticker on the badges. All of the badges need to be pulled out of the rucksacks so the new authenticity stickers can be attached.\n",
    "\n",
    "Additionally, nobody wrote down which item type corresponds to each group's badges. The only way to tell which item type is the right one is by finding the one item type that is common between all three Elves in each group.\n",
    "\n",
    "Every set of three lines in your list corresponds to a single group, but each group can have a different badge item type. So, in the above example, the first group's rucksacks are the first three lines:\n",
    "\n",
    "```\n",
    "vJrwpWtwJgWrhcsFMMfFFhFp\n",
    "jqHRNqRjqzjGDLGLrsFMfFZSrLrFZsSL\n",
    "PmmdzqPrVvPwwTWBwg\n",
    "```\n",
    "\n",
    "And the second group's rucksacks are the next three lines:\n",
    "\n",
    "```\n",
    "wMqvLMZHhHMvwLHjbvcjnnSBnvTQFn\n",
    "ttgJtRGJQctTZtZT\n",
    "CrZsJsPPZsGzwwsLwLmpwMDw\n",
    "```"
   ]
  },
  {
   "cell_type": "code",
   "execution_count": 8,
   "id": "f7b48827-8422-42aa-a8c1-5365bcaf373d",
   "metadata": {},
   "outputs": [],
   "source": [
    "def load_input_two(filename):\n",
    "    with open(filename, 'r', encoding='utf-8') as f_in:\n",
    "        buff = []\n",
    "        for index, line in enumerate(f_in):\n",
    "            if index % 3 == 0 and buff:\n",
    "                yield (buff[0], buff[1], buff[2])\n",
    "                buff = []\n",
    "            buff.append(line.strip())\n",
    "        yield (buff[0], buff[1], buff[2])"
   ]
  },
  {
   "cell_type": "code",
   "execution_count": 9,
   "id": "e26bb345-b12b-400b-80da-a785e1788131",
   "metadata": {},
   "outputs": [],
   "source": [
    "groups = list(load_input_two('sample.txt'))\n",
    "assert len(groups) == 2\n",
    "assert groups[0] == (\n",
    "    'vJrwpWtwJgWrhcsFMMfFFhFp',\n",
    "    'jqHRNqRjqzjGDLGLrsFMfFZSrLrFZsSL',\n",
    "    'PmmdzqPrVvPwwTWBwg',\n",
    ")\n",
    "assert groups[1] == (\n",
    "    'wMqvLMZHhHMvwLHjbvcjnnSBnvTQFn',\n",
    "    'ttgJtRGJQctTZtZT',\n",
    "    'CrZsJsPPZsGzwwsLwLmpwMDw',\n",
    ")"
   ]
  },
  {
   "cell_type": "markdown",
   "id": "7b1aabf3-8ca4-4722-a1c6-c01b6ae2e501",
   "metadata": {},
   "source": [
    "In the first group, the only item type that appears in all three rucksacks is lowercase `r`; this must be their badges. In the second group, their badge item type must be `Z`.\n",
    "\n",
    "Priorities for these items must still be found to organize the sticker attachment efforts: here, they are **18** (`r`) for the first group and **52** (`Z`) for the second group. The sum of these is **70**."
   ]
  },
  {
   "cell_type": "code",
   "execution_count": 10,
   "id": "7e9b450a-12de-479b-807c-50e45428bcad",
   "metadata": {},
   "outputs": [],
   "source": [
    "def find_badge(b1, b2, b3):\n",
    "    return set(b1).intersection(set(b2)).intersection(set(b3)).pop()"
   ]
  },
  {
   "cell_type": "code",
   "execution_count": 11,
   "id": "d494c0d6-1b05-4767-8adb-10985f0717e5",
   "metadata": {},
   "outputs": [],
   "source": [
    "groups = list(load_input_two('sample.txt'))\n",
    "assert find_badge(*groups[0]) == 'r'\n",
    "assert find_badge(*groups[1]) == 'Z'"
   ]
  },
  {
   "cell_type": "markdown",
   "id": "72a6f22e-6317-41bb-89d7-7948103ee02f",
   "metadata": {},
   "source": [
    "Find the item type that corresponds to the badges of each three-Elf group. What is the sum of the priorities of those item types?"
   ]
  },
  {
   "cell_type": "code",
   "execution_count": 12,
   "id": "079fa1af-df2e-4f34-bac4-be64eec0fed5",
   "metadata": {},
   "outputs": [],
   "source": [
    "def solution_part_two(filename):\n",
    "    result = 0\n",
    "    for backpacks in load_input_two(filename):\n",
    "        result += score(find_badge(*backpacks))\n",
    "    return result"
   ]
  },
  {
   "cell_type": "code",
   "execution_count": 13,
   "id": "5f77b645-1fa3-4916-b03a-8ce0360ddc11",
   "metadata": {},
   "outputs": [],
   "source": [
    "assert solution_part_two('sample.txt') == 70"
   ]
  },
  {
   "cell_type": "code",
   "execution_count": 14,
   "id": "fac9d20d-aee0-4def-93af-f0dfb04d4afe",
   "metadata": {},
   "outputs": [
    {
     "name": "stdout",
     "output_type": "stream",
     "text": [
      "Solution part two: 2668\n"
     ]
    }
   ],
   "source": [
    "sol = solution_part_two('input.txt')\n",
    "print(f\"Solution part two: {sol}\")"
   ]
  }
 ],
 "metadata": {
  "kernelspec": {
   "display_name": "Python 3 (ipykernel)",
   "language": "python",
   "name": "python3"
  },
  "language_info": {
   "codemirror_mode": {
    "name": "ipython",
    "version": 3
   },
   "file_extension": ".py",
   "mimetype": "text/x-python",
   "name": "python",
   "nbconvert_exporter": "python",
   "pygments_lexer": "ipython3",
   "version": "3.10.6"
  }
 },
 "nbformat": 4,
 "nbformat_minor": 5
}
