{
 "cells": [
  {
   "cell_type": "markdown",
   "id": "ae04a332-ae03-42b3-9bda-6bdb5e29a976",
   "metadata": {
    "tags": []
   },
   "source": [
    "## Day 8: Treetop Tree House\n",
    "\n",
    "The expedition comes across a peculiar patch of tall trees all planted carefully in a grid. The Elves explain that a previous expedition planted these trees as a reforestation effort. Now, they're curious if this would be a good location for a tree house.\n",
    "\n",
    "First, determine whether there is enough tree cover here to keep a tree house hidden. To do this, you need to count the number of trees that are visible from outside the grid when looking directly along a row or column.\n",
    "\n",
    "The Elves have already launched a quadcopter to generate a map with the height of each tree (your puzzle input). For example:\n",
    "\n",
    "```\n",
    "30373\n",
    "25512\n",
    "65332\n",
    "33549\n",
    "35390\n",
    "```"
   ]
  },
  {
   "cell_type": "code",
   "execution_count": 1,
   "id": "3587136c-0b3f-4006-bb96-152876eeb030",
   "metadata": {},
   "outputs": [],
   "source": [
    "import pytest\n",
    "from icecream import ic"
   ]
  },
  {
   "cell_type": "code",
   "execution_count": 2,
   "id": "dc9dd3f5-bcb5-46fd-8d38-73096260f7af",
   "metadata": {},
   "outputs": [],
   "source": [
    "def load_input(filename):\n",
    "    with open(filename, 'r') as f_input:\n",
    "        tree_map = [line.strip() for line in f_input.readlines()]\n",
    "    return (tree_map, len(tree_map[0]), len(tree_map))"
   ]
  },
  {
   "cell_type": "code",
   "execution_count": 3,
   "id": "4d39094c-680b-417f-8fa1-d082d6fca26e",
   "metadata": {},
   "outputs": [],
   "source": [
    "tree_map, width, height = load_input('sample.txt')\n",
    "assert width == 5\n",
    "assert height == 5\n",
    "assert tree_map[0][0] == '3'\n",
    "assert tree_map[4][4] == '0'\n",
    "assert tree_map[3][2] == '5'  # Access to map using m[y][x]"
   ]
  },
  {
   "cell_type": "markdown",
   "id": "2833553c-8aae-489b-a9e7-545b08a8a5f1",
   "metadata": {},
   "source": [
    "Each tree is represented as a single digit whose value is its height, where 0 is the shortest and 9 is the tallest.\n",
    "\n",
    "A tree is visible if all of the other trees between it and an edge of the grid are shorter than it. Only consider trees in the same row or column; that is, only look up, down, left, or right from any given tree.\n",
    "\n",
    "All of the trees around the edge of the grid are visible - since they are already on the edge, there are no trees to block the view. In this example, that only leaves the interior nine trees to consider:"
   ]
  },
  {
   "cell_type": "code",
   "execution_count": 4,
   "id": "2af1d49d-9ea0-48f0-a972-a51b4ecdea1e",
   "metadata": {},
   "outputs": [],
   "source": [
    "def is_visible(m, width, height, x, y):\n",
    "    assert 0 <= x < width\n",
    "    assert 0 <= y < height\n",
    "    high = m[y][x]\n",
    "    if all(m[y][left] < high for left in range(0, x)):\n",
    "        return True\n",
    "    if all(m[y][right] < high for right in range(x+1, width)):\n",
    "        return True\n",
    "    if all(m[top][x] < high for top in range(0, y)):\n",
    "        return True\n",
    "    if all(m[bottom][x] < high for bottom in range(y+1, height)):\n",
    "        return True\n",
    "    return False"
   ]
  },
  {
   "cell_type": "markdown",
   "id": "635d2aa7-f569-4a67-b787-7d81c5c54fa4",
   "metadata": {},
   "source": [
    "- The top-left 5 is visible from the left and top. (It isn't visible from the right or bottom since other trees of height 5 are in the way.)\n",
    "\n",
    "- The top-middle 5 is visible from the top and right.\n",
    "\n",
    "- The top-right 1 is not visible from any direction; for it to be visible, there would need to only be trees of height 0 between it and an edge.\n",
    "\n",
    "- The left-middle 5 is visible, but only from the right.\n",
    "\n",
    "- The center 3 is not visible from any direction; for it to be visible, there would need to be only trees of at most height 2 between it and an edge.\n",
    "\n",
    "- The right-middle 3 is visible from the right.\n",
    "\n",
    "- In the bottom row, the middle 5 is visible, but the 3 and 4 are not."
   ]
  },
  {
   "cell_type": "code",
   "execution_count": 5,
   "id": "39658843-5930-49f6-bb46-8187532f03ee",
   "metadata": {},
   "outputs": [],
   "source": [
    "tree_map, width, height = load_input('sample.txt')\n",
    "\n",
    "assert is_visible(tree_map, width, height, 1, 1) is True\n",
    "assert is_visible(tree_map, width, height, 2, 1) is True\n",
    "assert is_visible(tree_map, width, height, 3, 1) is False\n",
    "\n",
    "assert is_visible(tree_map, width, height, 1, 2) is True\n",
    "assert is_visible(tree_map, width, height, 2, 2) is False\n",
    "assert is_visible(tree_map, width, height, 3, 2) is True\n",
    "\n",
    "assert is_visible(tree_map, width, height, 1, 3) is False\n",
    "assert is_visible(tree_map, width, height, 2, 3) is True\n",
    "assert is_visible(tree_map, width, height, 3, 3) is False"
   ]
  },
  {
   "cell_type": "markdown",
   "id": "afd7b2f9-93e1-4755-aba1-98369ec00e04",
   "metadata": {},
   "source": [
    "With 16 trees visible on the edge and another 5 visible in the interior, a total of 21 trees are visible in this arrangement."
   ]
  },
  {
   "cell_type": "code",
   "execution_count": 6,
   "id": "4a6a4e1b-52e4-461b-b76b-6509b67c3338",
   "metadata": {},
   "outputs": [],
   "source": [
    "def solution_one(filename):\n",
    "    tree_map, width, height = load_input(filename)\n",
    "    borders = (width + height) * 2 - 4\n",
    "    inners = sum(\n",
    "        is_visible(tree_map, width, height, x, y)\n",
    "        for x in range(1, width-1)\n",
    "        for y in range(1, height-1)\n",
    "    )\n",
    "    return borders + inners\n",
    "    "
   ]
  },
  {
   "cell_type": "code",
   "execution_count": 7,
   "id": "5c4b2923-9770-4030-ad8d-02fe3cee7709",
   "metadata": {},
   "outputs": [],
   "source": [
    "assert solution_one('sample.txt') == 21"
   ]
  },
  {
   "cell_type": "markdown",
   "id": "dd1d0248-4779-4fb2-811a-83cad8cd3ca8",
   "metadata": {},
   "source": [
    "**Consider your map; how many trees are visible from outside the grid?**"
   ]
  },
  {
   "cell_type": "code",
   "execution_count": 8,
   "id": "954bbd78-1317-4200-914f-028f448fcce4",
   "metadata": {},
   "outputs": [
    {
     "name": "stdout",
     "output_type": "stream",
     "text": [
      "Solution part one: 1827\n"
     ]
    }
   ],
   "source": [
    "sol = solution_one('input.txt')\n",
    "print(f\"Solution part one: {sol}\")"
   ]
  },
  {
   "cell_type": "markdown",
   "id": "3a36392a-2d04-4b8e-a3f5-20848405df9d",
   "metadata": {},
   "source": [
    "## Part Two\n",
    "\n",
    "Content with the amount of tree cover available, the Elves just need to know the best spot to build their tree house: they would like to be able to see a lot of trees.\n",
    "\n",
    "To measure the viewing distance from a given tree, look up, down, left, and right from that tree; stop if you reach an edge or at the first tree that is the same height or taller than the tree under consideration. (If a tree is right on the edge, at least one of its viewing distances will be zero.)\n",
    "\n",
    "The Elves don't care about distant trees taller than those found by the rules above; the proposed tree house has large eaves to keep it dry, so they wouldn't be able to see higher than the tree house anyway.\n",
    "\n",
    "In the example above, consider the middle 5 in the second row:\n",
    "\n",
    "```\n",
    "30373\n",
    "25❺12\n",
    "65332\n",
    "33549\n",
    "35390\n",
    "```\n",
    "\n",
    "- Looking up, its view is not blocked; it can see **1** tree (of height 3).\n",
    "\n",
    "- Looking left, its view is blocked immediately; it can see only **1** tree (of height 5, right next to it).\n",
    "\n",
    "- Looking right, its view is not blocked; it can see **2** trees.\n",
    "\n",
    "- Looking down, its view is blocked eventually; it can see **2** trees (one of height 3, then the tree of height 5 that blocks its view)."
   ]
  },
  {
   "cell_type": "code",
   "execution_count": 9,
   "id": "1e9359d0-be9b-405a-a7cf-a74584db774e",
   "metadata": {
    "tags": []
   },
   "outputs": [],
   "source": [
    "def line_of_sight(tree_high, tree_line):\n",
    "    result = 0\n",
    "    for high in tree_line:\n",
    "        result += 1\n",
    "        if high >= tree_high:\n",
    "            break\n",
    "    return result\n",
    "\n",
    "assert line_of_sight('3', []) == 0\n",
    "assert line_of_sight('3', ['2']) == 1\n",
    "assert line_of_sight('3', ['3']) == 1\n",
    "assert line_of_sight('3', ['4']) == 1\n",
    "assert line_of_sight('0', ['2', '1', '2', '3']) == 1\n",
    "assert line_of_sight('1', ['2', '1', '2', '3']) == 1\n",
    "assert line_of_sight('2', ['2', '1', '2', '3']) == 1\n",
    "assert line_of_sight('3', ['2', '1', '2', '3']) == 4\n",
    "assert line_of_sight('3', '') == 0\n",
    "assert line_of_sight('3', '2') == 1\n",
    "assert line_of_sight('3', '3') == 1\n",
    "assert line_of_sight('3', '4') == 1\n",
    "assert line_of_sight('0', '2123') == 1\n",
    "assert line_of_sight('1', '2123') == 1\n",
    "assert line_of_sight('2', '2123') == 1\n",
    "assert line_of_sight('3', '2123') == 4"
   ]
  },
  {
   "cell_type": "code",
   "execution_count": 10,
   "id": "1775dde7-9c36-474d-b327-02d6ab38f8fb",
   "metadata": {
    "tags": []
   },
   "outputs": [],
   "source": [
    "def score_left(tree_map, x, y):\n",
    "    if x <= 0:\n",
    "        return 0\n",
    "    high = tree_map[y][x]\n",
    "    tree_line = tree_map[y][x-1::-1]\n",
    "    return line_of_sight(high, tree_line)\n",
    "\n",
    "\n",
    "def score_right(tree_map, x, y):\n",
    "    high = tree_map[y][x]\n",
    "    tree_line = tree_map[y][x+1:]\n",
    "    return line_of_sight(high, tree_line)\n",
    "\n",
    "\n",
    "def score_top(tree_map, x, y):\n",
    "    if y <= 0:\n",
    "        return 0\n",
    "    high = tree_map[y][x]\n",
    "    tree_line = [line[x] for line in tree_map[y-1::-1]]\n",
    "    return line_of_sight(high, tree_line)\n",
    "\n",
    "\n",
    "def score_bottom(tree_map, x, y):\n",
    "    high = tree_map[y][x]\n",
    "    tree_line = [line[x] for line in tree_map[y+1:]]\n",
    "    return line_of_sight(high, tree_line)\n",
    "\n",
    "\n",
    "tree_map, *_ = load_input('sample.txt')\n",
    "assert score_left(tree_map, 2, 1) == 1\n",
    "assert score_right(tree_map, 2, 1) == 2\n",
    "assert score_top(tree_map, 2, 1) == 1\n",
    "assert score_bottom(tree_map, 2, 1) == 2"
   ]
  },
  {
   "cell_type": "code",
   "execution_count": 11,
   "id": "a4a88624-5738-461d-99de-a558793af082",
   "metadata": {},
   "outputs": [
    {
     "name": "stderr",
     "output_type": "stream",
     "text": [
      "ic| score_left(tree_map, x, y): 0\n",
      "ic| score_right(tree_map, x, y): 2\n",
      "ic| score_top(tree_map, x, y): 0\n",
      "ic| score_bottom(tree_map, x, y): 2\n"
     ]
    }
   ],
   "source": [
    "tree_map, *_ = load_input('sample.txt')\n",
    "x = 0\n",
    "y = 0\n",
    "assert ic(score_left(tree_map, x, y)) == 0\n",
    "assert ic(score_right(tree_map, x, y)) == 2\n",
    "assert ic(score_top(tree_map, x, y)) == 0\n",
    "assert ic(score_bottom(tree_map, x, y)) == 2"
   ]
  },
  {
   "cell_type": "code",
   "execution_count": 12,
   "id": "f5b1eacf-0e1a-48a7-b2ad-f94870ae1e15",
   "metadata": {},
   "outputs": [
    {
     "name": "stderr",
     "output_type": "stream",
     "text": [
      "ic| score_left(tree_map, x, y): 0\n",
      "ic| score_right(tree_map, x, y): 4\n",
      "ic| score_top(tree_map, x, y): 2\n",
      "ic| score_bottom(tree_map, x, y): 2\n"
     ]
    }
   ],
   "source": [
    "tree_map, *_ = load_input('sample.txt')\n",
    "x = 0\n",
    "y = 2\n",
    "assert ic(score_left(tree_map, x, y)) == 0\n",
    "assert ic(score_right(tree_map, x, y)) == 4\n",
    "assert ic(score_top(tree_map, x, y)) == 2\n",
    "assert ic(score_bottom(tree_map, x, y)) == 2"
   ]
  },
  {
   "cell_type": "markdown",
   "id": "4f0fb9b2-bcb2-48c8-b2a0-c926d5875f2a",
   "metadata": {},
   "source": [
    "A tree's **scenic score** is found by multiplying together its viewing distance in each of the four directions. "
   ]
  },
  {
   "cell_type": "code",
   "execution_count": 13,
   "id": "3bf5e672-3b95-4751-8125-c8d0be7d2156",
   "metadata": {},
   "outputs": [],
   "source": [
    "def scenic_score(tree_map, x, y):\n",
    "    return (\n",
    "        max(1, score_right(tree_map, x, y))\n",
    "        * max(1, score_bottom(tree_map, x, y))\n",
    "        * max(1, score_left(tree_map, x, y))\n",
    "        * max(1, score_top(tree_map, x, y))\n",
    "    )"
   ]
  },
  {
   "cell_type": "markdown",
   "id": "abc49318-d89a-4cba-a3d7-78cc400bd708",
   "metadata": {},
   "source": [
    "For this tree, this is **4** (found by multiplying \n",
    "\n",
    "$$ 1 \\times 1 \\times 2 \\times 2 $$"
   ]
  },
  {
   "cell_type": "markdown",
   "id": "fd2ef497-98dc-467f-a63a-5821951e58a1",
   "metadata": {},
   "source": [
    "However, you can do even better: consider the tree of height 5 in the middle of the fourth row:\n",
    "\n",
    "```\n",
    "30373\n",
    "25512\n",
    "65332\n",
    "33❺49\n",
    "35390\n",
    "```\n",
    "\n",
    "- Looking up, its view is blocked at 2 trees (by another tree with a height of 5).\n",
    "- Looking left, its view is not blocked; it can see 2 trees.\n",
    "- Looking down, its view is also not blocked; it can see 1 tree.\n",
    "- Looking right, its view is blocked at 2 trees (by a massive tree of height 9)."
   ]
  },
  {
   "cell_type": "code",
   "execution_count": 14,
   "id": "303fd8bc-c31a-49ad-a850-4538d18e1cac",
   "metadata": {},
   "outputs": [],
   "source": [
    "tree_map, *_ = load_input('sample.txt')\n",
    "\n",
    "assert score_left(tree_map, 2, 3) == 2\n",
    "assert score_right(tree_map, 2, 3) == 2\n",
    "assert score_top(tree_map, 2, 3) == 2\n",
    "assert score_bottom(tree_map, 2, 3) == 1"
   ]
  },
  {
   "cell_type": "markdown",
   "id": "f643f92c-f0a2-440c-8b7a-e0baf30295c0",
   "metadata": {},
   "source": [
    "This tree's scenic score is **8**: \n",
    "\n",
    "$$ 2 \\times 2 \\times 1 \\times 2 $$"
   ]
  },
  {
   "cell_type": "code",
   "execution_count": 15,
   "id": "aec1b26d-4287-46b2-b617-93924af80035",
   "metadata": {},
   "outputs": [],
   "source": [
    "tree_map, *_ = load_input('sample.txt')\n",
    "\n",
    "assert scenic_score(tree_map, 2, 3) == 8"
   ]
  },
  {
   "cell_type": "markdown",
   "id": "33e4e845-3e3b-4b56-b598-f738b193a4d8",
   "metadata": {},
   "source": [
    "this is the ideal spot for the tree house."
   ]
  },
  {
   "cell_type": "code",
   "execution_count": 16,
   "id": "c7db2230-f80b-4870-9140-52c2c631609d",
   "metadata": {},
   "outputs": [
    {
     "name": "stderr",
     "output_type": "stream",
     "text": [
      "ic| solution_two('sample.txt'): (8, 2, 3)\n"
     ]
    }
   ],
   "source": [
    "def solution_two(filename):\n",
    "    tree_map, width, height = load_input(filename)\n",
    "    solutions = [\n",
    "        (scenic_score(tree_map, x, y), x, y)\n",
    "        for y in range(1, height - 1)\n",
    "        for x in range(1, width - 1)\n",
    "    ]\n",
    "    solutions = sorted(solutions, reverse=True)\n",
    "    return solutions[0]\n",
    "\n",
    "solution_two('sample.txt')\n",
    "assert ic(solution_two('sample.txt')) == (8, 2, 3)"
   ]
  },
  {
   "cell_type": "markdown",
   "id": "1bba0a8e-60bd-4626-bb6a-1bcbf8cace2a",
   "metadata": {},
   "source": [
    "**Consider each tree on your map. What is the highest scenic score possible for any tree?**"
   ]
  },
  {
   "cell_type": "code",
   "execution_count": 17,
   "id": "9df18d93-9414-4cb2-b35d-9c295853db79",
   "metadata": {},
   "outputs": [
    {
     "name": "stdout",
     "output_type": "stream",
     "text": [
      "Solution part two: 335580\n"
     ]
    }
   ],
   "source": [
    "sol, _, _ = solution_two('input.txt')\n",
    "print(f\"Solution part two: {sol}\")"
   ]
  }
 ],
 "metadata": {
  "kernelspec": {
   "display_name": "Python 3 (ipykernel)",
   "language": "python",
   "name": "python3"
  },
  "language_info": {
   "codemirror_mode": {
    "name": "ipython",
    "version": 3
   },
   "file_extension": ".py",
   "mimetype": "text/x-python",
   "name": "python",
   "nbconvert_exporter": "python",
   "pygments_lexer": "ipython3",
   "version": "3.10.6"
  }
 },
 "nbformat": 4,
 "nbformat_minor": 5
}
