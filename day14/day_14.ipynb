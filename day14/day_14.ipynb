{
 "cells": [
  {
   "cell_type": "markdown",
   "id": "cdce9de2-ac68-4209-bccb-8c85e12c10f6",
   "metadata": {},
   "source": [
    "## Day 14: Regolith Reservoir\n",
    "\n",
    "The distress signal leads you to a giant waterfall! Actually, hang on - the signal seems like it's coming from the waterfall itself, and that doesn't make any sense. However, you do notice a little path that leads behind the waterfall.\n",
    "\n",
    "Correction: the distress signal leads you behind a giant waterfall! There seems to be a large cave system here, and the signal definitely leads further inside.\n",
    "\n",
    "As you begin to make your way deeper underground, you feel the ground rumble for a moment. Sand begins pouring into the cave! If you don't quickly figure out where the sand is going, you could quickly become trapped!\n",
    "\n",
    "Fortunately, your familiarity with analyzing the path of falling material will come in handy here. You scan a two-dimensional vertical slice of the cave above you (your puzzle input) and discover that it is mostly air with structures made of rock.\n",
    "\n",
    "Your scan traces the path of each solid rock structure and reports the x,y coordinates that form the shape of the path, where x represents distance to the right and y represents distance down. Each path appears as a single line of text in your scan. After the first point of each path, each point indicates the end of a straight horizontal or vertical line to be drawn from the previous point. For example:\n",
    "\n",
    "```\n",
    "498,4 -> 498,6 -> 496,6\n",
    "503,4 -> 502,4 -> 502,9 -> 494,9\n",
    "```"
   ]
  },
  {
   "cell_type": "code",
   "execution_count": 1,
   "id": "440b0627-6c0e-4a89-a225-ccf14c657d1c",
   "metadata": {},
   "outputs": [],
   "source": [
    "import pytest\n",
    "from icecream import ic\n",
    "from vectors import Vector"
   ]
  },
  {
   "cell_type": "code",
   "execution_count": 2,
   "id": "ff9c21b5-b6ed-4619-a501-aaeca7266429",
   "metadata": {},
   "outputs": [
    {
     "name": "stdout",
     "output_type": "stream",
     "text": [
      "498,4 -> 498,6 -> 496,6\n",
      "503,4 -> 502,4 -> 502,9 -> 494,9\n"
     ]
    }
   ],
   "source": [
    "def load_input(filename):\n",
    "    with open(filename, 'r') as f_input:\n",
    "        for line in f_input:\n",
    "            yield [\n",
    "                Vector(*[int(num) for num in point.split(',')])\n",
    "                for point in line.split(' -> ')\n",
    "            ]\n",
    "            \n",
    "for points in load_input('sample.txt'):\n",
    "    print(' -> '.join(\n",
    "        f'{point.x},{point.y}'\n",
    "        for point in points\n",
    "    ))"
   ]
  },
  {
   "cell_type": "code",
   "execution_count": 3,
   "id": "fcba7480-27f5-41fc-b3d0-64d4fb45d77f",
   "metadata": {},
   "outputs": [
    {
     "name": "stderr",
     "output_type": "stream",
     "text": [
      "ic| fill(3, 7): [3, 4, 5, 6]\n",
      "ic| fill(7, 3): [7, 6, 5, 4]\n"
     ]
    }
   ],
   "source": [
    "import itertools\n",
    "import collections\n",
    "\n",
    "def fill(a, b):\n",
    "    if a < b:\n",
    "        return list(range(a, b))\n",
    "    elif a > b:\n",
    "        return list(range(a, b, -1))\n",
    "    return [a]\n",
    "\n",
    "assert ic(fill(3, 7)) == [3, 4, 5, 6]\n",
    "assert ic(fill(7, 3)) == [7, 6, 5, 4]"
   ]
  },
  {
   "cell_type": "code",
   "execution_count": 4,
   "id": "02a6c188-95b4-4381-98aa-959b89bfe3c5",
   "metadata": {},
   "outputs": [
    {
     "data": {
      "text/plain": [
       "(defaultdict(<function __main__.load_map.<locals>.<lambda>()>,\n",
       "             {(500, 0): '+',\n",
       "              (498, 4): '#',\n",
       "              (498, 5): '#',\n",
       "              (498, 6): '#',\n",
       "              (497, 6): '#',\n",
       "              (496, 6): '#',\n",
       "              (503, 4): '#',\n",
       "              (502, 4): '#',\n",
       "              (502, 5): '#',\n",
       "              (502, 6): '#',\n",
       "              (502, 7): '#',\n",
       "              (502, 8): '#',\n",
       "              (502, 9): '#',\n",
       "              (501, 9): '#',\n",
       "              (500, 9): '#',\n",
       "              (499, 9): '#',\n",
       "              (498, 9): '#',\n",
       "              (497, 9): '#',\n",
       "              (496, 9): '#',\n",
       "              (495, 9): '#',\n",
       "              (494, 9): '#'}),\n",
       " Vector(x=494, y=0),\n",
       " Vector(x=503, y=9))"
      ]
     },
     "execution_count": 4,
     "metadata": {},
     "output_type": "execute_result"
    }
   ],
   "source": [
    "def load_map(iterable):\n",
    "    all_x = set([500])\n",
    "    all_y = set([0])\n",
    "    bit_map = collections.defaultdict(lambda: '.')\n",
    "    bit_map[500, 0] = '+'\n",
    "    for points in iter(iterable):\n",
    "        for (start, end) in itertools.pairwise(points):\n",
    "            all_x.add(start.x)\n",
    "            all_x.add(end.x)\n",
    "            all_y.add(start.y)\n",
    "            all_y.add(end.y)\n",
    "            if start.y == end.y:  # Horizontal line\n",
    "                for _x in fill(start.x, end.x):\n",
    "                    bit_map[_x, start.y] = '#'\n",
    "            elif start.x == end.x:  # Vertical line\n",
    "                for _y in fill(start.y, end.y):\n",
    "                    bit_map[start.x, _y] = '#'\n",
    "        bit_map[end.x, end.y] = '#'\n",
    "        all_y.add(end.y)\n",
    "    min_point = Vector(min(all_x), min(all_y))\n",
    "    max_point = Vector(max(all_x), max(all_y))\n",
    "    return bit_map, min_point, max_point\n",
    "\n",
    "\n",
    "bit_map, min_point, max_point = load_map(load_input('sample.txt'))\n",
    "\n",
    "bit_map, min_point, max_point"
   ]
  },
  {
   "cell_type": "markdown",
   "id": "6f21265a-9f6e-417a-b8b8-4da1029d0029",
   "metadata": {},
   "source": [
    "\n",
    "This scan means that there are two paths of rock; the first path consists of two straight lines, and the second path consists of three straight lines. (Specifically, the first path consists of a line of rock from 498,4 through 498,6 and another line of rock from 498,6 through 496,6.)\n",
    "\n",
    "The sand is pouring into the cave from point $500,0$.\n",
    "\n",
    "Drawing rock as #, air as ., and the source of the sand as +, this becomes:\n",
    "\n",
    "```\n",
    "  4     5  5\n",
    "  9     0  0\n",
    "  4     0  3\n",
    "0 ......+...\n",
    "1 ..........\n",
    "2 ..........\n",
    "3 ..........\n",
    "4 ....#...##\n",
    "5 ....#...#.\n",
    "6 ..###...#.\n",
    "7 ........#.\n",
    "8 ........#.\n",
    "9 #########.\n",
    "```"
   ]
  },
  {
   "cell_type": "code",
   "execution_count": 5,
   "id": "0ebd2f39-0496-4396-ba6c-6069fd9a4c6b",
   "metadata": {},
   "outputs": [
    {
     "name": "stdout",
     "output_type": "stream",
     "text": [
      "......+...\n",
      "..........\n",
      "..........\n",
      "..........\n",
      "....#...##\n",
      "....#...#.\n",
      "..###...#.\n",
      "........#.\n",
      "........#.\n",
      "#########.\n"
     ]
    }
   ],
   "source": [
    "def show_bitmap(bit_map, min_point, max_point):\n",
    "    for y in range(min_point.y, max_point.y + 1):\n",
    "        for x in range(min_point.x, max_point.x + 1):\n",
    "            char = bit_map[x, y]\n",
    "            print(char, end='')\n",
    "        print()\n",
    "        \n",
    "bitmap, min_point, max_point = load_map(load_input('sample.txt'))\n",
    "show_bitmap(bitmap, min_point, max_point)"
   ]
  },
  {
   "cell_type": "markdown",
   "id": "64ca1d3b-5560-4d0b-818d-ef1054ae791d",
   "metadata": {},
   "source": [
    "Sand is produced one unit at a time, and the next unit of sand is not produced until the previous unit of sand comes to rest. A unit of sand is large enough to fill one tile of air in your scan.\n",
    "\n",
    "A unit of sand always falls down one step if possible. If the tile immediately below is blocked (by rock or sand), the unit of sand attempts to instead move diagonally one step down and to the left. If that tile is blocked, the unit of sand attempts to instead move diagonally one step down and to the right. Sand keeps moving as long as it is able to do so, at each step trying to move down, then down-left, then down-right. If all three possible destinations are blocked, the unit of sand comes to rest and no longer moves, at which point the next unit of sand is created back at the source.\n",
    "\n",
    "So, drawing sand that has come to rest as o, the first unit of sand simply falls straight down and then stops:\n",
    "\n",
    "```\n",
    "......+...\n",
    "..........\n",
    "..........\n",
    "..........\n",
    "....#...##\n",
    "....#...#.\n",
    "..###...#.\n",
    "........#.\n",
    "......o.#.\n",
    "#########.\n",
    "```"
   ]
  },
  {
   "cell_type": "code",
   "execution_count": 6,
   "id": "fc598077-0b60-4afd-a59c-00770ff64326",
   "metadata": {},
   "outputs": [
    {
     "name": "stdout",
     "output_type": "stream",
     "text": [
      "......+...\n",
      "..........\n",
      "..........\n",
      "..........\n",
      "....#...##\n",
      "....#...#.\n",
      "..###...#.\n",
      "........#.\n",
      "......o.#.\n",
      "#########.\n"
     ]
    }
   ],
   "source": [
    "def add_sand(bit_map, limit):\n",
    "    x = 500; y = 0\n",
    "    while True:\n",
    "        if y > limit:\n",
    "            return None\n",
    "        if bit_map[x, y+1] == '.':\n",
    "            y = y + 1\n",
    "            continue\n",
    "        if bit_map[x-1, y+1] == '.':\n",
    "            x = x - 1\n",
    "            y = y + 1\n",
    "            continue\n",
    "        elif bit_map[x+1, y+1] == '.':\n",
    "            x = x + 1\n",
    "            y = y + 1\n",
    "            continue\n",
    "        break\n",
    "    return (x, y)\n",
    "\n",
    "bit_map, min_point, max_point = load_map(load_input('sample.txt'))\n",
    "new_point = add_sand(bit_map, max_point.y)\n",
    "bit_map[new_point] = 'o'\n",
    "show_bitmap(bit_map, min_point, max_point)\n"
   ]
  },
  {
   "cell_type": "markdown",
   "id": "8fe2b0ac-eb68-43f5-be5f-d30a038e7aba",
   "metadata": {},
   "source": [
    "The second unit of sand then falls straight down, lands on the first one, and then comes to rest to its left:\n",
    "\n",
    "```\n",
    "......+...\n",
    "..........\n",
    "..........\n",
    "..........\n",
    "....#...##\n",
    "....#...#.\n",
    "..###...#.\n",
    "........#.\n",
    ".....oo.#.\n",
    "#########.\n",
    "```"
   ]
  },
  {
   "cell_type": "code",
   "execution_count": 7,
   "id": "fec4091c-608d-4643-a3ba-1665f32ef6f9",
   "metadata": {},
   "outputs": [
    {
     "name": "stdout",
     "output_type": "stream",
     "text": [
      "......+...\n",
      "..........\n",
      "..........\n",
      "..........\n",
      "....#...##\n",
      "....#...#.\n",
      "..###...#.\n",
      "........#.\n",
      ".....oo.#.\n",
      "#########.\n"
     ]
    }
   ],
   "source": [
    "bit_map, min_point, max_point = load_map(load_input('sample.txt'))\n",
    "new_point = add_sand(bit_map, max_point.y)\n",
    "bit_map[new_point] = 'o'\n",
    "new_point = add_sand(bit_map, max_point.y)\n",
    "bit_map[new_point] = 'o'\n",
    "show_bitmap(bit_map, min_point, max_point)\n"
   ]
  },
  {
   "cell_type": "markdown",
   "id": "487aaf88-70f7-4ba7-af1f-a35383e7b32e",
   "metadata": {},
   "source": [
    "After a total of five units of sand have come to rest, they form this pattern:\n",
    "\n",
    "```\n",
    "......+...\n",
    "..........\n",
    "..........\n",
    "..........\n",
    "....#...##\n",
    "....#...#.\n",
    "..###...#.\n",
    "......o.#.\n",
    "....oooo#.\n",
    "#########.\n",
    "```"
   ]
  },
  {
   "cell_type": "code",
   "execution_count": 8,
   "id": "3d3e55ef-b82e-47b3-900c-23f899bd3bef",
   "metadata": {},
   "outputs": [
    {
     "name": "stdout",
     "output_type": "stream",
     "text": [
      "......+...\n",
      "..........\n",
      "..........\n",
      "..........\n",
      "....#...##\n",
      "....#...#.\n",
      "..###...#.\n",
      "......o.#.\n",
      "....oooo#.\n",
      "#########.\n"
     ]
    }
   ],
   "source": [
    "bit_map, min_point, max_point = load_map(load_input('sample.txt'))\n",
    "for _ in range(5):\n",
    "    new_point = add_sand(bit_map, max_point.y)\n",
    "    bit_map[new_point] = 'o'\n",
    "show_bitmap(bit_map, min_point, max_point)"
   ]
  },
  {
   "cell_type": "markdown",
   "id": "6f3b6396-0290-49ba-9836-5dd902c48a78",
   "metadata": {},
   "source": [
    "After a total of 22 units of sand:\n",
    "\n",
    "```\n",
    "......+...\n",
    "..........\n",
    "......o...\n",
    ".....ooo..\n",
    "....#ooo##\n",
    "....#ooo#.\n",
    "..###ooo#.\n",
    "....oooo#.\n",
    "...ooooo#.\n",
    "#########.\n",
    "```"
   ]
  },
  {
   "cell_type": "code",
   "execution_count": 9,
   "id": "83c60522-951a-4814-8c71-2ccdf04da5a1",
   "metadata": {},
   "outputs": [
    {
     "name": "stdout",
     "output_type": "stream",
     "text": [
      "......+...\n",
      "..........\n",
      "......o...\n",
      ".....ooo..\n",
      "....#ooo##\n",
      "....#ooo#.\n",
      "..###ooo#.\n",
      "....oooo#.\n",
      "...ooooo#.\n",
      "#########.\n"
     ]
    }
   ],
   "source": [
    "bit_map, min_point, max_point = load_map(load_input('sample.txt'))\n",
    "for _ in range(22):\n",
    "    new_point = add_sand(bit_map, max_point.y)\n",
    "    bit_map[new_point] = 'o'\n",
    "show_bitmap(bit_map, min_point, max_point)"
   ]
  },
  {
   "cell_type": "markdown",
   "id": "e0dec317-ae28-4356-a5bd-f82aa712b990",
   "metadata": {},
   "source": [
    "Finally, only two more units of sand can possibly come to rest:\n",
    "\n",
    "```\n",
    "......+...\n",
    "..........\n",
    "......o...\n",
    ".....ooo..\n",
    "....#ooo##\n",
    "...o#ooo#.\n",
    "..###ooo#.\n",
    "....oooo#.\n",
    ".o.ooooo#.\n",
    "#########.\n",
    "```"
   ]
  },
  {
   "cell_type": "code",
   "execution_count": 10,
   "id": "c1bf794e-b4ed-46b6-9733-768ac5a0fcb5",
   "metadata": {},
   "outputs": [
    {
     "name": "stdout",
     "output_type": "stream",
     "text": [
      "......+...\n",
      "..........\n",
      "......o...\n",
      ".....ooo..\n",
      "....#ooo##\n",
      "...o#ooo#.\n",
      "..###ooo#.\n",
      "....oooo#.\n",
      ".o.ooooo#.\n",
      "#########.\n"
     ]
    }
   ],
   "source": [
    "bit_map, min_point, max_point = load_map(load_input('sample.txt'))\n",
    "for _ in range(24):\n",
    "    new_point = add_sand(bit_map, max_point.y)\n",
    "    bit_map[new_point] = 'o'\n",
    "show_bitmap(bit_map, min_point, max_point)"
   ]
  },
  {
   "cell_type": "markdown",
   "id": "3e05d459-03e6-4d98-9763-930d3524d114",
   "metadata": {},
   "source": [
    "Once all 24 units of sand shown above have come to rest, all further sand flows out the bottom, falling into the endless void. Just for fun, the path any new sand takes before falling forever is shown here with ~:\n",
    "\n",
    "```\n",
    ".......+...\n",
    ".......~...\n",
    "......~o...\n",
    ".....~ooo..\n",
    "....~#ooo##\n",
    "...~o#ooo#.\n",
    "..~###ooo#.\n",
    "..~..oooo#.\n",
    ".~o.ooooo#.\n",
    "~#########.\n",
    "~..........\n",
    "~..........\n",
    "~..........\n",
    "```"
   ]
  },
  {
   "cell_type": "code",
   "execution_count": 11,
   "id": "8c915ea3-f050-44bf-8249-422e2f35cfd6",
   "metadata": {},
   "outputs": [],
   "source": [
    "bit_map, min_point, max_point = load_map(load_input('sample.txt'))\n",
    "for _ in range(24):\n",
    "    new_point = add_sand(bit_map, max_point.y)\n",
    "    bit_map[new_point] = 'o'\n",
    "assert add_sand(bit_map, max_point.y) is None"
   ]
  },
  {
   "cell_type": "markdown",
   "id": "0376d08d-4999-4580-9664-c6d8b5773a24",
   "metadata": {},
   "source": [
    "Using your scan, simulate the falling sand. How many units of sand come to rest before sand starts flowing into the abyss below?"
   ]
  },
  {
   "cell_type": "code",
   "execution_count": 12,
   "id": "3caa851b-86f0-4dc0-b812-4e9a44fa35ea",
   "metadata": {},
   "outputs": [
    {
     "name": "stderr",
     "output_type": "stream",
     "text": [
      "ic| solution_one('sample.txt'): 24\n"
     ]
    }
   ],
   "source": [
    "def solution_one(filename):\n",
    "    bit_map, min_point, max_point = load_map(load_input(filename))\n",
    "    count = 0 \n",
    "    new_point = add_sand(bit_map, max_point.y)\n",
    "    while new_point is not None:\n",
    "        bit_map[new_point] = 'o'\n",
    "        count += 1\n",
    "        new_point = add_sand(bit_map, max_point.y)\n",
    "    return count\n",
    "    \n",
    "assert ic(solution_one('sample.txt')) == 24"
   ]
  },
  {
   "cell_type": "code",
   "execution_count": 13,
   "id": "a02fbdc1-cd81-4e88-9677-aaf7da1a8d85",
   "metadata": {},
   "outputs": [
    {
     "name": "stdout",
     "output_type": "stream",
     "text": [
      "Solution part one: 808\n"
     ]
    }
   ],
   "source": [
    "sol = solution_one('input.txt')\n",
    "print(f\"Solution part one: {sol}\")"
   ]
  },
  {
   "cell_type": "markdown",
   "id": "d16023b4-441b-435d-940d-b579a7cdd921",
   "metadata": {},
   "source": [
    "## Part two\n",
    "\n",
    "You realize you misread the scan. There isn't an endless void at the bottom of the scan - there's floor, and you're standing on it!\n",
    "\n",
    "You don't have time to scan the floor, so assume the floor is an infinite horizontal line with a y coordinate equal to two plus the highest y coordinate of any point in your scan.\n",
    "\n",
    "In the example above, the highest y coordinate of any point is 9, and so the floor is at y=11. (This is as if your scan contained one extra rock path like -infinity,11 -> infinity,11.) With the added floor, the example above now looks like this:\n",
    "\n",
    "```\n",
    "        ...........+........\n",
    "        ....................\n",
    "        ....................\n",
    "        ....................\n",
    "        .........#...##.....\n",
    "        .........#...#......\n",
    "        .......###...#......\n",
    "        .............#......\n",
    "        .............#......\n",
    "        .....#########......\n",
    "        ....................\n",
    "<-- etc #################### etc -->\n",
    "```\n",
    "\n",
    "To find somewhere safe to stand, you'll need to simulate falling sand until a unit of sand comes to rest at 500,0, blocking the source entirely and stopping the flow of sand into the cave. In the example above, the situation finally looks like this after 93 units of sand come to rest:\n",
    "\n",
    "```\n",
    "............o............\n",
    "...........ooo...........\n",
    "..........ooooo..........\n",
    ".........ooooooo.........\n",
    "........oo#ooo##o........\n",
    ".......ooo#ooo#ooo.......\n",
    "......oo###ooo#oooo......\n",
    ".....oooo.oooo#ooooo.....\n",
    "....oooooooooo#oooooo....\n",
    "...ooo#########ooooooo...\n",
    "..ooooo.......ooooooooo..\n",
    "#########################\n",
    "```"
   ]
  },
  {
   "cell_type": "code",
   "execution_count": 14,
   "id": "5457b1f9-2579-4105-bcc2-8f84dfe88d6e",
   "metadata": {},
   "outputs": [
    {
     "name": "stderr",
     "output_type": "stream",
     "text": [
      "ic| x: 500, y: 0\n"
     ]
    },
    {
     "name": "stdout",
     "output_type": "stream",
     "text": [
      "..........o..........\n",
      ".........ooo.........\n",
      "........ooooo........\n",
      ".......ooooooo.......\n",
      "......oo#ooo##o......\n",
      ".....ooo#ooo#ooo.....\n",
      "....oo###ooo#oooo....\n",
      "...oooo.oooo#ooooo...\n",
      "..oooooooooo#oooooo..\n",
      ".ooo#########ooooooo.\n",
      "ooooo.......ooooooooo\n",
      "#####.......#########\n"
     ]
    },
    {
     "data": {
      "text/plain": [
       "(500, 0)"
      ]
     },
     "execution_count": 14,
     "metadata": {},
     "output_type": "execute_result"
    }
   ],
   "source": [
    "def add_sand_two(bit_map, limit):\n",
    "    x = 500; y = 0\n",
    "    while True:\n",
    "        if y > limit:\n",
    "            bit_map[x, y] = 'o'\n",
    "            bit_map[x, y+1] = '#'\n",
    "            return (x, y)\n",
    "        if bit_map[x, y+1] == '.':\n",
    "            y = y + 1\n",
    "            continue\n",
    "        if bit_map[x-1, y+1] == '.':\n",
    "            x = x - 1\n",
    "            y = y + 1\n",
    "            continue\n",
    "        elif bit_map[x+1, y+1] == '.':\n",
    "            x = x + 1\n",
    "            y = y + 1\n",
    "            continue\n",
    "        break\n",
    "    return (x, y)\n",
    "\n",
    "bit_map, min_point, max_point = load_map(load_input('sample.txt'))\n",
    "max_point = Vector(max_point.x, max_point.y + 2)\n",
    "limit = max_point.y - 1\n",
    "for _ in range(133):\n",
    "    (x, y) = add_sand_two(bit_map, limit=limit-1)\n",
    "    if min_point.x > x:\n",
    "        min_point = Vector(x, min_point.y)\n",
    "    if max_point.x < x:\n",
    "        max_point = Vector(x, max_point.y)\n",
    "    bit_map[x, y] = 'o'\n",
    "show_bitmap(bit_map, min_point, max_point)\n",
    "ic(x, y)"
   ]
  },
  {
   "cell_type": "markdown",
   "id": "4981f9c9-19ab-44a8-b566-27f7676feca6",
   "metadata": {},
   "source": [
    "Using your scan, simulate the falling sand until the source of the sand becomes blocked. How many units of sand come to rest?"
   ]
  },
  {
   "cell_type": "code",
   "execution_count": 15,
   "id": "f6003c04-ed12-4dda-8d91-5dc583d50620",
   "metadata": {},
   "outputs": [],
   "source": [
    "def solution_two(filename):\n",
    "    bit_map, min_point, max_point = load_map(load_input(filename))\n",
    "    max_point = Vector(max_point.x, max_point.y + 2)\n",
    "    limit = max_point.y - 1\n",
    "    count = 0\n",
    "    while True:\n",
    "        (x, y) = add_sand_two(bit_map, limit=limit - 1)\n",
    "        count += 1\n",
    "        if x == 500 and y == 0:\n",
    "            # show_bitmap(bit_map, min_point, max_point)\n",
    "            return count\n",
    "        if min_point.x > x:\n",
    "            min_point = Vector(x, min_point.y)\n",
    "        if max_point.x < x:\n",
    "            max_point = Vector(x, max_point.y)\n",
    "        bit_map[x, y] = 'o'"
   ]
  },
  {
   "cell_type": "code",
   "execution_count": 16,
   "id": "d7fc4e22-85d1-4db2-83d6-cdb9833ffcfd",
   "metadata": {},
   "outputs": [
    {
     "data": {
      "text/plain": [
       "93"
      ]
     },
     "execution_count": 16,
     "metadata": {},
     "output_type": "execute_result"
    }
   ],
   "source": [
    "solution_two('sample.txt')"
   ]
  },
  {
   "cell_type": "code",
   "execution_count": 17,
   "id": "c12efb16-7648-4798-acbf-2fa3a6a64439",
   "metadata": {},
   "outputs": [
    {
     "name": "stdout",
     "output_type": "stream",
     "text": [
      "Solution part teo: 26625\n"
     ]
    }
   ],
   "source": [
    "sol = solution_two('input.txt')\n",
    "print(f\"Solution part teo: {sol}\")"
   ]
  },
  {
   "cell_type": "markdown",
   "id": "cfbdc5ae-ab44-414d-95ce-94ab65b76567",
   "metadata": {},
   "source": [
    "## Extra"
   ]
  },
  {
   "cell_type": "code",
   "execution_count": 18,
   "id": "90c21b6f-2c48-412a-b8c2-c8302d8c21f4",
   "metadata": {},
   "outputs": [],
   "source": [
    "def solution_g(filename):\n",
    "    bit_map, min_point, max_point = load_map(load_input(filename))\n",
    "    max_point = Vector(max_point.x, max_point.y + 2)\n",
    "    limit = max_point.y - 1\n",
    "    while True:\n",
    "        (x, y) = add_sand_two(bit_map, limit=limit-1)\n",
    "        if x == 500 and y == 0:\n",
    "            # show_bitmap(bit_map, min_point, max_point)\n",
    "            return bit_map, min_point, max_point\n",
    "        if min_point.x > x:\n",
    "            min_point = Vector(x, min_point.y)\n",
    "        if max_point.x < x:\n",
    "            max_point = Vector(x, max_point.y)\n",
    "        bit_map[x, y] = 'o'"
   ]
  },
  {
   "cell_type": "code",
   "execution_count": 19,
   "id": "46dc5ffe-54a6-4799-ab75-7b5f48dff2d5",
   "metadata": {
    "tags": []
   },
   "outputs": [
    {
     "name": "stderr",
     "output_type": "stream",
     "text": [
      "ic| width: 24, height: 15\n"
     ]
    },
    {
     "data": {
      "image/png": "[encoded data removed]",
      "text/plain": [
       "<PIL.Image.Image image mode=RGBA size=600x375>"
      ]
     },
     "execution_count": 19,
     "metadata": {},
     "output_type": "execute_result"
    }
   ],
   "source": [
    "from show import Grid, GREEN\n",
    "\n",
    "bit_map, min_point, max_point =  solution_g('sample.txt')\n",
    "width = max_point.x - min_point.x + 4\n",
    "height = max_point.y - min_point.y + 4\n",
    "offset = Vector(min_point.x - 2, min_point.y - 2)\n",
    "ic(width, height)\n",
    "\n",
    "SCALE = 25\n",
    "g = Grid(width, height, scale=SCALE)\n",
    "\n",
    "for y in range(min_point.y-2, max_point.y+1):\n",
    "    for x in range(min_point.x-2, max_point.x+1):\n",
    "        char = bit_map[x, y]\n",
    "        if x == 500 and y == 0:\n",
    "            p = Vector(x, y) - offset\n",
    "            g.box(p*SCALE, size=16, color=(63, 170,180))\n",
    "        elif char == '#':\n",
    "            p = Vector(x, y) - offset\n",
    "            g.box(p*SCALE, size=10, color=GREEN)\n",
    "        elif char == 'o':\n",
    "            p = Vector(x, y) - offset\n",
    "            g.box(p*SCALE, size=9, color=(129, 56, 56))\n",
    "            \n",
    "g.img.save('sample.png')            \n",
    "g.img"
   ]
  },
  {
   "cell_type": "code",
   "execution_count": 20,
   "id": "9f701f9c-bc78-4228-bb20-575cd35bcf05",
   "metadata": {
    "tags": []
   },
   "outputs": [
    {
     "name": "stderr",
     "output_type": "stream",
     "text": [
      "ic| width: 336, height: 171\n"
     ]
    },
    {
     "data": {
      "image/png": "[encoded data removed]",
      "text/plain": [
       "<PIL.Image.Image image mode=RGBA size=1008x513>"
      ]
     },
     "execution_count": 20,
     "metadata": {},
     "output_type": "execute_result"
    }
   ],
   "source": [
    "from show import Grid, RED\n",
    "\n",
    "bit_map, min_point, max_point =  solution_g('input.txt')\n",
    "width = max_point.x - min_point.x + 4\n",
    "height = max_point.y - min_point.y + 4\n",
    "offset = Vector(min_point.x - 2, min_point.y - 2)\n",
    "ic(width, height)\n",
    "\n",
    "SCALE = 3\n",
    "g = Grid(width, height, scale=SCALE)\n",
    "\n",
    "for y in range(min_point.y-2, max_point.y+1):\n",
    "    for x in range(min_point.x-2, max_point.x+1):\n",
    "        char = bit_map[x, y]\n",
    "        if x == 500 and y == 0:\n",
    "            p = Vector(x, y) - offset\n",
    "            g.box(p*SCALE, size=2, color=(129, 56, 56))\n",
    "        elif char == '#':\n",
    "            p = Vector(x, y) - offset\n",
    "            g.box(p*SCALE, size=2, color=RED)\n",
    "        elif char == 'o':\n",
    "            p = Vector(x, y) - offset\n",
    "            g.box(p*SCALE, size=2, color=(63, 170,180))\n",
    "            \n",
    "g.img.save('input.png')\n",
    "g.img"
   ]
  }
 ],
 "metadata": {
  "kernelspec": {
   "display_name": "Python 3 (ipykernel)",
   "language": "python",
   "name": "python3"
  },
  "language_info": {
   "codemirror_mode": {
    "name": "ipython",
    "version": 3
   },
   "file_extension": ".py",
   "mimetype": "text/x-python",
   "name": "python",
   "nbconvert_exporter": "python",
   "pygments_lexer": "ipython3",
   "version": "3.10.6"
  }
 },
 "nbformat": 4,
 "nbformat_minor": 5
}
