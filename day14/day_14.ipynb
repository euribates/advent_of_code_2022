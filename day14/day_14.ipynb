{
 "cells": [
  {
   "cell_type": "markdown",
   "id": "cdce9de2-ac68-4209-bccb-8c85e12c10f6",
   "metadata": {},
   "source": [
    "## Day 14: Day 14: Regolith Reservoir\n",
    "\n",
    "The distress signal leads you to a giant waterfall! Actually, hang on - the signal seems like it's coming from the waterfall itself, and that doesn't make any sense. However, you do notice a little path that leads behind the waterfall.\n",
    "\n",
    "Correction: the distress signal leads you behind a giant waterfall! There seems to be a large cave system here, and the signal definitely leads further inside.\n",
    "\n",
    "As you begin to make your way deeper underground, you feel the ground rumble for a moment. Sand begins pouring into the cave! If you don't quickly figure out where the sand is going, you could quickly become trapped!\n",
    "\n",
    "Fortunately, your familiarity with analyzing the path of falling material will come in handy here. You scan a two-dimensional vertical slice of the cave above you (your puzzle input) and discover that it is mostly air with structures made of rock.\n",
    "\n",
    "Your scan traces the path of each solid rock structure and reports the x,y coordinates that form the shape of the path, where x represents distance to the right and y represents distance down. Each path appears as a single line of text in your scan. After the first point of each path, each point indicates the end of a straight horizontal or vertical line to be drawn from the previous point. For example:\n",
    "\n",
    "```\n",
    "498,4 -> 498,6 -> 496,6\n",
    "503,4 -> 502,4 -> 502,9 -> 494,9\n",
    "```"
   ]
  },
  {
   "cell_type": "code",
   "execution_count": 1,
   "id": "440b0627-6c0e-4a89-a225-ccf14c657d1c",
   "metadata": {},
   "outputs": [],
   "source": [
    "import pytest\n",
    "from icecream import ic\n",
    "from vectors import Vector"
   ]
  },
  {
   "cell_type": "code",
   "execution_count": 3,
   "id": "56355a0f-f2da-46ca-b78d-ef2a9054e484",
   "metadata": {},
   "outputs": [
    {
     "name": "stdout",
     "output_type": "stream",
     "text": [
      "498,4 -> 498,6 -> 496,6\n",
      "503,4 -> 502,4 -> 502,9 -> 494,9\n"
     ]
    }
   ],
   "source": [
    "def load_input(filename):\n",
    "    with open(filename, 'r') as f_input:\n",
    "        for line in f_input:\n",
    "            yield [\n",
    "                Vector(*[int(num) for num in point.split(',')])\n",
    "                for point in line.split(' -> ')\n",
    "            ]\n",
    "\n",
    "for points in load_input('sample.txt'):\n",
    "    print(' -> '.join(\n",
    "        f'{point.x},{point.y}'\n",
    "        for point in points\n",
    "    ))\n",
    "    "
   ]
  },
  {
   "cell_type": "markdown",
   "id": "6f21265a-9f6e-417a-b8b8-4da1029d0029",
   "metadata": {},
   "source": [
    "This scan means that there are two paths of rock; the first path consists of two straight lines, and the second path consists of three straight lines. (Specifically, the first path consists of a line of rock from 498,4 through 498,6 and another line of rock from 498,6 through 496,6.)\n",
    "\n",
    "The sand is pouring into the cave from point 500,0.\n",
    "\n",
    "Drawing rock as #, air as ., and the source of the sand as +, this becomes:\n",
    "\n",
    "```\n",
    "  4     5  5\n",
    "  9     0  0\n",
    "  4     0  3\n",
    "0 ......+...\n",
    "1 ..........\n",
    "2 ..........\n",
    "3 ..........\n",
    "4 ....#...##\n",
    "5 ....#...#.\n",
    "6 ..###...#.\n",
    "7 ........#.\n",
    "8 ........#.\n",
    "9 #########.\n",
    "```"
   ]
  },
  {
   "cell_type": "code",
   "execution_count": 18,
   "id": "7ef9443f-23ef-49b9-a401-8d25848b7c24",
   "metadata": {},
   "outputs": [
    {
     "name": "stderr",
     "output_type": "stream",
     "text": [
      "ic| min_x: 494\n",
      "ic| max_x: 503\n"
     ]
    }
   ],
   "source": [
    "import itertools\n",
    "from show import Grid\n",
    "\n",
    "g = Grid(1024, 512)\n",
    "all_x = set([\n",
    "    point.x\n",
    "    for points in load_input('sample.txt')\n",
    "    for point in points\n",
    "])\n",
    "min_x = min(all_x)\n",
    "max_x = max(all_x)\n",
    "assert ic(min_x) == 494\n",
    "assert ic(max_x) == 503"
   ]
  },
  {
   "cell_type": "code",
   "execution_count": 13,
   "id": "749816ef-e28c-4cc7-a778-ca12181accf3",
   "metadata": {},
   "outputs": [
    {
     "name": "stderr",
     "output_type": "stream",
     "text": [
      "ic| all_x: {498, 508}, min_x: 498, max_x: 508\n",
      "ic| offset: Vector(x=498, y=15)\n",
      "    width: 20\n",
      "    height: 20\n",
      "    min_x: 498\n",
      "    max_x: 508\n",
      "    min_y: 15\n",
      "    max_y: 16\n"
     ]
    },
    {
     "data": {
      "text/plain": [
       "(Vector(x=498, y=15), 20, 20, 498, 508, 15, 16)"
      ]
     },
     "execution_count": 13,
     "metadata": {},
     "output_type": "execute_result"
    }
   ],
   "source": [
    "width = max_x - min_x + 10\n",
    "all_y = [\n",
    "    point.y\n",
    "    for points in load_input('sample.txt')\n",
    "    for point in points\n",
    "\n",
    "]\n",
    "min_y = min(all_y)\n",
    "max_y = max(all_y)\n",
    "height = max_x - min_x + 10\n",
    "\n",
    "offset = Vector(min_x, min_y)\n",
    "\n",
    "ic(offset, width, height, min_x, max_x, min_y, max_y)"
   ]
  },
  {
   "cell_type": "code",
   "execution_count": 5,
   "id": "46dc5ffe-54a6-4799-ab75-7b5f48dff2d5",
   "metadata": {},
   "outputs": [
    {
     "data": {
      "image/png": "[encoded data removed]",
      "text/plain": [
       "<PIL.Image.Image image mode=RGBA size=494x494>"
      ]
     },
     "execution_count": 5,
     "metadata": {},
     "output_type": "execute_result"
    }
   ],
   "source": [
    "from show import Grid\n",
    "\n",
    "scale = 512 // width\n",
    "g = Grid(width, height, scale=scale)\n",
    "for points in load_input('sample.txt'):\n",
    "    for (start, end) in itertools.pairwise(points):\n",
    "        g.line(start - offset, end-offset)\n",
    "g.img"
   ]
  },
  {
   "cell_type": "code",
   "execution_count": 6,
   "id": "08dcde15-1177-4c46-9db7-8a586fa5a71d",
   "metadata": {},
   "outputs": [
    {
     "data": {
      "image/png": "[encoded data removed]",
      "text/plain": [
       "<PIL.Image.Image image mode=RGBA size=494x494>"
      ]
     },
     "execution_count": 6,
     "metadata": {},
     "output_type": "execute_result"
    }
   ],
   "source": [
    "from show import Grid\n",
    "\n",
    "scale = 512 // width\n",
    "g = Grid(width, height, scale=scale)\n",
    "for points in load_input('input.txt'):\n",
    "    for (start, end) in itertools.pairwise(points):\n",
    "        g.line(start - offset, end-offset)\n",
    "g.img"
   ]
  },
  {
   "cell_type": "markdown",
   "id": "f88117dd-209f-453e-bf30-155ef4f593ce",
   "metadata": {},
   "source": [
    "Sand is produced one unit at a time, and the next unit of sand is not produced until the previous unit of sand comes to rest. A unit of sand is large enough to fill one tile of air in your scan.\n",
    "\n",
    "A unit of sand always falls down one step if possible. If the tile immediately below is blocked (by rock or sand), the unit of sand attempts to instead move diagonally one step down and to the left. If that tile is blocked, the unit of sand attempts to instead move diagonally one step down and to the right. Sand keeps moving as long as it is able to do so, at each step trying to move down, then down-left, then down-right. If all three possible destinations are blocked, the unit of sand comes to rest and no longer moves, at which point the next unit of sand is created back at the source.\n",
    "\n",
    "So, drawing sand that has come to rest as o, the first unit of sand simply falls straight down and then stops:\n",
    "\n",
    "......+...\n",
    "..........\n",
    "..........\n",
    "..........\n",
    "....#...##\n",
    "....#...#.\n",
    "..###...#.\n",
    "........#.\n",
    "......o.#.\n",
    "#########.\n",
    "\n",
    "The second unit of sand then falls straight down, lands on the first one, and then comes to rest to its left:\n",
    "\n",
    "......+...\n",
    "..........\n",
    "..........\n",
    "..........\n",
    "....#...##\n",
    "....#...#.\n",
    "..###...#.\n",
    "........#.\n",
    ".....oo.#.\n",
    "#########.\n",
    "\n",
    "After a total of five units of sand have come to rest, they form this pattern:\n",
    "\n",
    "......+...\n",
    "..........\n",
    "..........\n",
    "..........\n",
    "....#...##\n",
    "....#...#.\n",
    "..###...#.\n",
    "......o.#.\n",
    "....oooo#.\n",
    "#########.\n",
    "\n",
    "After a total of 22 units of sand:\n",
    "\n",
    "......+...\n",
    "..........\n",
    "......o...\n",
    ".....ooo..\n",
    "....#ooo##\n",
    "....#ooo#.\n",
    "..###ooo#.\n",
    "....oooo#.\n",
    "...ooooo#.\n",
    "#########.\n",
    "\n",
    "Finally, only two more units of sand can possibly come to rest:\n",
    "\n",
    "......+...\n",
    "..........\n",
    "......o...\n",
    ".....ooo..\n",
    "....#ooo##\n",
    "...o#ooo#.\n",
    "..###ooo#.\n",
    "....oooo#.\n",
    ".o.ooooo#.\n",
    "#########.\n",
    "\n",
    "Once all 24 units of sand shown above have come to rest, all further sand flows out the bottom, falling into the endless void. Just for fun, the path any new sand takes before falling forever is shown here with ~:\n",
    "\n",
    ".......+...\n",
    ".......~...\n",
    "......~o...\n",
    ".....~ooo..\n",
    "....~#ooo##\n",
    "...~o#ooo#.\n",
    "..~###ooo#.\n",
    "..~..oooo#.\n",
    ".~o.ooooo#.\n",
    "~#########.\n",
    "~..........\n",
    "~..........\n",
    "~..........\n",
    "\n",
    "Using your scan, simulate the falling sand. How many units of sand come to rest before sand starts flowing into the abyss below?"
   ]
  },
  {
   "cell_type": "code",
   "execution_count": null,
   "id": "8d2eb4d5-5795-4caf-a3da-626a593d9034",
   "metadata": {},
   "outputs": [],
   "source": [
    "..."
   ]
  },
  {
   "cell_type": "code",
   "execution_count": null,
   "id": "d00c8451-153d-4cbe-b0eb-169cf48ffd05",
   "metadata": {},
   "outputs": [],
   "source": [
    "sol = solution_one('input.txt')\n",
    "print(f\"Solution part one: {sol}\")"
   ]
  }
 ],
 "metadata": {
  "kernelspec": {
   "display_name": "Python 3 (ipykernel)",
   "language": "python",
   "name": "python3"
  },
  "language_info": {
   "codemirror_mode": {
    "name": "ipython",
    "version": 3
   },
   "file_extension": ".py",
   "mimetype": "text/x-python",
   "name": "python",
   "nbconvert_exporter": "python",
   "pygments_lexer": "ipython3",
   "version": "3.10.6"
  }
 },
 "nbformat": 4,
 "nbformat_minor": 5
}
